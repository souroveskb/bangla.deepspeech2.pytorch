{
 "cells": [
  {
   "cell_type": "code",
   "execution_count": 1,
   "id": "2d094355-fcec-4491-a51c-a1eb8fea346c",
   "metadata": {},
   "outputs": [],
   "source": [
    "# this is just a jupyter things\n",
    "%reload_ext autoreload\n",
    "%autoreload 2\n",
    "%matplotlib inline"
   ]
  },
  {
   "cell_type": "code",
   "execution_count": 18,
   "id": "2d08701f-66e5-4b9b-84f6-ba27a627703e",
   "metadata": {},
   "outputs": [],
   "source": [
    "# import basic library\n",
    "import json\n",
    "import os\n",
    "import random\n",
    "import time"
   ]
  },
  {
   "cell_type": "code",
   "execution_count": 20,
   "id": "00ae81e6",
   "metadata": {},
   "outputs": [],
   "source": [
    "# import deep learning related\n",
    "import torch\n",
    "import torchaudio"
   ]
  },
  {
   "cell_type": "markdown",
   "id": "4fd458b1-995c-4477-81be-3e8cd8d41dce",
   "metadata": {},
   "source": [
    "### Audio-Spectogram parser and Spectogram dataset module"
   ]
  },
  {
   "cell_type": "code",
   "execution_count": 21,
   "id": "5be9c191-2fb8-48f7-b609-708191bc9eb4",
   "metadata": {},
   "outputs": [],
   "source": [
    "import math\n",
    "from tempfile import NamedTemporaryFile\n",
    "import librosa\n",
    "import numpy as np\n",
    "import scipy.signal\n",
    "import soundfile as sf\n",
    "import sox\n",
    "from torch.utils.data import Dataset, Sampler, DataLoader\n",
    "\n",
    "windows = {\n",
    "    'hamming': scipy.signal.hamming,\n",
    "    'hann': scipy.signal.hann,\n",
    "    'blackman': scipy.signal.blackman,\n",
    "    'bartlett': scipy.signal.bartlett\n",
    "}"
   ]
  },
  {
   "cell_type": "code",
   "execution_count": 22,
   "id": "78ade96f-7d24-4041-b7cb-5d585f59522c",
   "metadata": {},
   "outputs": [],
   "source": [
    "class AudioParser(object):\n",
    "    def parse_transcript(self, transcript_path):\n",
    "        raise NotImplementedError\n",
    "\n",
    "    def parse_audio(self, audio_path):\n",
    "        raise NotImplementedError"
   ]
  },
  {
   "cell_type": "code",
   "execution_count": 23,
   "id": "c6b451c5",
   "metadata": {},
   "outputs": [],
   "source": [
    "class SpectrogramParser(AudioParser):\n",
    "    def __init__(self, audio_conf):\n",
    "        super(SpectrogramParser, self).__init__()\n",
    "        self.window_stride = audio_conf['window_stride']\n",
    "        self.window_size = audio_conf['window_size']\n",
    "        self.sample_rate = audio_conf['sample_rate']\n",
    "        self.window = windows.get(audio_conf['window'], windows['hamming'])\n",
    "\n",
    "    def parse_audio(self, audio_path):\n",
    "        y = load_audio(audio_path)\n",
    "        n_fft = int(self.sample_rate * self.window_size)\n",
    "        win_length = n_fft\n",
    "        hop_length = int(self.sample_rate * self.window_stride)\n",
    "\n",
    "        # STFT\n",
    "        D = librosa.stft(y, n_fft=n_fft, hop_length=hop_length,\n",
    "                         win_length=win_length, window=self.window)\n",
    "        spect, phase = librosa.magphase(D)\n",
    "        # S = log(S+1)\n",
    "        spect = np.log1p(spect)\n",
    "        spect = torch.FloatTensor(spect)\n",
    "        \n",
    "        #normalized version\n",
    "#         mean = spect.mean()\n",
    "#         std = spect.std()\n",
    "#         spect.add_(-mean)\n",
    "#         spect.div_(std)\n",
    "\n",
    "        return spect\n",
    "\n",
    "    def parse_transcript(self, transcript_path):\n",
    "        raise NotImplementedError"
   ]
  },
  {
   "cell_type": "code",
   "execution_count": 24,
   "id": "cef29ec4",
   "metadata": {},
   "outputs": [],
   "source": [
    "# load audio\n",
    "from scipy.io.wavfile import read\n",
    "import librosa\n",
    "import librosa.display # need this for ver 0.5.0+\n",
    "import numpy as np\n",
    "import matplotlib.pyplot as plt\n",
    "\n",
    "def load_audio(path):\n",
    "\n",
    "    try:\n",
    "        sample_rate, sound = read(path)\n",
    "    except:\n",
    "        print(\"path: \", path)\n",
    "    \n",
    "    sound = sound.astype('float32') / 32767  # normalize audio\n",
    "    if len(sound.shape) > 1:\n",
    "        if sound.shape[1] == 1:\n",
    "            sound = sound.squeeze()\n",
    "        else:\n",
    "            sound = sound.mean(axis=1)  # multiple channels, average\n",
    "    return sound\n",
    "\n",
    "# parse audio \n",
    "\n",
    "sample_rate = 16000\n",
    "window_size = .02\n",
    "window_stride = .01\n",
    "window = 'hamming'\n",
    "# window = 'hann'"
   ]
  },
  {
   "cell_type": "code",
   "execution_count": 25,
   "id": "9fcf7bf0",
   "metadata": {},
   "outputs": [],
   "source": [
    "class SpectrogramDataset(Dataset, SpectrogramParser):\n",
    "    def __init__(self, audio_conf, manifest_filepath, labels):\n",
    "        ids = self._parse_input(manifest_filepath)\n",
    "        self.ids = ids\n",
    "        self.size = len(ids)\n",
    "        self.labels_map = dict([(labels[i], i) for i in range(len(labels))])\n",
    "        super(SpectrogramDataset, self).__init__(audio_conf)\n",
    "\n",
    "    def _parse_input(self, input_path):\n",
    "        ids = []\n",
    "        if os.path.isdir(input_path):\n",
    "            for wav_path in Path(input_path).rglob('*.wav'):\n",
    "                transcript_path = str(wav_path).replace('/wav/', '/txt/').replace('.wav', '.txt')\n",
    "                ids.append((wav_path, transcript_path))\n",
    "        else:\n",
    "            with open(input_path) as f:\n",
    "                manifest = json.load(f)\n",
    "                for sample in manifest['samples']:\n",
    "                    wav_path = os.path.join(manifest['root_path'], sample['wav_path'])\n",
    "                    transcript_path = os.path.join(manifest['root_path'], sample['transcript_path'])\n",
    "                    ids.append((wav_path, transcript_path))\n",
    "        return ids\n",
    "    \n",
    "    def __getitem__(self, index):\n",
    "        sample = self.ids[index]\n",
    "        audio_path, transcript_path = sample[0], sample[1]\n",
    "        spect = self.parse_audio(audio_path)\n",
    "        transcript = self.parse_transcript(transcript_path)\n",
    "        return spect, transcript\n",
    "    \n",
    "    def parse_transcript(self, transcript_path):\n",
    "        with open(transcript_path, 'r', encoding='utf8') as transcript_file:\n",
    "            transcript = transcript_file.read().replace('\\n', '')\n",
    "        transcript = list(filter(None, [self.labels_map.get(x) for x in list(transcript)]))\n",
    "        return transcript\n",
    "\n",
    "    def __len__(self):\n",
    "        return self.size"
   ]
  },
  {
   "cell_type": "code",
   "execution_count": null,
   "id": "695c7bae",
   "metadata": {},
   "outputs": [],
   "source": []
  },
  {
   "cell_type": "code",
   "execution_count": 26,
   "id": "867333e3",
   "metadata": {},
   "outputs": [],
   "source": [
    "class DSRandomSampler(Sampler):\n",
    "\n",
    "    def __init__(self, dataset, batch_size=1, start_index=0):\n",
    "        super().__init__(data_source=dataset)\n",
    "\n",
    "        self.dataset = dataset\n",
    "        self.start_index = start_index\n",
    "        self.batch_size = batch_size\n",
    "        ids = list(range(len(self.dataset)))\n",
    "        self.bins = [ids[i:i + self.batch_size] for i in range(0, len(ids), self.batch_size)]\n",
    "\n",
    "    def __iter__(self):\n",
    "        # deterministically shuffle based on epoch\n",
    "        g = torch.Generator()\n",
    "        g.manual_seed(self.epoch)\n",
    "        indices = (\n",
    "            torch.randperm(len(self.bins) - self.start_index, generator=g)\n",
    "                .add(self.start_index)\n",
    "                .tolist()\n",
    "        )\n",
    "        for x in indices:\n",
    "            batch_ids = self.bins[x]\n",
    "            np.random.shuffle(batch_ids)\n",
    "            yield batch_ids\n",
    "\n",
    "    def __len__(self):\n",
    "        return len(self.bins) - self.start_index\n",
    "\n",
    "    def set_epoch(self, epoch):\n",
    "        self.epoch = epoch\n",
    "\n",
    "    def reset_training_step(self, training_step):\n",
    "        self.start_index = training_step"
   ]
  },
  {
   "cell_type": "code",
   "execution_count": null,
   "id": "449c11db",
   "metadata": {},
   "outputs": [],
   "source": []
  },
  {
   "cell_type": "code",
   "execution_count": 27,
   "id": "ac1054a8",
   "metadata": {},
   "outputs": [],
   "source": [
    "raw_inputs= []\n",
    "\n",
    "def _collate_fn(batch):\n",
    "\n",
    "    def func(p):\n",
    "        return p[0].size(1)\n",
    "\n",
    "    batch = sorted(batch, key=lambda sample: sample[0].size(1), reverse=True)\n",
    "    longest_sample = max(batch, key=func)[0]\n",
    "    freq_size = longest_sample.size(0)\n",
    "    minibatch_size = len(batch)\n",
    "    max_seqlength = longest_sample.size(1)\n",
    "    \n",
    "    inputs = torch.zeros(minibatch_size, 1, freq_size, max_seqlength)\n",
    "    input_percentages = torch.FloatTensor(minibatch_size)\n",
    "    target_sizes = torch.IntTensor(minibatch_size)\n",
    "    targets = []\n",
    "    for x in range(minibatch_size):\n",
    "        sample = batch[x]\n",
    "        tensor = sample[0]\n",
    "        target = sample[1]\n",
    "        seq_length = tensor.size(1)\n",
    "        inputs[x][0].narrow(1, 0, seq_length).copy_(tensor)\n",
    "        input_percentages[x] = seq_length / float(max_seqlength)\n",
    "        target_sizes[x] = len(target)\n",
    "        targets.extend(target)\n",
    "    targets = torch.IntTensor(targets)\n",
    "    return inputs, targets, input_percentages, target_sizes"
   ]
  },
  {
   "cell_type": "code",
   "execution_count": 28,
   "id": "e5b376f6",
   "metadata": {},
   "outputs": [],
   "source": [
    "class AudioDataLoader(DataLoader):\n",
    "    def __init__(self, *args, **kwargs):\n",
    "        super(AudioDataLoader, self).__init__(*args, **kwargs)\n",
    "        self.collate_fn = _collate_fn\n",
    "        "
   ]
  },
  {
   "cell_type": "code",
   "execution_count": null,
   "id": "e2f98308",
   "metadata": {},
   "outputs": [],
   "source": []
  },
  {
   "cell_type": "code",
   "execution_count": 29,
   "id": "00d42722",
   "metadata": {},
   "outputs": [],
   "source": [
    "# audio conf\n",
    "audio_conf = dict(sample_rate=16000,\n",
    "                  window_size=.02,\n",
    "                  window_stride=.01,\n",
    "                  window='hamming')\n",
    "\n",
    "\n",
    "# labels to map token to index\n",
    "labels = [\n",
    "    '_',\n",
    "    '!',\n",
    " '\"',\n",
    " \"'\",\n",
    " ',',\n",
    " '-',\n",
    " '.',\n",
    " '/',\n",
    " ':',\n",
    " ';',\n",
    " '?',\n",
    " '।',\n",
    " '॥',\n",
    " 'ঁ',\n",
    " 'ং',\n",
    " 'ঃ',\n",
    " 'অ',\n",
    " 'আ',\n",
    " 'ই',\n",
    " 'ঈ',\n",
    " 'উ',\n",
    " 'ঊ',\n",
    " 'ঋ',\n",
    " 'এ',\n",
    " 'ঐ',\n",
    " 'ও',\n",
    " 'ঔ',\n",
    " 'ক',\n",
    " 'খ',\n",
    " 'গ',\n",
    " 'ঘ',\n",
    " 'ঙ',\n",
    " 'চ',\n",
    " 'ছ',\n",
    " 'জ',\n",
    " 'ঝ',\n",
    " 'ঞ',\n",
    " 'ট',\n",
    " 'ঠ',\n",
    " 'ড',\n",
    " 'ঢ',\n",
    " 'ণ',\n",
    " 'ত',\n",
    " 'থ',\n",
    " 'দ',\n",
    " 'ধ',\n",
    " 'ন',\n",
    " 'প',\n",
    " 'ফ',\n",
    " 'ব',\n",
    " 'ভ',\n",
    " 'ম',\n",
    " 'য',\n",
    " 'র',\n",
    " 'ল',\n",
    " 'শ',\n",
    " 'ষ',\n",
    " 'স',\n",
    " 'হ',\n",
    " '়',\n",
    " 'া',\n",
    " 'ি',\n",
    " 'ী',\n",
    " 'ু',\n",
    " 'ূ',\n",
    " 'ৃ',\n",
    " 'ে',\n",
    " 'ৈ',\n",
    " 'ো',\n",
    " 'ৌ',\n",
    " '্',\n",
    " 'ৎ',\n",
    " 'ৗ',\n",
    " 'ড়',\n",
    " 'ঢ়',\n",
    " 'য়',\n",
    " 'ৰ',\n",
    " '৵',\n",
    " '৷',\n",
    " '–',\n",
    " '—',\n",
    " '‘',\n",
    " '’',\n",
    " '‚',\n",
    " '“',\n",
    " '”',\n",
    " '…',\n",
    " ' ',\n",
    "  ]"
   ]
  },
  {
   "cell_type": "code",
   "execution_count": 30,
   "id": "6f5e39e3",
   "metadata": {},
   "outputs": [
    {
     "data": {
      "text/plain": [
       "88"
      ]
     },
     "execution_count": 30,
     "metadata": {},
     "output_type": "execute_result"
    }
   ],
   "source": [
    "len(labels)"
   ]
  },
  {
   "cell_type": "code",
   "execution_count": 31,
   "id": "ad38d134",
   "metadata": {},
   "outputs": [],
   "source": [
    "# manifest_txt = \"/content/manifest.txt\"\n",
    "manifest_json = \"./data2/train/manifest.json\"\n",
    "valid_manifest_json = \"./data2/valid/manifest.json\"\n",
    "training_data = SpectrogramDataset(audio_conf, manifest_json, labels)\n",
    "valid_data = SpectrogramDataset(audio_conf, valid_manifest_json, labels)"
   ]
  },
  {
   "cell_type": "code",
   "execution_count": null,
   "id": "10ca6a86",
   "metadata": {},
   "outputs": [],
   "source": []
  },
  {
   "cell_type": "code",
   "execution_count": null,
   "id": "5e8cfcc1",
   "metadata": {},
   "outputs": [],
   "source": []
  },
  {
   "cell_type": "code",
   "execution_count": 32,
   "id": "1654cc09",
   "metadata": {},
   "outputs": [],
   "source": [
    "# sampler to use bins\n",
    "train_sampler = DSRandomSampler(dataset=training_data,\n",
    "                                batch_size=5,\n",
    "                                start_index=0)\n",
    "# valid_sampler = DSRandomSampler(dataset=valid_data,\n",
    "#                                 batch_size=5,\n",
    "#                                 start_index=0)"
   ]
  },
  {
   "cell_type": "code",
   "execution_count": 33,
   "id": "5b19d5f9",
   "metadata": {},
   "outputs": [],
   "source": [
    "train_loader = AudioDataLoader(dataset=training_data,\n",
    "                               num_workers=1,\n",
    "                               batch_sampler=train_sampler)\n",
    "\n",
    "valid_loader = AudioDataLoader(dataset=valid_data,\n",
    "                               num_workers=1,\n",
    "                               batch_size=5)"
   ]
  },
  {
   "cell_type": "code",
   "execution_count": 17,
   "id": "e08b7705",
   "metadata": {},
   "outputs": [],
   "source": [
    "# data = next(train_loader)\n",
    "# data"
   ]
  },
  {
   "cell_type": "code",
   "execution_count": 34,
   "id": "c0e2b056",
   "metadata": {},
   "outputs": [],
   "source": [
    "labels_map = dict([(labels[i], i) for i in range(len(labels))])\n",
    "def parse_transcript(transcript_path):\n",
    "    with open(transcript_path, 'r', encoding='utf8') as transcript_file:\n",
    "        transcript = transcript_file.read().replace('\\n', '')\n",
    "    transcript = list(filter(None, [labels_map.get(x) for x in list(transcript)]))\n",
    "    return transcript"
   ]
  },
  {
   "cell_type": "code",
   "execution_count": 123,
   "id": "1699d7f2",
   "metadata": {},
   "outputs": [],
   "source": [
    "# transcript = parse_transcript(\"common_voice_bn_31741347.txt\")"
   ]
  },
  {
   "cell_type": "code",
   "execution_count": null,
   "id": "d06c39c1",
   "metadata": {},
   "outputs": [],
   "source": []
  },
  {
   "cell_type": "code",
   "execution_count": 124,
   "id": "dfbd44a4",
   "metadata": {},
   "outputs": [],
   "source": [
    "# epoch = args.epochs\n",
    "# state.set_epoch(epoch=epoch)\n",
    "# train_sampler.set_epoch(epoch=epoch)\n",
    "# train_sampler.reset_training_step(training_step=state.training_step)\n",
    "# # idx, (data)  = enumerate(train_loader, start=state.training_step)\n",
    "# state.set_training_step(training_step=1)\n",
    "# inputs, targets, input_percentages, target_sizes = train_loader"
   ]
  },
  {
   "cell_type": "code",
   "execution_count": 20,
   "id": "0f1ce60d",
   "metadata": {},
   "outputs": [
    {
     "ename": "NameError",
     "evalue": "name 'TrainingState' is not defined",
     "output_type": "error",
     "traceback": [
      "\u001b[0;31m---------------------------------------------------------------------------\u001b[0m",
      "\u001b[0;31mNameError\u001b[0m                                 Traceback (most recent call last)",
      "Cell \u001b[0;32mIn[20], line 2\u001b[0m\n\u001b[1;32m      1\u001b[0m \u001b[38;5;66;03m# use TrainingState to track training state\u001b[39;00m\n\u001b[0;32m----> 2\u001b[0m state \u001b[38;5;241m=\u001b[39m \u001b[43mTrainingState\u001b[49m(model\u001b[38;5;241m=\u001b[39mmodel)\n\u001b[1;32m      3\u001b[0m state\u001b[38;5;241m.\u001b[39minit_results_tracking(epochs\u001b[38;5;241m=\u001b[39margs\u001b[38;5;241m.\u001b[39mepochs)\n\u001b[1;32m      4\u001b[0m criterion \u001b[38;5;241m=\u001b[39m nn\u001b[38;5;241m.\u001b[39mCTCLoss(blank\u001b[38;5;241m=\u001b[39mlabels\u001b[38;5;241m.\u001b[39mindex(\u001b[38;5;124m'\u001b[39m\u001b[38;5;124m_\u001b[39m\u001b[38;5;124m'\u001b[39m), zero_infinity\u001b[38;5;241m=\u001b[39m\u001b[38;5;28;01mFalse\u001b[39;00m)\n",
      "\u001b[0;31mNameError\u001b[0m: name 'TrainingState' is not defined"
     ]
    }
   ],
   "source": [
    "# use TrainingState to track training state\n",
    "state = TrainingState(model=model)\n",
    "state.init_results_tracking(epochs=args.epochs)\n",
    "criterion = nn.CTCLoss(blank=labels.index('_'), zero_infinity=False)"
   ]
  },
  {
   "cell_type": "code",
   "execution_count": null,
   "id": "9e00662b",
   "metadata": {},
   "outputs": [],
   "source": []
  },
  {
   "cell_type": "code",
   "execution_count": 137,
   "id": "1146f3a8",
   "metadata": {},
   "outputs": [],
   "source": [
    "epoch = args.epochs\n",
    "saved_inps = []\n",
    "saved_inpercentage = []\n",
    "state.set_epoch(epoch=epoch)\n",
    "train_sampler.set_epoch(epoch=epoch)\n",
    "train_sampler.reset_training_step(training_step=state.training_step)\n",
    "for idx, (data) in enumerate(train_loader, start=state.training_step):\n",
    "    state.set_training_step(training_step=idx)\n",
    "    inputs, targets, input_percentages, target_sizes = data\n",
    "#     print(f'Batch shape {inputs.shape}')\n",
    "    saved_inps.append(inputs)\n",
    "    saved_inpercentage.append(input_percentages)\n",
    "    input_sizes = input_percentages.mul_(int(inputs.size(3))).int()\n",
    "    # measure data loading time\n",
    "#     data_time.update(time.time())\n",
    "    inputs = inputs.to(device)"
   ]
  },
  {
   "cell_type": "code",
   "execution_count": 138,
   "id": "cfc23c62",
   "metadata": {},
   "outputs": [],
   "source": [
    "epoch = args.epochs\n",
    "saved_inps = []\n",
    "saved_inpercentage = []\n",
    "state.set_epoch(epoch=epoch)\n",
    "# test_sampler.set_epoch(epoch=epoch)\n",
    "# test_sampler.reset_training_step(training_step=state.training_step)\n",
    "for idx, (data) in enumerate(valid_loader, len(valid_loader)):\n",
    "    state.set_training_step(training_step=idx)\n",
    "    inputs, targets, input_percentages, target_sizes = data\n",
    "    saved_inps.append(inputs)\n",
    "    saved_inpercentage.append(input_percentages)\n",
    "    input_sizes = input_percentages.mul_(int(inputs.size(3))).int()\n",
    "    # measure data loading time\n",
    "    data_time.update(time.time())\n",
    "    inputs = inputs.to(device)"
   ]
  },
  {
   "cell_type": "code",
   "execution_count": null,
   "id": "2bb56166",
   "metadata": {},
   "outputs": [],
   "source": [
    "len(valid_loader)"
   ]
  },
  {
   "cell_type": "code",
   "execution_count": null,
   "id": "b2b5e021",
   "metadata": {},
   "outputs": [],
   "source": [
    "saved_inps[0] = saved_inps[0].to(device)"
   ]
  },
  {
   "cell_type": "code",
   "execution_count": 129,
   "id": "352ca74d",
   "metadata": {},
   "outputs": [
    {
     "data": {
      "text/plain": [
       "tensor([114, 113,  87,  26,  33], dtype=torch.int32)"
      ]
     },
     "execution_count": 129,
     "metadata": {},
     "output_type": "execute_result"
    }
   ],
   "source": [
    "target_sizes"
   ]
  },
  {
   "cell_type": "code",
   "execution_count": 130,
   "id": "027be4f9",
   "metadata": {},
   "outputs": [
    {
     "data": {
      "text/plain": [
       "torch.Size([373])"
      ]
     },
     "execution_count": 130,
     "metadata": {},
     "output_type": "execute_result"
    }
   ],
   "source": [
    "targets.size()"
   ]
  },
  {
   "cell_type": "code",
   "execution_count": 135,
   "id": "d9108dd9",
   "metadata": {},
   "outputs": [
    {
     "data": {
      "text/plain": [
       "torch.Size([458, 5, 88])"
      ]
     },
     "execution_count": 135,
     "metadata": {},
     "output_type": "execute_result"
    }
   ],
   "source": [
    "out, output_sizes = model(inputs, input_percentages)\n",
    "out = out.transpose(0, 1)  # TxNxH\n",
    "out.shape"
   ]
  },
  {
   "cell_type": "code",
   "execution_count": 136,
   "id": "bf357434",
   "metadata": {},
   "outputs": [
    {
     "data": {
      "text/plain": [
       "tensor([458, 436, 271, 170,  44], dtype=torch.int32)"
      ]
     },
     "execution_count": 136,
     "metadata": {},
     "output_type": "execute_result"
    }
   ],
   "source": [
    "output_sizes"
   ]
  },
  {
   "cell_type": "code",
   "execution_count": 200,
   "id": "634e10ca",
   "metadata": {},
   "outputs": [
    {
     "data": {
      "text/plain": [
       "tensor(14.1523, device='cuda:0', grad_fn=<MeanBackward0>)"
      ]
     },
     "execution_count": 200,
     "metadata": {},
     "output_type": "execute_result"
    }
   ],
   "source": [
    "float_out = out.float()  # ensure float32 for loss\n",
    "loss = criterion(float_out, targets, output_sizes, target_sizes).to(device)\n",
    "loss"
   ]
  },
  {
   "cell_type": "code",
   "execution_count": 201,
   "id": "50705833",
   "metadata": {},
   "outputs": [],
   "source": [
    "loss = loss / inputs.size(0)  # average the loss by minibatch\n",
    "loss_value = loss.item()"
   ]
  },
  {
   "cell_type": "code",
   "execution_count": 202,
   "id": "e2fb5ed0",
   "metadata": {},
   "outputs": [],
   "source": [
    "valid_loss, error = check_loss(loss, loss_value)"
   ]
  },
  {
   "cell_type": "code",
   "execution_count": 204,
   "id": "92018620",
   "metadata": {},
   "outputs": [
    {
     "data": {
      "text/plain": [
       "True"
      ]
     },
     "execution_count": 204,
     "metadata": {},
     "output_type": "execute_result"
    }
   ],
   "source": [
    "loss"
   ]
  },
  {
   "cell_type": "code",
   "execution_count": null,
   "id": "002f6a41",
   "metadata": {},
   "outputs": [],
   "source": []
  },
  {
   "cell_type": "code",
   "execution_count": null,
   "id": "aa1f17ac",
   "metadata": {},
   "outputs": [],
   "source": []
  },
  {
   "cell_type": "code",
   "execution_count": 14,
   "id": "a3c23330-fd28-45bd-9ca9-2a93cafd36c7",
   "metadata": {},
   "outputs": [],
   "source": [
    "import Levenshtein as Lev\n",
    "import torch\n",
    "from six.moves import xrange\n",
    "\n",
    "class Decoder(object):\n",
    "\n",
    "    def __init__(self, labels, blank_index=0):\n",
    "        self.labels = labels\n",
    "        self.int_to_char = dict([(i, c) for (i, c) in enumerate(labels)])\n",
    "        self.blank_index = blank_index\n",
    "        space_index = len(labels)  # To prevent errors in decode, we add an out of bounds index for the space\n",
    "        if ' ' in labels:\n",
    "            space_index = labels.index(' ')\n",
    "        self.space_index = space_index\n",
    "\n",
    "    def wer(self, s1, s2):\n",
    "\n",
    "        # build mapping of words to integers\n",
    "        b = set(s1.split() + s2.split())\n",
    "        word2char = dict(zip(b, range(len(b))))\n",
    "\n",
    "        # map the words to a char array (Levenshtein packages only accepts\n",
    "        # strings)\n",
    "        w1 = [chr(word2char[w]) for w in s1.split()]\n",
    "        w2 = [chr(word2char[w]) for w in s2.split()]\n",
    "\n",
    "        return Lev.distance(''.join(w1), ''.join(w2))\n",
    "\n",
    "    def cer(self, s1, s2):\n",
    "     \n",
    "        s1, s2, = s1.replace(' ', ''), s2.replace(' ', '')\n",
    "        return Lev.distance(s1, s2)\n",
    "\n",
    "    def decode(self, probs, sizes=None):\n",
    "       \n",
    "        raise NotImplementedError\n",
    "\n",
    "        \n",
    "        \n",
    "        \n",
    "        \n",
    "        \n",
    "class GreedyDecoder(Decoder):\n",
    "    def __init__(self, labels, blank_index=0):\n",
    "        super(GreedyDecoder, self).__init__(labels, blank_index)\n",
    "\n",
    "    def convert_to_strings(self, sequences, sizes=None, remove_repetitions=False, return_offsets=False):\n",
    "        strings = []\n",
    "        offsets = [] if return_offsets else None\n",
    "        for x in xrange(len(sequences)):\n",
    "            seq_len = sizes[x] if sizes is not None else len(sequences[x])\n",
    "            string, string_offsets = self.process_string(sequences[x], seq_len, remove_repetitions)\n",
    "            strings.append([string])  # We only return one path\n",
    "            if return_offsets:\n",
    "                offsets.append([string_offsets])\n",
    "        if return_offsets:\n",
    "            return strings, offsets\n",
    "        else:\n",
    "            return strings\n",
    "\n",
    "    def process_string(self, sequence, size, remove_repetitions=False):\n",
    "        string = ''\n",
    "        offsets = []\n",
    "        for i in range(size):\n",
    "            char = self.int_to_char[sequence[i].item()]\n",
    "            if char != self.int_to_char[self.blank_index]:\n",
    "                # if this char is a repetition and remove_repetitions=true, then skip\n",
    "                if remove_repetitions and i != 0 and char == self.int_to_char[sequence[i - 1].item()]:\n",
    "                    pass\n",
    "                elif char == self.labels[self.space_index]:\n",
    "                    string += ' '\n",
    "                    offsets.append(i)\n",
    "                else:\n",
    "                    string = string + char\n",
    "                    offsets.append(i)\n",
    "        return string, torch.tensor(offsets, dtype=torch.int)\n",
    "\n",
    "    def decode(self, probs, sizes=None):\n",
    "       \n",
    "        _, max_probs = torch.max(probs, 2)\n",
    "        strings, offsets = self.convert_to_strings(max_probs.view(max_probs.size(0), max_probs.size(1)), sizes,\n",
    "                                                   remove_repetitions=True, return_offsets=True)\n",
    "        return strings, offsets"
   ]
  },
  {
   "cell_type": "markdown",
   "id": "2b0a9814-05c7-4f63-b1d6-fda606bfab7d",
   "metadata": {},
   "source": [
    "Define DeepSpeech, and supported_rnns\n",
    "This is equivalent of from model import DeepSpeech, supported_rnns"
   ]
  },
  {
   "cell_type": "code",
   "execution_count": null,
   "id": "0597cc98",
   "metadata": {},
   "outputs": [],
   "source": []
  },
  {
   "cell_type": "code",
   "execution_count": null,
   "id": "6a2ec1e3",
   "metadata": {},
   "outputs": [],
   "source": []
  },
  {
   "cell_type": "code",
   "execution_count": null,
   "id": "aa2539db",
   "metadata": {},
   "outputs": [],
   "source": []
  },
  {
   "cell_type": "code",
   "execution_count": null,
   "id": "acc9d74a",
   "metadata": {},
   "outputs": [],
   "source": []
  },
  {
   "cell_type": "code",
   "execution_count": null,
   "id": "64a78efc",
   "metadata": {},
   "outputs": [],
   "source": []
  },
  {
   "cell_type": "code",
   "execution_count": null,
   "id": "41a68631",
   "metadata": {},
   "outputs": [],
   "source": []
  },
  {
   "cell_type": "code",
   "execution_count": null,
   "id": "6c886373",
   "metadata": {},
   "outputs": [],
   "source": []
  },
  {
   "cell_type": "code",
   "execution_count": null,
   "id": "e41cade4",
   "metadata": {},
   "outputs": [],
   "source": []
  },
  {
   "cell_type": "code",
   "execution_count": null,
   "id": "fb7c96d0",
   "metadata": {},
   "outputs": [],
   "source": []
  },
  {
   "cell_type": "code",
   "execution_count": null,
   "id": "f49e5a24",
   "metadata": {},
   "outputs": [],
   "source": []
  },
  {
   "cell_type": "code",
   "execution_count": null,
   "id": "f8ef377b",
   "metadata": {},
   "outputs": [],
   "source": []
  },
  {
   "cell_type": "code",
   "execution_count": null,
   "id": "83d7a252",
   "metadata": {},
   "outputs": [],
   "source": []
  },
  {
   "cell_type": "code",
   "execution_count": null,
   "id": "3cd62ba5",
   "metadata": {},
   "outputs": [],
   "source": []
  },
  {
   "cell_type": "code",
   "execution_count": null,
   "id": "15318578",
   "metadata": {},
   "outputs": [],
   "source": []
  },
  {
   "cell_type": "code",
   "execution_count": null,
   "id": "876767f5",
   "metadata": {},
   "outputs": [],
   "source": []
  },
  {
   "cell_type": "code",
   "execution_count": null,
   "id": "0bcec1e0",
   "metadata": {},
   "outputs": [],
   "source": []
  },
  {
   "cell_type": "code",
   "execution_count": null,
   "id": "e775d45a",
   "metadata": {},
   "outputs": [],
   "source": []
  },
  {
   "cell_type": "code",
   "execution_count": 11,
   "id": "2921d75b-8f3a-4c0c-a116-897d6e068071",
   "metadata": {},
   "outputs": [],
   "source": [
    "import math\n",
    "from collections import OrderedDict\n",
    "\n",
    "import torch\n",
    "import torch.nn as nn\n",
    "import torch.nn.functional as F\n",
    "class InferenceBatchSoftmax(nn.Module):\n",
    "    def forward(self, input_):\n",
    "        if not self.training:\n",
    "            return F.softmax(input_, dim=-1)\n",
    "        else:\n",
    "            return input_\n",
    "#             return F.log_softmax(input_, -1)\n",
    "        \n",
    "class BatchRNN(nn.Module):\n",
    "    def __init__(self, input_size, hidden_size, rnn_type=nn.LSTM, bidirectional=False, batch_norm=True):\n",
    "        super(BatchRNN, self).__init__()\n",
    "        self.input_size = input_size\n",
    "        self.hidden_size = hidden_size\n",
    "        self.bidirectional = bidirectional\n",
    "        self.batch_norm = SequenceWise(nn.BatchNorm1d(input_size)) if batch_norm else None\n",
    "        self.rnn = rnn_type(input_size=input_size, hidden_size=hidden_size,\n",
    "                            bidirectional=bidirectional, bias=True)\n",
    "        self.num_directions = 2 if bidirectional else 1\n",
    "\n",
    "    def flatten_parameters(self):\n",
    "        self.rnn.flatten_parameters()\n",
    "\n",
    "    def forward(self, x, output_lengths):\n",
    "        if self.batch_norm is not None:\n",
    "            x = self.batch_norm(x)\n",
    "        x = nn.utils.rnn.pack_padded_sequence(x, output_lengths)\n",
    "        x, h = self.rnn(x)\n",
    "        x, _ = nn.utils.rnn.pad_packed_sequence(x)\n",
    "        if self.bidirectional:\n",
    "            x = x.view(x.size(0), x.size(1), 2, -1).sum(2).view(x.size(0), x.size(1), -1)  # (TxNxH*2) -> (TxNxH) by sum\n",
    "        return x\n",
    "    \n",
    "class SequenceWise(nn.Module):\n",
    "    def __init__(self, module):\n",
    "        \n",
    "        super(SequenceWise, self).__init__()\n",
    "        self.module = module\n",
    "\n",
    "    def forward(self, x):\n",
    "        t, n = x.size(0), x.size(1)\n",
    "        x = x.view(t * n, -1)\n",
    "        x = self.module(x)\n",
    "        x = x.view(t, n, -1)\n",
    "        return x\n",
    "\n",
    "    def __repr__(self):\n",
    "        tmpstr = self.__class__.__name__ + ' (\\n'\n",
    "        tmpstr += self.module.__repr__()\n",
    "        tmpstr += ')'\n",
    "        return tmpstr\n",
    "    \n",
    "class MaskConv(nn.Module):\n",
    "    def __init__(self, seq_module):\n",
    "        \n",
    "        super(MaskConv, self).__init__()\n",
    "        self.seq_module = seq_module\n",
    "\n",
    "    def forward(self, x, lengths):\n",
    "        \n",
    "        for module in self.seq_module:\n",
    "            x = module(x)\n",
    "            mask = torch.BoolTensor(x.size()).fill_(0)\n",
    "            if x.is_cuda:\n",
    "                mask = mask.cuda()\n",
    "            for i, length in enumerate(lengths):\n",
    "                length = length.item()\n",
    "                if (mask[i].size(2) - length) > 0:\n",
    "                    mask[i].narrow(2, length, mask[i].size(2) - length).fill_(1)\n",
    "            x = x.masked_fill(mask, 0)\n",
    "        return x, lengths\n",
    "    \n",
    "    \n",
    "class DeepSpeech(nn.Module):\n",
    "    def __init__(self, rnn_type, labels, rnn_hidden_size, nb_layers, audio_conf,\n",
    "                 bidirectional, context=20):\n",
    "        super(DeepSpeech, self).__init__()\n",
    "\n",
    "        self.hidden_size = rnn_hidden_size\n",
    "        self.hidden_layers = nb_layers\n",
    "        self.rnn_type = rnn_type\n",
    "        self.audio_conf = audio_conf\n",
    "        self.labels = labels\n",
    "        self.bidirectional = bidirectional\n",
    "\n",
    "        sample_rate = self.audio_conf[\"sample_rate\"]\n",
    "        window_size = self.audio_conf[\"window_size\"]\n",
    "        num_classes = len(self.labels)\n",
    "\n",
    "        self.conv = MaskConv(nn.Sequential(\n",
    "            nn.Conv2d(1, 32, kernel_size=(41, 11), stride=(2, 2), padding=(20, 5)),\n",
    "            nn.BatchNorm2d(32),\n",
    "            nn.Hardtanh(0, 20, inplace=True),\n",
    "            nn.Conv2d(32, 32, kernel_size=(21, 11), stride=(2, 1), padding=(10, 5)),\n",
    "            nn.BatchNorm2d(32),\n",
    "            nn.Hardtanh(0, 20, inplace=True)\n",
    "        ))\n",
    "        # Based on above convolutions and spectrogram size using conv formula (W - F + 2P)/ S+1\n",
    "        rnn_input_size = int(math.floor((sample_rate * window_size) / 2) + 1)\n",
    "        rnn_input_size = int(math.floor(rnn_input_size + 2 * 20 - 41) / 2 + 1)\n",
    "        rnn_input_size = int(math.floor(rnn_input_size + 2 * 10 - 21) / 2 + 1)\n",
    "        rnn_input_size *= 32\n",
    "\n",
    "        rnns = []\n",
    "        rnn = BatchRNN(input_size=rnn_input_size, hidden_size=rnn_hidden_size, rnn_type=rnn_type,\n",
    "                       bidirectional=bidirectional, batch_norm=False)\n",
    "        rnns.append(('0', rnn))\n",
    "        for x in range(nb_layers - 1):\n",
    "            rnn = BatchRNN(input_size=rnn_hidden_size, hidden_size=rnn_hidden_size, rnn_type=rnn_type,\n",
    "                           bidirectional=bidirectional)\n",
    "            rnns.append(('%d' % (x + 1), rnn))\n",
    "        self.rnns = nn.Sequential(OrderedDict(rnns))\n",
    "        self.lookahead = nn.Sequential(\n",
    "            # consider adding batch norm?\n",
    "            Lookahead(rnn_hidden_size, context=context),\n",
    "            nn.Hardtanh(0, 20, inplace=True)\n",
    "        ) if not bidirectional else None\n",
    "\n",
    "        fully_connected = nn.Sequential(\n",
    "            nn.BatchNorm1d(rnn_hidden_size),\n",
    "            nn.Linear(rnn_hidden_size, num_classes, bias=False)\n",
    "        )\n",
    "        self.fc = nn.Sequential(\n",
    "            SequenceWise(fully_connected),\n",
    "        )\n",
    "        self.inference_softmax = InferenceBatchSoftmax()\n",
    "\n",
    "    def forward(self, x, lengths):\n",
    "        lengths = lengths.cpu().int()\n",
    "        output_lengths = self.get_seq_lens(lengths)\n",
    "        x, _ = self.conv(x, output_lengths)\n",
    "\n",
    "        sizes = x.size()\n",
    "        x = x.view(sizes[0], sizes[1] * sizes[2], sizes[3])  # Collapse feature dimension\n",
    "        x = x.transpose(1, 2).transpose(0, 1).contiguous()  # TxNxH\n",
    "\n",
    "        for rnn in self.rnns:\n",
    "            x = rnn(x, output_lengths)\n",
    "\n",
    "        if not self.bidirectional:  # no need for lookahead layer in bidirectional\n",
    "            x = self.lookahead(x)\n",
    "\n",
    "        x = self.fc(x)\n",
    "        x = x.transpose(0, 1)\n",
    "        # identity in training mode, softmax in eval mode\n",
    "        x = self.inference_softmax(x)\n",
    "        return x, output_lengths\n",
    "\n",
    "    def get_seq_lens(self, input_length):\n",
    "        \"\"\"\n",
    "        Given a 1D Tensor or Variable containing integer sequence lengths, return a 1D tensor or variable\n",
    "        containing the size sequences that will be output by the network.\n",
    "        :param input_length: 1D Tensor\n",
    "        :return: 1D Tensor scaled by model\n",
    "        \"\"\"\n",
    "        seq_len = input_length\n",
    "        for m in self.conv.modules():\n",
    "            if type(m) == nn.modules.conv.Conv2d:\n",
    "                seq_len = ((seq_len + 2 * m.padding[1] - m.dilation[1] * (m.kernel_size[1] - 1) - 1) / m.stride[1] + 1)\n",
    "#         print(seq_len.int(), \"  \" , input_length)\n",
    "        return seq_len.int()\n",
    "\n",
    "    @classmethod\n",
    "    def load_model(cls, path):\n",
    "        package = torch.load(path, map_location=lambda storage, loc: storage)\n",
    "        model = DeepSpeech.load_model_package(package)\n",
    "        return model\n",
    "\n",
    "    @classmethod\n",
    "    def load_model_package(cls, package):\n",
    "        model = cls(rnn_hidden_size=package['hidden_size'],\n",
    "                    nb_layers=package['hidden_layers'],\n",
    "                    labels=package['labels'],\n",
    "                    audio_conf=package['audio_conf'],\n",
    "                    rnn_type=supported_rnns[package['rnn_type']],\n",
    "                    bidirectional=package.get('bidirectional', True))\n",
    "        model.load_state_dict(package['state_dict'])\n",
    "        return model\n",
    "\n",
    "    def serialize_state(self):\n",
    "        return {\n",
    "            'hidden_size': self.hidden_size,\n",
    "            'hidden_layers': self.hidden_layers,\n",
    "            'rnn_type': supported_rnns_inv.get(self.rnn_type, self.rnn_type.__name__.lower()),\n",
    "            'audio_conf': self.audio_conf,\n",
    "            'labels': self.labels,\n",
    "            'state_dict': self.state_dict(),\n",
    "            'bidirectional': self.bidirectional,\n",
    "        }\n",
    "\n",
    "    @staticmethod\n",
    "    def get_param_size(model):\n",
    "        params = 0\n",
    "        for p in model.parameters():\n",
    "            tmp = 1\n",
    "            for x in p.size():\n",
    "                tmp *= x\n",
    "            params += tmp\n",
    "        return params\n",
    "supported_rnns = {\n",
    "    'lstm': nn.LSTM,\n",
    "    'rnn': nn.RNN,\n",
    "    'gru': nn.GRU\n",
    "}\n",
    "supported_rnns_inv = dict((v, k) for k, v in supported_rnns.items())\n",
    " "
   ]
  },
  {
   "cell_type": "markdown",
   "id": "8da46905-0fde-4195-9870-c86c6b22792b",
   "metadata": {},
   "source": [
    "Define TrainingState\n",
    "\n",
    "\n",
    "this is equivalent of from state import TrainingState"
   ]
  },
  {
   "cell_type": "code",
   "execution_count": 27,
   "id": "dce0496f-3e57-4f58-8843-34a4dfe3fb84",
   "metadata": {},
   "outputs": [],
   "source": [
    "import torch\n",
    "def remove_parallel_wrapper(model):\n",
    "    \n",
    "    # Take care of distributed/data-parallel wrapper\n",
    "    model_no_wrapper = model.module if hasattr(model, \"module\") else model\n",
    "    return model_no_wrapper\n",
    "class ResultState:\n",
    "    def __init__(self,\n",
    "                 loss_results,\n",
    "                 wer_results,\n",
    "                 cer_results):\n",
    "        self.loss_results = loss_results\n",
    "        self.wer_results = wer_results\n",
    "        self.cer_results = cer_results\n",
    "\n",
    "    def add_results(self,\n",
    "                    epoch,\n",
    "                    loss_result,\n",
    "                    wer_result,\n",
    "                    cer_result):\n",
    "        self.loss_results[epoch] = loss_result\n",
    "        self.wer_results[epoch] = wer_result\n",
    "        self.cer_results[epoch] = cer_result\n",
    "\n",
    "    def serialize_state(self):\n",
    "        return {\n",
    "            'loss_results': self.loss_results,\n",
    "            'wer_results': self.wer_results,\n",
    "            'cer_results': self.cer_results\n",
    "        }"
   ]
  },
  {
   "cell_type": "code",
   "execution_count": 28,
   "id": "2cd650db",
   "metadata": {},
   "outputs": [],
   "source": [
    "class TrainingState:\n",
    "    def __init__(self,\n",
    "                 model,\n",
    "                 result_state=None,\n",
    "                 optim_state=None,\n",
    "                 amp_state=None,\n",
    "                 best_wer=None,\n",
    "                 avg_loss=0,\n",
    "                 epoch=0,\n",
    "                 training_step=0):\n",
    "      \n",
    "        self.model = model\n",
    "        self.result_state = result_state\n",
    "        self.optim_state = optim_state\n",
    "        self.amp_state = amp_state\n",
    "        self.best_wer = best_wer\n",
    "        self.avg_loss = avg_loss\n",
    "        self.epoch = epoch\n",
    "        self.training_step = training_step\n",
    "\n",
    "    def track_optim_state(self, optimizer):\n",
    "        self.optim_state = optimizer.state_dict()\n",
    "\n",
    "    def track_amp_state(self, amp):\n",
    "        self.amp_state = amp.state_dict()\n",
    "\n",
    "    def init_results_tracking(self, epochs):\n",
    "        self.result_state = ResultState(loss_results=torch.IntTensor(epochs),\n",
    "                                        wer_results=torch.IntTensor(epochs),\n",
    "                                        cer_results=torch.IntTensor(epochs))\n",
    "\n",
    "    def add_results(self,\n",
    "                    epoch,\n",
    "                    loss_result,\n",
    "                    wer_result,\n",
    "                    cer_result):\n",
    "        self.result_state.add_results(epoch=epoch,\n",
    "                                      loss_result=loss_result,\n",
    "                                      wer_result=wer_result,\n",
    "                                      cer_result=cer_result)\n",
    "\n",
    "    def init_finetune_states(self, epochs):\n",
    "       \n",
    "        self.init_results_tracking(epochs)\n",
    "        self._reset_amp_state()\n",
    "        self._reset_optim_state()\n",
    "        self._reset_epoch()\n",
    "        self.reset_training_step()\n",
    "        self._reset_best_wer()\n",
    "\n",
    "    def serialize_state(self, epoch, iteration):\n",
    "        model = remove_parallel_wrapper(self.model)\n",
    "        model_dict = model.serialize_state()\n",
    "        training_dict = self._serialize_training_state(epoch=epoch,\n",
    "                                                       iteration=iteration)\n",
    "        results_dict = self.result_state.serialize_state()\n",
    "        # Ensure flat structure for backwards compatibility\n",
    "        state_dict = {**model_dict, **training_dict, **results_dict}  # Combine dicts\n",
    "        return state_dict\n",
    "\n",
    "    def _serialize_training_state(self, epoch, iteration):\n",
    "        return {\n",
    "            'optim_dict': self.optim_state,\n",
    "            'amp': self.amp_state,\n",
    "            'avg_loss': self.avg_loss,\n",
    "            'best_wer': self.best_wer,\n",
    "            'epoch': epoch + 1,  # increment for readability\n",
    "            'iteration': iteration,\n",
    "        }\n",
    "\n",
    "    @classmethod\n",
    "    def load_state(cls, state_path):\n",
    "        print(\"Loading state from model %s\" % state_path)\n",
    "        state = torch.load(state_path, map_location=lambda storage, loc: storage)\n",
    "        model = DeepSpeech.load_model_package(state)\n",
    "        optim_state = state['optim_dict']\n",
    "        amp_state = state['amp']\n",
    "        epoch = int(state.get('epoch', 1)) - 1  # Index start at 0 for training\n",
    "        training_step = state.get('iteration', None)\n",
    "        if training_step is None:\n",
    "            epoch += 1  # We saved model after epoch finished, start at the next epoch.\n",
    "            training_step = 0\n",
    "        else:\n",
    "            training_step += 1\n",
    "        avg_loss = int(state.get('avg_loss', 0))\n",
    "        loss_results = state['loss_results']\n",
    "        cer_results = state['cer_results']\n",
    "        wer_results = state['wer_results']\n",
    "        best_wer = state.get('best_wer')\n",
    "\n",
    "        result_state = ResultState(loss_results=loss_results,\n",
    "                                   cer_results=cer_results,\n",
    "                                   wer_results=wer_results)\n",
    "        return cls(optim_state=optim_state,\n",
    "                   amp_state=amp_state,\n",
    "                   model=model,\n",
    "                   result_state=result_state,\n",
    "                   best_wer=best_wer,\n",
    "                   avg_loss=avg_loss,\n",
    "                   epoch=epoch,\n",
    "                   training_step=training_step)\n",
    "\n",
    "    def set_epoch(self, epoch):\n",
    "        self.epoch = epoch\n",
    "\n",
    "    def set_best_wer(self, wer):\n",
    "        self.best_wer = wer\n",
    "\n",
    "    def set_training_step(self, training_step):\n",
    "        self.training_step = training_step\n",
    "\n",
    "    def reset_training_step(self):\n",
    "        self.training_step = 0\n",
    "\n",
    "    def reset_avg_loss(self):\n",
    "        self.avg_loss = 0\n",
    "\n",
    "    def _reset_amp_state(self):\n",
    "        self.amp_state = None\n",
    "\n",
    "    def _reset_optim_state(self):\n",
    "        self.optim_state = None\n",
    "\n",
    "    def _reset_epoch(self):\n",
    "        self.epoch = 0\n",
    "\n",
    "    def _reset_best_wer(self):\n",
    "        self.best_wer = None"
   ]
  },
  {
   "cell_type": "markdown",
   "id": "915d33ad-e2fa-475f-8c7e-8f0ab72fef34",
   "metadata": {},
   "source": [
    "Define evaluate"
   ]
  },
  {
   "cell_type": "code",
   "execution_count": 29,
   "id": "292163f3-bb3a-4ba1-aa4a-cca2620e3bf7",
   "metadata": {},
   "outputs": [],
   "source": [
    "import torch\n",
    "from tqdm import tqdm\n",
    "\n",
    "def evaluate(test_loader, device, model, decoder, target_decoder, save_output=None, verbose=False, half=False):\n",
    "    model.eval()\n",
    "    total_cer, total_wer, num_tokens, num_chars = 0, 0, 0, 0\n",
    "    output_data = []\n",
    "    for i, (data) in tqdm(enumerate(test_loader), total=len(test_loader)):\n",
    "        \n",
    "        inputs, targets, input_percentages, target_sizes = data\n",
    "\n",
    "        input_sizes = input_percentages.mul_(int(inputs.size(3))).int()\n",
    "        inputs = inputs.to(device)\n",
    "        if half:\n",
    "            inputs = inputs.half()\n",
    "        # unflatten targets\n",
    "        split_targets = []\n",
    "        offset = 0\n",
    "        for size in target_sizes:\n",
    "            split_targets.append(targets[offset:offset + size])\n",
    "            offset += size\n",
    "\n",
    "        out, output_sizes = model(inputs, input_sizes)\n",
    "\n",
    "        decoded_output, _ = decoder.decode(out, output_sizes)\n",
    "        target_strings = target_decoder.convert_to_strings(split_targets)\n",
    "\n",
    "        if save_output is not None:\n",
    "            # add output to data array, and continue\n",
    "            output_data.append((out.cpu(), output_sizes, target_strings))\n",
    "        for x in range(len(target_strings)):\n",
    "            transcript, reference = decoded_output[x][0], target_strings[x][0]\n",
    "            wer_inst = decoder.wer(transcript, reference)\n",
    "            cer_inst = decoder.cer(transcript, reference)\n",
    "            total_wer += wer_inst\n",
    "            total_cer += cer_inst\n",
    "            num_tokens += len(reference.split())\n",
    "            num_chars += len(reference.replace(' ', ''))\n",
    "            if verbose:\n",
    "                print(\"Ref:\", reference.lower())\n",
    "                print(\"Hyp:\", transcript.lower())\n",
    "                print(\"WER:\", float(wer_inst) / len(reference.split()),\n",
    "                      \"CER:\", float(cer_inst) / len(reference.replace(' ', '')), \"\\n\")\n",
    "    wer = float(total_wer) / num_tokens\n",
    "    cer = float(total_cer) / num_chars\n",
    "    return wer * 100, cer * 100, output_data"
   ]
  },
  {
   "cell_type": "markdown",
   "id": "b35eaa50-9541-4285-830e-4e6101c1e418",
   "metadata": {},
   "source": [
    "Define checkloss"
   ]
  },
  {
   "cell_type": "code",
   "execution_count": 30,
   "id": "153dbf6b-d4af-455d-b334-733b1dfbde0f",
   "metadata": {},
   "outputs": [],
   "source": [
    "import os\n",
    "from pathlib import Path\n",
    "import torch\n",
    "def check_loss(loss, loss_value):\n",
    "    \n",
    "    loss_valid = True\n",
    "    error = ''\n",
    "    if loss_value == float(\"inf\") or loss_value == float(\"-inf\"):\n",
    "        loss_valid = False\n",
    "        error = \"WARNING: received an inf loss\"\n",
    "    elif torch.isnan(loss).sum() > 0:\n",
    "        loss_valid = False\n",
    "        error = 'WARNING: received a nan loss, setting loss value to 0'\n",
    "    elif loss_value < 0:\n",
    "        loss_valid = False\n",
    "        error = \"WARNING: received a negative loss\"\n",
    "    return loss_valid, error\n",
    "\n"
   ]
  },
  {
   "cell_type": "code",
   "execution_count": 31,
   "id": "1b0473f0-5bdb-4f05-8950-f709a8ba423e",
   "metadata": {},
   "outputs": [],
   "source": [
    "\n",
    "class CheckpointHandler:\n",
    "    def __init__(self,\n",
    "                 save_folder: str,\n",
    "                 best_val_model_name: str,\n",
    "                 checkpoint_per_iteration: int,\n",
    "                 save_n_recent_models: int):\n",
    "        self.save_folder = Path(save_folder)\n",
    "        self.save_folder.mkdir(parents=True, exist_ok=True)  # Ensure save folder exists\n",
    "        self.checkpoint_prefix = 'deepspeech_checkpoint_'  # TODO do we want to expose this?\n",
    "        self.checkpoint_prefix_path = self.save_folder / self.checkpoint_prefix\n",
    "        self.best_val_path = self.save_folder / best_val_model_name\n",
    "        self.checkpoint_per_iteration = checkpoint_per_iteration\n",
    "        self.save_n_recent_models = save_n_recent_models\n",
    "\n",
    "    def find_latest_checkpoint(self):\n",
    "       \n",
    "        paths = list(self.save_folder.rglob(self.checkpoint_prefix + '*'))\n",
    "        if paths:\n",
    "            paths.sort(key=os.path.getctime)\n",
    "            latest_checkpoint_path = paths[-1]\n",
    "            return latest_checkpoint_path\n",
    "        else:\n",
    "            return None\n",
    "\n",
    "    def check_and_delete_oldest_checkpoint(self):\n",
    "        paths = list(self.save_folder.rglob(self.checkpoint_prefix + '*'))\n",
    "        if paths and len(paths) >= self.save_n_recent_models:\n",
    "            paths.sort(key=os.path.getctime)\n",
    "            print(\"Deleting old checkpoint %s\" % str(paths[0]))\n",
    "            os.remove(paths[0])\n",
    "\n",
    "    def save_checkpoint_model(self, epoch, state, i=None):\n",
    "        if self.save_n_recent_models > 0:\n",
    "            self.check_and_delete_oldest_checkpoint()\n",
    "        model_path = self._create_checkpoint_path(epoch=epoch,\n",
    "                                                  i=i)\n",
    "        print(\"Saving checkpoint model to %s\" % model_path)\n",
    "        torch.save(obj=state.serialize_state(epoch=epoch,\n",
    "                                             iteration=i),\n",
    "                   f=model_path)\n",
    "\n",
    "    def save_iter_checkpoint_model(self, epoch, state, i):\n",
    "        if self.checkpoint_per_iteration > 0 and i > 0 and (i + 1) % self.checkpoint_per_iteration == 0:\n",
    "            self.save_checkpoint_model(epoch=epoch,\n",
    "                                       state=state,\n",
    "                                       i=i)\n",
    "\n",
    "    def save_best_model(self, epoch, state):\n",
    "        print(\"Found better validated model, saving to %s\" % self.best_val_path)\n",
    "        torch.save(obj=state.serialize_state(epoch=epoch,\n",
    "                                             iteration=None),\n",
    "                   f=self.best_val_path)\n",
    "\n",
    "    def _create_checkpoint_path(self, epoch, i=None):\n",
    "       \n",
    "        if i:\n",
    "            checkpoint_path = str(self.checkpoint_prefix_path) + 'epoch_%d_iter_%d.pth' % (epoch + 1, i + 1)\n",
    "        else:\n",
    "            checkpoint_path = str(self.checkpoint_prefix_path) + 'epoch_%d.pth' % (epoch + 1)\n",
    "        return checkpoint_path"
   ]
  },
  {
   "cell_type": "code",
   "execution_count": null,
   "id": "55d11ec3-2c02-43be-8be3-d3d165194cdd",
   "metadata": {},
   "outputs": [],
   "source": []
  },
  {
   "cell_type": "code",
   "execution_count": 41,
   "id": "9d4f1307-ee76-4edd-9265-258864689c87",
   "metadata": {},
   "outputs": [],
   "source": [
    "# see audio example \n",
    "import IPython.display\n",
    "\n",
    "# let's visualize it\n",
    "\n",
    "def visualization_spectrogram(mel_spectrogram, title):\n",
    "    \"\"\"visualizing result of SpecAugment\n",
    "    # Arguments:\n",
    "      mel_spectrogram(ndarray): mel_spectrogram to visualize.\n",
    "      title(String): plot figure's title\n",
    "    \"\"\"\n",
    "    \n",
    "    # Show mel-spectrogram using librosa's specshow.\n",
    "    plt.figure(figsize=(10, 4))\n",
    "    # librosa.display.specshow(librosa.power_to_db(mel_spectrogram[0, :, :], ref=np.max), y_axis='mel', fmax=8000, x_axis='time')\n",
    "    librosa.display.specshow(librosa.power_to_db(mel_spectrogram, ref=np.max), y_axis='mel', fmax=8000, x_axis='time')\n",
    "\n",
    "    # plt.colorbar(format='%+2.0f dB')\n",
    "    plt.title(title)\n",
    "    plt.tight_layout()\n",
    "    plt.show()"
   ]
  },
  {
   "cell_type": "code",
   "execution_count": 51,
   "id": "d4d7df27-8152-4601-9dee-98e69f8756f6",
   "metadata": {},
   "outputs": [],
   "source": [
    "spectparser = SpectrogramParser(audio_conf)"
   ]
  },
  {
   "cell_type": "code",
   "execution_count": 52,
   "id": "f7cd8d66",
   "metadata": {},
   "outputs": [],
   "source": [
    "audio_path_test = os.path.join(\"./save_example_default.wav\")\n",
    "spects= spectparser.parse_audio(audio_path_test)"
   ]
  },
  {
   "cell_type": "code",
   "execution_count": 53,
   "id": "14a8126f",
   "metadata": {},
   "outputs": [
    {
     "data": {
      "image/png": "[encoded data removed]",
      "text/plain": [
       "<Figure size 1000x400 with 1 Axes>"
      ]
     },
     "metadata": {},
     "output_type": "display_data"
    }
   ],
   "source": [
    "visualization_spectrogram(spects, 'spectrogram of example.wav')"
   ]
  },
  {
   "cell_type": "code",
   "execution_count": null,
   "id": "3965d7fa",
   "metadata": {},
   "outputs": [],
   "source": []
  },
  {
   "cell_type": "code",
   "execution_count": null,
   "id": "9c892d50",
   "metadata": {},
   "outputs": [],
   "source": []
  },
  {
   "cell_type": "code",
   "execution_count": null,
   "id": "51a26b41",
   "metadata": {},
   "outputs": [],
   "source": []
  },
  {
   "cell_type": "code",
   "execution_count": 28,
   "id": "5316e79d",
   "metadata": {},
   "outputs": [],
   "source": [
    "class MaskConv(nn.Module):\n",
    "    def __init__(self, seq_module):\n",
    "        \"\"\"\n",
    "        Adds padding to the output of the module based on the given lengths. This is to ensure that the\n",
    "        results of the model do not change when batch sizes change during inference.\n",
    "        Input needs to be in the shape of (BxCxDxT)\n",
    "        :param seq_module: The sequential module containing the conv stack.\n",
    "        \"\"\"\n",
    "        super(MaskConv, self).__init__()\n",
    "        self.seq_module = seq_module\n",
    "\n",
    "    def forward(self, x, lengths):\n",
    "        \"\"\"\n",
    "        :param x: The input of size BxCxDxT\n",
    "        :param lengths: The actual length of each sequence in the batch\n",
    "        :return: Masked output from the module\n",
    "        \"\"\"\n",
    "        for module in self.seq_module:\n",
    "            x = module(x)\n",
    "            mask = torch.BoolTensor(x.size()).fill_(0)\n",
    "            if x.is_cuda:\n",
    "                mask = mask.cuda()\n",
    "            for i, length in enumerate(lengths):\n",
    "                length = length.item()\n",
    "                if (mask[i].size(2) - length) > 0:\n",
    "                    mask[i].narrow(2, length, mask[i].size(2) - length).fill_(1)\n",
    "            x = x.masked_fill(mask, 0)\n",
    "        return x, lengths"
   ]
  },
  {
   "cell_type": "code",
   "execution_count": null,
   "id": "d3ee3532-331d-4107-b0c0-c0115955f13c",
   "metadata": {},
   "outputs": [],
   "source": []
  },
  {
   "cell_type": "code",
   "execution_count": null,
   "id": "c6a01455-0ec4-47fa-907b-8d55c289e3e5",
   "metadata": {},
   "outputs": [],
   "source": []
  },
  {
   "cell_type": "code",
   "execution_count": null,
   "id": "8b8a85ec-23e9-46e2-8a94-836645f0d281",
   "metadata": {},
   "outputs": [],
   "source": []
  },
  {
   "cell_type": "code",
   "execution_count": null,
   "id": "49f378bb-40a6-4994-91dc-512cba34de03",
   "metadata": {},
   "outputs": [],
   "source": []
  },
  {
   "cell_type": "code",
   "execution_count": null,
   "id": "519f005f-9812-407c-a7c7-0bf15d6e5b05",
   "metadata": {},
   "outputs": [],
   "source": []
  },
  {
   "cell_type": "code",
   "execution_count": null,
   "id": "082397df-aaae-449e-a9af-660b69d75280",
   "metadata": {},
   "outputs": [],
   "source": []
  },
  {
   "cell_type": "code",
   "execution_count": 37,
   "id": "f684fa60-f714-4dc4-8350-7de7f9522abf",
   "metadata": {},
   "outputs": [],
   "source": [
    "# params for training...\n",
    "\n",
    "class Parser:\n",
    "    \"\"\"Parameters for training\"\"\"\n",
    "    def __init__(self):\n",
    "        self.lr = 3e-4\n",
    "        # self.lr = 4e-4\n",
    "        self.epochs = 200\n",
    "        self.batch_size = 10\n",
    "        self.num_workers = 1\n",
    "        self.hidden_size = 200\n",
    "        self.hidden_layers = 5\n",
    "        self.bidirectional = True\n",
    "        self.seed = 42\n",
    "        self.momentum = 0.9\n",
    "        self.wd = 1e-5\n",
    "        self.opt_level = 'O0'\n",
    "        self.keep_batchnorm_fp32 = None\n",
    "        self.loss_scale = 1\n",
    "        # self.max_norm = 400\n",
    "        self.max_norm = 300\n",
    "        self.checkpoint_per_iteration = 0\n",
    "        self.checkpoint = False\n",
    "        self.save_folder = 'snapshots'\n",
    "        self.best_val_model_name = \"deepspeech_final.pth\"\n",
    "        self.save_n_recent_models = 0\n",
    "        self.learning_anneal = 1.01\n",
    "        self.eps = 1e-8 # for adamw\n",
    "        self.betas = (0.9, 0.999) # for adamw\n",
    "\n",
    "args = Parser()"
   ]
  },
  {
   "cell_type": "code",
   "execution_count": 38,
   "id": "56e8bc32-de19-49cf-bfbe-3a1b5a2b1412",
   "metadata": {},
   "outputs": [],
   "source": [
    "# set rnn type\n",
    "rnn_type = 'rnn'\n",
    "\n",
    "# prepare model\n",
    "model = DeepSpeech(rnn_hidden_size=args.hidden_size,\n",
    "                   nb_layers=args.hidden_layers,\n",
    "                   labels=labels,\n",
    "                   rnn_type=supported_rnns[rnn_type],\n",
    "                   audio_conf=audio_conf,\n",
    "                   bidirectional=args.bidirectional)"
   ]
  },
  {
   "cell_type": "code",
   "execution_count": 39,
   "id": "1b179344-fcce-49f7-aaf2-2ffc5f5f18fe",
   "metadata": {},
   "outputs": [
    {
     "name": "stdout",
     "output_type": "stream",
     "text": [
      "Number of parameters: 1519568\n"
     ]
    }
   ],
   "source": [
    "total_params = sum(p.numel() for p in model.parameters())\n",
    "print(f\"Number of parameters: {total_params}\")\n"
   ]
  },
  {
   "cell_type": "code",
   "execution_count": null,
   "id": "d3d8c535",
   "metadata": {},
   "outputs": [],
   "source": []
  },
  {
   "cell_type": "code",
   "execution_count": null,
   "id": "8873b4cd",
   "metadata": {},
   "outputs": [],
   "source": []
  },
  {
   "cell_type": "code",
   "execution_count": null,
   "id": "fd1acb15",
   "metadata": {},
   "outputs": [],
   "source": []
  },
  {
   "cell_type": "code",
   "execution_count": 40,
   "id": "0fa63be5-fce3-4053-93cd-02e359a3e8e5",
   "metadata": {},
   "outputs": [],
   "source": [
    "# use TrainingState to track training state\n",
    "state = TrainingState(model=model)\n",
    "state.init_results_tracking(epochs=args.epochs)"
   ]
  },
  {
   "cell_type": "code",
   "execution_count": 41,
   "id": "1492271a-7b8d-4cc6-8af6-6a63bae74468",
   "metadata": {},
   "outputs": [],
   "source": [
    "evaluation_decoder = GreedyDecoder(model.labels)  # Decoder used for validation"
   ]
  },
  {
   "cell_type": "code",
   "execution_count": 42,
   "id": "a340b88f-0b43-4922-97ab-6dcfa841d773",
   "metadata": {},
   "outputs": [],
   "source": [
    "# device = torch.device(\"cpu\" if args.no_cuda else \"cuda\")\n",
    "# ctc-loos works only with gpu?\n",
    "device = torch.device(\"cuda\")"
   ]
  },
  {
   "cell_type": "code",
   "execution_count": 43,
   "id": "dddfaad0-ca0e-4930-9329-601ed699406c",
   "metadata": {},
   "outputs": [],
   "source": [
    "# optim\n",
    "model = model.to(device)\n",
    "parameters = model.parameters()"
   ]
  },
  {
   "cell_type": "code",
   "execution_count": 44,
   "id": "53ded158-f8bf-4d56-9b3b-d6b787fb0c27",
   "metadata": {},
   "outputs": [],
   "source": [
    "optimizer = torch.optim.AdamW(parameters,\n",
    "                              lr=args.lr,\n",
    "                              betas=args.betas,\n",
    "                              eps=args.eps,\n",
    "                              weight_decay=args.wd)"
   ]
  },
  {
   "cell_type": "code",
   "execution_count": 45,
   "id": "fb0d2ea8-13f8-4f64-bb21-4fef3af383a3",
   "metadata": {},
   "outputs": [],
   "source": [
    "# Track states for optimizer\n",
    "state.track_optim_state(optimizer)"
   ]
  },
  {
   "cell_type": "code",
   "execution_count": 46,
   "id": "68cbbd71-3c48-4ff4-84df-3d2a61743424",
   "metadata": {},
   "outputs": [],
   "source": [
    "class AverageMeter(object):\n",
    "    \"\"\"Computes and stores the average and current value\"\"\"\n",
    "\n",
    "    def __init__(self):\n",
    "        self.reset()\n",
    "\n",
    "    def reset(self):\n",
    "        self.val = 0\n",
    "        self.avg = 0\n",
    "        self.sum = 0\n",
    "        self.count = 0\n",
    "\n",
    "    def update(self, val, n=1):\n",
    "        self.val = val\n",
    "        self.sum += val * n\n",
    "        self.count += n\n",
    "        self.avg = self.sum / self.count"
   ]
  },
  {
   "cell_type": "code",
   "execution_count": 47,
   "id": "a32f8692-ccbc-4b7d-9dea-5baa620784cd",
   "metadata": {},
   "outputs": [],
   "source": [
    "# use CTC for our loss\n",
    "criterion = nn.CTCLoss(blank=labels.index('_'),reduction='sum', zero_infinity=True)\n",
    "batch_time = AverageMeter()\n",
    "data_time = AverageMeter()\n",
    "losses = AverageMeter()\n"
   ]
  },
  {
   "cell_type": "code",
   "execution_count": null,
   "id": "9d41793b-0c54-4b39-96b5-cabf41f434a2",
   "metadata": {},
   "outputs": [],
   "source": []
  },
  {
   "cell_type": "code",
   "execution_count": 48,
   "id": "dc04615f-ea64-403b-aab5-7a06644df153",
   "metadata": {},
   "outputs": [],
   "source": [
    "# prepare check point handler\n",
    "checkpoint_handler = CheckpointHandler(save_folder=args.save_folder,\n",
    "                                       best_val_model_name=args.best_val_model_name,\n",
    "                                       checkpoint_per_iteration=args.checkpoint_per_iteration,\n",
    "                                       save_n_recent_models=args.save_n_recent_models)\n"
   ]
  },
  {
   "cell_type": "code",
   "execution_count": null,
   "id": "ec5e0ab7",
   "metadata": {},
   "outputs": [],
   "source": []
  },
  {
   "cell_type": "code",
   "execution_count": null,
   "id": "47386df1",
   "metadata": {},
   "outputs": [],
   "source": []
  },
  {
   "cell_type": "code",
   "execution_count": 49,
   "id": "2da9e0f0",
   "metadata": {},
   "outputs": [],
   "source": [
    "# model = load_model(\"cuda\", \"./snapshots/deepspeech_final.pth\", False)"
   ]
  },
  {
   "cell_type": "code",
   "execution_count": 50,
   "id": "5a738c20",
   "metadata": {},
   "outputs": [],
   "source": [
    "train_loss_vals = []"
   ]
  },
  {
   "cell_type": "code",
   "execution_count": null,
   "id": "ed504834",
   "metadata": {},
   "outputs": [],
   "source": []
  },
  {
   "cell_type": "code",
   "execution_count": 51,
   "id": "588be87c-58af-4efd-8f2b-850e69507cf2",
   "metadata": {},
   "outputs": [
    {
     "name": "stdout",
     "output_type": "stream",
     "text": [
      "Epoch: [1][1/20]\tTime 2.827 (2.827)\tData 1.291 (1.291)\tLoss 974.2545 (974.2545)\t\n",
      "Epoch: [1][6/20]\tTime 0.808 (0.978)\tData 0.002 (0.217)\tLoss 472.8589 (678.5852)\t\n",
      "Epoch: [1][11/20]\tTime 0.678 (0.867)\tData 0.002 (0.119)\tLoss 223.9640 (523.8746)\t\n",
      "Epoch: [1][16/20]\tTime 0.841 (0.822)\tData 0.002 (0.082)\tLoss 364.9204 (475.2100)\t\n",
      "Training Summary Epoch: [1]\tTime taken (s): 16\tAverage Loss 92.903\t\n"
     ]
    },
    {
     "name": "stderr",
     "output_type": "stream",
     "text": [
      "100%|█████████████████████████████████████████████████████████████████████████████████████| 1/1 [00:01<00:00,  1.15s/it]"
     ]
    },
    {
     "name": "stdout",
     "output_type": "stream",
     "text": [
      "Validation Summary Epoch: [1]\tAverage WER 100.000\tAverage CER 94.536\t\n",
      "Learning rate annealed to: 0.000297\n",
      "Found better validated model, saving to snapshots/deepspeech_final.pth\n"
     ]
    },
    {
     "name": "stderr",
     "output_type": "stream",
     "text": [
      "\n"
     ]
    },
    {
     "name": "stdout",
     "output_type": "stream",
     "text": [
      "Epoch: [2][1/20]\tTime 1.206 (0.825)\tData 0.871 (0.105)\tLoss 330.9996 (433.3470)\t\n",
      "Epoch: [2][6/20]\tTime 0.442 (0.789)\tData 0.002 (0.085)\tLoss 333.5690 (412.1019)\t\n",
      "Epoch: [2][11/20]\tTime 0.641 (0.778)\tData 0.002 (0.072)\tLoss 180.6015 (392.1638)\t\n",
      "Epoch: [2][16/20]\tTime 0.791 (0.771)\tData 0.002 (0.062)\tLoss 212.6733 (375.0886)\t\n",
      "Training Summary Epoch: [2]\tTime taken (s): 15\tAverage Loss 60.637\t\n"
     ]
    },
    {
     "name": "stderr",
     "output_type": "stream",
     "text": [
      "100%|█████████████████████████████████████████████████████████████████████████████████████| 1/1 [00:01<00:00,  1.13s/it]"
     ]
    },
    {
     "name": "stdout",
     "output_type": "stream",
     "text": [
      "Validation Summary Epoch: [2]\tAverage WER 100.000\tAverage CER 94.536\t\n",
      "Learning rate annealed to: 0.000294\n"
     ]
    },
    {
     "name": "stderr",
     "output_type": "stream",
     "text": [
      "\n"
     ]
    },
    {
     "name": "stdout",
     "output_type": "stream",
     "text": [
      "Epoch: [3][1/20]\tTime 1.250 (0.782)\tData 0.879 (0.076)\tLoss 319.7148 (363.4681)\t\n",
      "Epoch: [3][6/20]\tTime 0.796 (0.766)\tData 0.002 (0.068)\tLoss 232.3071 (350.6946)\t\n",
      "Epoch: [3][11/20]\tTime 0.740 (0.766)\tData 0.002 (0.061)\tLoss 309.3698 (344.7849)\t\n",
      "Epoch: [3][16/20]\tTime 0.631 (0.759)\tData 0.002 (0.056)\tLoss 311.8478 (338.3924)\t\n",
      "Training Summary Epoch: [3]\tTime taken (s): 15\tAverage Loss 55.445\t\n"
     ]
    },
    {
     "name": "stderr",
     "output_type": "stream",
     "text": [
      "100%|█████████████████████████████████████████████████████████████████████████████████████| 1/1 [00:01<00:00,  1.11s/it]"
     ]
    },
    {
     "name": "stdout",
     "output_type": "stream",
     "text": [
      "Validation Summary Epoch: [3]\tAverage WER 100.000\tAverage CER 90.710\t\n",
      "Learning rate annealed to: 0.000291\n"
     ]
    },
    {
     "name": "stderr",
     "output_type": "stream",
     "text": [
      "\n"
     ]
    },
    {
     "name": "stdout",
     "output_type": "stream",
     "text": [
      "Epoch: [4][1/20]\tTime 1.133 (0.766)\tData 0.912 (0.067)\tLoss 197.2041 (328.7836)\t\n",
      "Epoch: [4][6/20]\tTime 0.769 (0.768)\tData 0.002 (0.062)\tLoss 259.8230 (323.8768)\t\n",
      "Epoch: [4][11/20]\tTime 0.787 (0.770)\tData 0.002 (0.058)\tLoss 217.1125 (320.4321)\t\n",
      "Epoch: [4][16/20]\tTime 0.746 (0.762)\tData 0.002 (0.054)\tLoss 239.3023 (314.3935)\t\n",
      "Training Summary Epoch: [4]\tTime taken (s): 15\tAverage Loss 53.981\t\n"
     ]
    },
    {
     "name": "stderr",
     "output_type": "stream",
     "text": [
      "100%|█████████████████████████████████████████████████████████████████████████████████████| 1/1 [00:01<00:00,  1.14s/it]"
     ]
    },
    {
     "name": "stdout",
     "output_type": "stream",
     "text": [
      "Validation Summary Epoch: [4]\tAverage WER 100.000\tAverage CER 89.071\t\n",
      "Learning rate annealed to: 0.000288\n"
     ]
    },
    {
     "name": "stderr",
     "output_type": "stream",
     "text": [
      "\n"
     ]
    },
    {
     "name": "stdout",
     "output_type": "stream",
     "text": [
      "Epoch: [5][1/20]\tTime 1.188 (0.760)\tData 0.869 (0.061)\tLoss 191.4973 (311.0879)\t\n",
      "Epoch: [5][6/20]\tTime 0.708 (0.761)\tData 0.002 (0.058)\tLoss 342.8304 (308.9656)\t\n",
      "Epoch: [5][11/20]\tTime 0.551 (0.758)\tData 0.002 (0.055)\tLoss 302.8442 (304.9550)\t\n",
      "Epoch: [5][16/20]\tTime 0.754 (0.750)\tData 0.002 (0.052)\tLoss 242.1190 (300.9052)\t\n",
      "Training Summary Epoch: [5]\tTime taken (s): 15\tAverage Loss 52.496\t\n"
     ]
    },
    {
     "name": "stderr",
     "output_type": "stream",
     "text": [
      "100%|█████████████████████████████████████████████████████████████████████████████████████| 1/1 [00:01<00:00,  1.13s/it]"
     ]
    },
    {
     "name": "stdout",
     "output_type": "stream",
     "text": [
      "Validation Summary Epoch: [5]\tAverage WER 100.000\tAverage CER 89.617\t\n",
      "Learning rate annealed to: 0.000285\n"
     ]
    },
    {
     "name": "stderr",
     "output_type": "stream",
     "text": [
      "\n"
     ]
    },
    {
     "name": "stdout",
     "output_type": "stream",
     "text": [
      "Epoch: [6][1/20]\tTime 1.216 (0.756)\tData 0.928 (0.059)\tLoss 138.0491 (298.5513)\t\n",
      "Epoch: [6][6/20]\tTime 0.805 (0.755)\tData 0.002 (0.056)\tLoss 236.7654 (294.0903)\t\n",
      "Epoch: [6][11/20]\tTime 0.665 (0.754)\tData 0.002 (0.054)\tLoss 294.0320 (293.2620)\t\n",
      "Epoch: [6][16/20]\tTime 0.780 (0.752)\tData 0.002 (0.051)\tLoss 282.2545 (291.4931)\t\n",
      "Training Summary Epoch: [6]\tTime taken (s): 15\tAverage Loss 50.839\t\n"
     ]
    },
    {
     "name": "stderr",
     "output_type": "stream",
     "text": [
      "100%|█████████████████████████████████████████████████████████████████████████████████████| 1/1 [00:01<00:00,  1.10s/it]"
     ]
    },
    {
     "name": "stdout",
     "output_type": "stream",
     "text": [
      "Validation Summary Epoch: [6]\tAverage WER 100.000\tAverage CER 83.607\t\n",
      "Learning rate annealed to: 0.000283\n"
     ]
    },
    {
     "name": "stderr",
     "output_type": "stream",
     "text": [
      "\n"
     ]
    },
    {
     "name": "stdout",
     "output_type": "stream",
     "text": [
      "Epoch: [7][1/20]\tTime 1.242 (0.755)\tData 0.920 (0.057)\tLoss 191.7581 (289.7289)\t\n",
      "Epoch: [7][6/20]\tTime 0.870 (0.756)\tData 0.002 (0.055)\tLoss 287.7673 (287.2195)\t\n",
      "Epoch: [7][11/20]\tTime 0.792 (0.755)\tData 0.002 (0.053)\tLoss 273.7191 (285.7336)\t\n",
      "Epoch: [7][16/20]\tTime 0.734 (0.752)\tData 0.002 (0.051)\tLoss 222.8059 (283.3802)\t\n",
      "Training Summary Epoch: [7]\tTime taken (s): 15\tAverage Loss 48.885\t\n"
     ]
    },
    {
     "name": "stderr",
     "output_type": "stream",
     "text": [
      "100%|█████████████████████████████████████████████████████████████████████████████████████| 1/1 [00:01<00:00,  1.11s/it]"
     ]
    },
    {
     "name": "stdout",
     "output_type": "stream",
     "text": [
      "Validation Summary Epoch: [7]\tAverage WER 100.000\tAverage CER 86.885\t\n",
      "Learning rate annealed to: 0.000280\n"
     ]
    },
    {
     "name": "stderr",
     "output_type": "stream",
     "text": [
      "\n"
     ]
    },
    {
     "name": "stdout",
     "output_type": "stream",
     "text": [
      "Epoch: [8][1/20]\tTime 1.183 (0.753)\tData 0.882 (0.055)\tLoss 204.1985 (281.8105)\t\n",
      "Epoch: [8][6/20]\tTime 0.755 (0.754)\tData 0.002 (0.054)\tLoss 227.6358 (280.4651)\t\n",
      "Epoch: [8][11/20]\tTime 0.637 (0.751)\tData 0.002 (0.052)\tLoss 301.2995 (278.5005)\t\n",
      "Epoch: [8][16/20]\tTime 0.574 (0.751)\tData 0.002 (0.050)\tLoss 185.2925 (277.3900)\t\n",
      "Training Summary Epoch: [8]\tTime taken (s): 15\tAverage Loss 47.667\t\n"
     ]
    },
    {
     "name": "stderr",
     "output_type": "stream",
     "text": [
      "100%|█████████████████████████████████████████████████████████████████████████████████████| 1/1 [00:01<00:00,  1.11s/it]"
     ]
    },
    {
     "name": "stdout",
     "output_type": "stream",
     "text": [
      "Validation Summary Epoch: [8]\tAverage WER 100.000\tAverage CER 87.978\t\n",
      "Learning rate annealed to: 0.000277\n"
     ]
    },
    {
     "name": "stderr",
     "output_type": "stream",
     "text": [
      "\n"
     ]
    },
    {
     "name": "stdout",
     "output_type": "stream",
     "text": [
      "Epoch: [9][1/20]\tTime 1.342 (0.752)\tData 0.936 (0.055)\tLoss 177.1875 (274.9377)\t\n",
      "Epoch: [9][6/20]\tTime 0.661 (0.750)\tData 0.003 (0.053)\tLoss 176.1246 (272.8815)\t\n",
      "Epoch: [9][11/20]\tTime 0.637 (0.748)\tData 0.002 (0.052)\tLoss 154.1953 (271.6375)\t\n",
      "Epoch: [9][16/20]\tTime 0.865 (0.746)\tData 0.002 (0.050)\tLoss 204.5885 (270.5955)\t\n",
      "Training Summary Epoch: [9]\tTime taken (s): 15\tAverage Loss 46.126\t\n"
     ]
    },
    {
     "name": "stderr",
     "output_type": "stream",
     "text": [
      "100%|█████████████████████████████████████████████████████████████████████████████████████| 1/1 [00:01<00:00,  1.14s/it]"
     ]
    },
    {
     "name": "stdout",
     "output_type": "stream",
     "text": [
      "Validation Summary Epoch: [9]\tAverage WER 105.882\tAverage CER 84.699\t\n",
      "Learning rate annealed to: 0.000274\n"
     ]
    },
    {
     "name": "stderr",
     "output_type": "stream",
     "text": [
      "\n"
     ]
    },
    {
     "name": "stdout",
     "output_type": "stream",
     "text": [
      "Epoch: [10][1/20]\tTime 1.252 (0.750)\tData 0.924 (0.054)\tLoss 166.4921 (268.8430)\t\n",
      "Epoch: [10][6/20]\tTime 0.573 (0.750)\tData 0.002 (0.053)\tLoss 195.3390 (267.0343)\t\n",
      "Epoch: [10][11/20]\tTime 0.685 (0.748)\tData 0.002 (0.051)\tLoss 233.9071 (266.0043)\t\n",
      "Epoch: [10][16/20]\tTime 0.735 (0.749)\tData 0.002 (0.050)\tLoss 138.9687 (264.4059)\t\n",
      "Training Summary Epoch: [10]\tTime taken (s): 15\tAverage Loss 44.667\t\n"
     ]
    },
    {
     "name": "stderr",
     "output_type": "stream",
     "text": [
      "100%|█████████████████████████████████████████████████████████████████████████████████████| 1/1 [00:01<00:00,  1.14s/it]"
     ]
    },
    {
     "name": "stdout",
     "output_type": "stream",
     "text": [
      "Validation Summary Epoch: [10]\tAverage WER 114.706\tAverage CER 81.421\t\n",
      "Learning rate annealed to: 0.000272\n"
     ]
    },
    {
     "name": "stderr",
     "output_type": "stream",
     "text": [
      "\n"
     ]
    },
    {
     "name": "stdout",
     "output_type": "stream",
     "text": [
      "Epoch: [11][1/20]\tTime 1.232 (0.749)\tData 0.924 (0.053)\tLoss 194.7721 (263.4671)\t\n",
      "Epoch: [11][6/20]\tTime 0.741 (0.748)\tData 0.002 (0.052)\tLoss 167.7036 (261.9211)\t\n",
      "Epoch: [11][11/20]\tTime 0.786 (0.748)\tData 0.002 (0.051)\tLoss 284.7268 (260.8659)\t\n",
      "Epoch: [11][16/20]\tTime 0.706 (0.747)\tData 0.002 (0.050)\tLoss 225.2742 (259.5192)\t\n",
      "Training Summary Epoch: [11]\tTime taken (s): 15\tAverage Loss 43.708\t\n"
     ]
    },
    {
     "name": "stderr",
     "output_type": "stream",
     "text": [
      "100%|█████████████████████████████████████████████████████████████████████████████████████| 1/1 [00:01<00:00,  1.13s/it]"
     ]
    },
    {
     "name": "stdout",
     "output_type": "stream",
     "text": [
      "Validation Summary Epoch: [11]\tAverage WER 108.824\tAverage CER 86.885\t\n",
      "Learning rate annealed to: 0.000269\n"
     ]
    },
    {
     "name": "stderr",
     "output_type": "stream",
     "text": [
      "\n"
     ]
    },
    {
     "name": "stdout",
     "output_type": "stream",
     "text": [
      "Epoch: [12][1/20]\tTime 1.266 (0.748)\tData 0.937 (0.053)\tLoss 209.1578 (258.6122)\t\n",
      "Epoch: [12][6/20]\tTime 0.601 (0.748)\tData 0.002 (0.052)\tLoss 191.8084 (257.3471)\t\n",
      "Epoch: [12][11/20]\tTime 0.888 (0.749)\tData 0.002 (0.051)\tLoss 262.5752 (256.1393)\t\n",
      "Epoch: [12][16/20]\tTime 0.764 (0.748)\tData 0.002 (0.050)\tLoss 191.6628 (254.4934)\t\n",
      "Training Summary Epoch: [12]\tTime taken (s): 15\tAverage Loss 43.299\t\n"
     ]
    },
    {
     "name": "stderr",
     "output_type": "stream",
     "text": [
      "100%|█████████████████████████████████████████████████████████████████████████████████████| 1/1 [00:01<00:00,  1.12s/it]"
     ]
    },
    {
     "name": "stdout",
     "output_type": "stream",
     "text": [
      "Validation Summary Epoch: [12]\tAverage WER 100.000\tAverage CER 86.885\t\n",
      "Learning rate annealed to: 0.000266\n"
     ]
    },
    {
     "name": "stderr",
     "output_type": "stream",
     "text": [
      "\n"
     ]
    },
    {
     "name": "stdout",
     "output_type": "stream",
     "text": [
      "Epoch: [13][1/20]\tTime 1.361 (0.749)\tData 0.962 (0.053)\tLoss 168.9299 (254.1114)\t\n",
      "Epoch: [13][6/20]\tTime 0.713 (0.750)\tData 0.002 (0.052)\tLoss 324.0095 (253.8636)\t\n",
      "Epoch: [13][11/20]\tTime 0.687 (0.749)\tData 0.002 (0.051)\tLoss 194.1719 (252.6438)\t\n",
      "Epoch: [13][16/20]\tTime 0.663 (0.748)\tData 0.002 (0.050)\tLoss 147.0854 (252.0208)\t\n",
      "Training Summary Epoch: [13]\tTime taken (s): 15\tAverage Loss 44.103\t\n"
     ]
    },
    {
     "name": "stderr",
     "output_type": "stream",
     "text": [
      "100%|█████████████████████████████████████████████████████████████████████████████████████| 1/1 [00:01<00:00,  1.13s/it]"
     ]
    },
    {
     "name": "stdout",
     "output_type": "stream",
     "text": [
      "Validation Summary Epoch: [13]\tAverage WER 105.882\tAverage CER 83.060\t\n",
      "Learning rate annealed to: 0.000264\n"
     ]
    },
    {
     "name": "stderr",
     "output_type": "stream",
     "text": [
      "\n"
     ]
    },
    {
     "name": "stdout",
     "output_type": "stream",
     "text": [
      "Epoch: [14][1/20]\tTime 1.212 (0.749)\tData 0.937 (0.052)\tLoss 225.0307 (251.0346)\t\n",
      "Epoch: [14][6/20]\tTime 0.708 (0.747)\tData 0.002 (0.051)\tLoss 273.2678 (250.0548)\t\n",
      "Epoch: [14][11/20]\tTime 0.771 (0.748)\tData 0.002 (0.051)\tLoss 190.6017 (249.2386)\t\n",
      "Epoch: [14][16/20]\tTime 0.807 (0.748)\tData 0.002 (0.050)\tLoss 253.8595 (248.1386)\t\n",
      "Training Summary Epoch: [14]\tTime taken (s): 15\tAverage Loss 42.566\t\n"
     ]
    },
    {
     "name": "stderr",
     "output_type": "stream",
     "text": [
      "100%|█████████████████████████████████████████████████████████████████████████████████████| 1/1 [00:01<00:00,  1.18s/it]"
     ]
    },
    {
     "name": "stdout",
     "output_type": "stream",
     "text": [
      "Validation Summary Epoch: [14]\tAverage WER 105.882\tAverage CER 82.514\t\n",
      "Learning rate annealed to: 0.000261\n"
     ]
    },
    {
     "name": "stderr",
     "output_type": "stream",
     "text": [
      "\n"
     ]
    },
    {
     "name": "stdout",
     "output_type": "stream",
     "text": [
      "Epoch: [15][1/20]\tTime 1.256 (0.749)\tData 0.951 (0.052)\tLoss 193.6472 (247.5625)\t\n",
      "Epoch: [15][6/20]\tTime 0.803 (0.747)\tData 0.002 (0.051)\tLoss 238.9126 (246.6780)\t\n",
      "Epoch: [15][11/20]\tTime 0.703 (0.746)\tData 0.002 (0.051)\tLoss 216.7543 (246.0784)\t\n",
      "Epoch: [15][16/20]\tTime 0.766 (0.747)\tData 0.002 (0.050)\tLoss 207.1904 (245.2196)\t\n",
      "Training Summary Epoch: [15]\tTime taken (s): 15\tAverage Loss 42.075\t\n"
     ]
    },
    {
     "name": "stderr",
     "output_type": "stream",
     "text": [
      "100%|█████████████████████████████████████████████████████████████████████████████████████| 1/1 [00:01<00:00,  1.19s/it]"
     ]
    },
    {
     "name": "stdout",
     "output_type": "stream",
     "text": [
      "Validation Summary Epoch: [15]\tAverage WER 105.882\tAverage CER 83.060\t\n",
      "Learning rate annealed to: 0.000258\n"
     ]
    },
    {
     "name": "stderr",
     "output_type": "stream",
     "text": [
      "\n"
     ]
    },
    {
     "name": "stdout",
     "output_type": "stream",
     "text": [
      "Epoch: [16][1/20]\tTime 1.396 (0.749)\tData 0.971 (0.052)\tLoss 243.4323 (244.6814)\t\n",
      "Epoch: [16][6/20]\tTime 0.820 (0.749)\tData 0.002 (0.051)\tLoss 185.8850 (243.8418)\t\n",
      "Epoch: [16][11/20]\tTime 0.698 (0.747)\tData 0.002 (0.051)\tLoss 182.8091 (243.0006)\t\n",
      "Epoch: [16][16/20]\tTime 0.584 (0.747)\tData 0.002 (0.050)\tLoss 193.0873 (242.0135)\t\n",
      "Training Summary Epoch: [16]\tTime taken (s): 15\tAverage Loss 41.185\t\n"
     ]
    },
    {
     "name": "stderr",
     "output_type": "stream",
     "text": [
      "100%|█████████████████████████████████████████████████████████████████████████████████████| 1/1 [00:01<00:00,  1.20s/it]"
     ]
    },
    {
     "name": "stdout",
     "output_type": "stream",
     "text": [
      "Validation Summary Epoch: [16]\tAverage WER 100.000\tAverage CER 83.607\t\n",
      "Learning rate annealed to: 0.000256\n"
     ]
    },
    {
     "name": "stderr",
     "output_type": "stream",
     "text": [
      "\n"
     ]
    },
    {
     "name": "stdout",
     "output_type": "stream",
     "text": [
      "Epoch: [17][1/20]\tTime 1.340 (0.749)\tData 1.023 (0.052)\tLoss 189.3232 (241.5606)\t\n",
      "Epoch: [17][6/20]\tTime 0.791 (0.747)\tData 0.002 (0.051)\tLoss 190.0906 (240.9174)\t\n",
      "Epoch: [17][11/20]\tTime 0.672 (0.747)\tData 0.002 (0.051)\tLoss 185.5006 (240.5215)\t\n",
      "Epoch: [17][16/20]\tTime 0.569 (0.747)\tData 0.002 (0.050)\tLoss 164.6394 (239.9418)\t\n",
      "Training Summary Epoch: [17]\tTime taken (s): 15\tAverage Loss 41.292\t\n"
     ]
    },
    {
     "name": "stderr",
     "output_type": "stream",
     "text": [
      "100%|█████████████████████████████████████████████████████████████████████████████████████| 1/1 [00:01<00:00,  1.20s/it]"
     ]
    },
    {
     "name": "stdout",
     "output_type": "stream",
     "text": [
      "Validation Summary Epoch: [17]\tAverage WER 102.941\tAverage CER 83.060\t\n",
      "Learning rate annealed to: 0.000253\n"
     ]
    },
    {
     "name": "stderr",
     "output_type": "stream",
     "text": [
      "\n"
     ]
    },
    {
     "name": "stdout",
     "output_type": "stream",
     "text": [
      "Epoch: [18][1/20]\tTime 1.128 (0.748)\tData 0.936 (0.052)\tLoss 202.0348 (239.1083)\t\n",
      "Epoch: [18][6/20]\tTime 0.791 (0.747)\tData 0.002 (0.051)\tLoss 224.8287 (238.6013)\t\n",
      "Epoch: [18][11/20]\tTime 0.932 (0.747)\tData 0.002 (0.051)\tLoss 238.7375 (237.7876)\t\n",
      "Epoch: [18][16/20]\tTime 0.675 (0.748)\tData 0.002 (0.050)\tLoss 211.7821 (237.3534)\t\n",
      "Training Summary Epoch: [18]\tTime taken (s): 15\tAverage Loss 40.197\t\n"
     ]
    },
    {
     "name": "stderr",
     "output_type": "stream",
     "text": [
      "100%|█████████████████████████████████████████████████████████████████████████████████████| 1/1 [00:01<00:00,  1.23s/it]"
     ]
    },
    {
     "name": "stdout",
     "output_type": "stream",
     "text": [
      "Validation Summary Epoch: [18]\tAverage WER 117.647\tAverage CER 78.689\t\n",
      "Learning rate annealed to: 0.000251\n"
     ]
    },
    {
     "name": "stderr",
     "output_type": "stream",
     "text": [
      "\n"
     ]
    },
    {
     "name": "stdout",
     "output_type": "stream",
     "text": [
      "Epoch: [19][1/20]\tTime 1.160 (0.748)\tData 0.931 (0.052)\tLoss 157.4948 (236.3418)\t\n",
      "Epoch: [19][6/20]\tTime 0.540 (0.748)\tData 0.002 (0.051)\tLoss 189.4482 (235.7855)\t\n",
      "Epoch: [19][11/20]\tTime 0.789 (0.748)\tData 0.002 (0.050)\tLoss 247.0745 (235.2369)\t\n",
      "Epoch: [19][16/20]\tTime 0.755 (0.748)\tData 0.002 (0.050)\tLoss 181.3002 (234.4429)\t\n",
      "Training Summary Epoch: [19]\tTime taken (s): 15\tAverage Loss 39.440\t\n"
     ]
    },
    {
     "name": "stderr",
     "output_type": "stream",
     "text": [
      "100%|█████████████████████████████████████████████████████████████████████████████████████| 1/1 [00:01<00:00,  1.23s/it]"
     ]
    },
    {
     "name": "stdout",
     "output_type": "stream",
     "text": [
      "Validation Summary Epoch: [19]\tAverage WER 108.824\tAverage CER 80.328\t\n",
      "Learning rate annealed to: 0.000248\n"
     ]
    },
    {
     "name": "stderr",
     "output_type": "stream",
     "text": [
      "\n"
     ]
    },
    {
     "name": "stdout",
     "output_type": "stream",
     "text": [
      "Epoch: [20][1/20]\tTime 1.322 (0.749)\tData 0.979 (0.052)\tLoss 201.3797 (233.9898)\t\n",
      "Epoch: [20][6/20]\tTime 0.876 (0.749)\tData 0.002 (0.051)\tLoss 216.5539 (233.3753)\t\n",
      "Epoch: [20][11/20]\tTime 0.726 (0.750)\tData 0.002 (0.051)\tLoss 149.6202 (232.7298)\t\n",
      "Epoch: [20][16/20]\tTime 0.802 (0.748)\tData 0.002 (0.050)\tLoss 186.1039 (232.2740)\t\n",
      "Training Summary Epoch: [20]\tTime taken (s): 15\tAverage Loss 38.923\t\n"
     ]
    },
    {
     "name": "stderr",
     "output_type": "stream",
     "text": [
      "100%|█████████████████████████████████████████████████████████████████████████████████████| 1/1 [00:01<00:00,  1.22s/it]"
     ]
    },
    {
     "name": "stdout",
     "output_type": "stream",
     "text": [
      "Validation Summary Epoch: [20]\tAverage WER 111.765\tAverage CER 77.596\t\n",
      "Learning rate annealed to: 0.000246\n"
     ]
    },
    {
     "name": "stderr",
     "output_type": "stream",
     "text": [
      "\n"
     ]
    },
    {
     "name": "stdout",
     "output_type": "stream",
     "text": [
      "Epoch: [21][1/20]\tTime 1.233 (0.749)\tData 0.942 (0.052)\tLoss 117.1120 (231.4203)\t\n",
      "Epoch: [21][6/20]\tTime 0.680 (0.748)\tData 0.002 (0.051)\tLoss 148.1152 (230.9624)\t\n",
      "Epoch: [21][11/20]\tTime 0.699 (0.746)\tData 0.002 (0.050)\tLoss 147.3065 (230.1341)\t\n",
      "Epoch: [21][16/20]\tTime 0.733 (0.747)\tData 0.002 (0.050)\tLoss 184.4204 (229.9391)\t\n",
      "Training Summary Epoch: [21]\tTime taken (s): 15\tAverage Loss 39.106\t\n"
     ]
    },
    {
     "name": "stderr",
     "output_type": "stream",
     "text": [
      "100%|█████████████████████████████████████████████████████████████████████████████████████| 1/1 [00:01<00:00,  1.17s/it]"
     ]
    },
    {
     "name": "stdout",
     "output_type": "stream",
     "text": [
      "Validation Summary Epoch: [21]\tAverage WER 108.824\tAverage CER 78.142\t\n",
      "Learning rate annealed to: 0.000243\n"
     ]
    },
    {
     "name": "stderr",
     "output_type": "stream",
     "text": [
      "\n"
     ]
    },
    {
     "name": "stdout",
     "output_type": "stream",
     "text": [
      "Epoch: [22][1/20]\tTime 1.208 (0.748)\tData 0.925 (0.051)\tLoss 172.9542 (229.4887)\t\n",
      "Epoch: [22][6/20]\tTime 0.610 (0.748)\tData 0.002 (0.051)\tLoss 174.6225 (229.1585)\t\n",
      "Epoch: [22][11/20]\tTime 0.647 (0.747)\tData 0.002 (0.050)\tLoss 211.7966 (228.7699)\t\n",
      "Epoch: [22][16/20]\tTime 0.844 (0.748)\tData 0.002 (0.050)\tLoss 176.8275 (228.0504)\t\n",
      "Training Summary Epoch: [22]\tTime taken (s): 15\tAverage Loss 38.217\t\n"
     ]
    },
    {
     "name": "stderr",
     "output_type": "stream",
     "text": [
      "100%|█████████████████████████████████████████████████████████████████████████████████████| 1/1 [00:01<00:00,  1.22s/it]"
     ]
    },
    {
     "name": "stdout",
     "output_type": "stream",
     "text": [
      "Validation Summary Epoch: [22]\tAverage WER 102.941\tAverage CER 80.328\t\n",
      "Learning rate annealed to: 0.000241\n"
     ]
    },
    {
     "name": "stderr",
     "output_type": "stream",
     "text": [
      "\n"
     ]
    },
    {
     "name": "stdout",
     "output_type": "stream",
     "text": [
      "Epoch: [23][1/20]\tTime 1.292 (0.748)\tData 0.928 (0.051)\tLoss 215.2207 (227.5095)\t\n",
      "Epoch: [23][6/20]\tTime 0.773 (0.749)\tData 0.002 (0.051)\tLoss 173.1939 (227.0707)\t\n",
      "Epoch: [23][11/20]\tTime 0.678 (0.749)\tData 0.002 (0.050)\tLoss 110.9031 (226.6364)\t\n",
      "Epoch: [23][16/20]\tTime 0.557 (0.748)\tData 0.002 (0.050)\tLoss 176.0591 (225.9140)\t\n",
      "Training Summary Epoch: [23]\tTime taken (s): 15\tAverage Loss 37.863\t\n"
     ]
    },
    {
     "name": "stderr",
     "output_type": "stream",
     "text": [
      "100%|█████████████████████████████████████████████████████████████████████████████████████| 1/1 [00:01<00:00,  1.20s/it]"
     ]
    },
    {
     "name": "stdout",
     "output_type": "stream",
     "text": [
      "Validation Summary Epoch: [23]\tAverage WER 102.941\tAverage CER 78.689\t\n",
      "Learning rate annealed to: 0.000239\n"
     ]
    },
    {
     "name": "stderr",
     "output_type": "stream",
     "text": [
      "\n"
     ]
    },
    {
     "name": "stdout",
     "output_type": "stream",
     "text": [
      "Epoch: [24][1/20]\tTime 1.293 (0.748)\tData 1.004 (0.051)\tLoss 105.5790 (225.2856)\t\n",
      "Epoch: [24][6/20]\tTime 0.763 (0.748)\tData 0.002 (0.051)\tLoss 221.2243 (224.6966)\t\n",
      "Epoch: [24][11/20]\tTime 0.665 (0.748)\tData 0.002 (0.050)\tLoss 169.6789 (224.1464)\t\n",
      "Epoch: [24][16/20]\tTime 0.602 (0.748)\tData 0.002 (0.050)\tLoss 162.6734 (223.6624)\t\n",
      "Training Summary Epoch: [24]\tTime taken (s): 15\tAverage Loss 36.719\t\n"
     ]
    },
    {
     "name": "stderr",
     "output_type": "stream",
     "text": [
      "100%|█████████████████████████████████████████████████████████████████████████████████████| 1/1 [00:01<00:00,  1.20s/it]"
     ]
    },
    {
     "name": "stdout",
     "output_type": "stream",
     "text": [
      "Validation Summary Epoch: [24]\tAverage WER 102.941\tAverage CER 78.689\t\n",
      "Learning rate annealed to: 0.000236\n"
     ]
    },
    {
     "name": "stderr",
     "output_type": "stream",
     "text": [
      "\n"
     ]
    },
    {
     "name": "stdout",
     "output_type": "stream",
     "text": [
      "Epoch: [25][1/20]\tTime 1.412 (0.748)\tData 1.015 (0.051)\tLoss 159.7534 (223.3750)\t\n",
      "Epoch: [25][6/20]\tTime 0.800 (0.749)\tData 0.002 (0.051)\tLoss 175.8895 (222.8464)\t\n",
      "Epoch: [25][11/20]\tTime 0.652 (0.747)\tData 0.002 (0.050)\tLoss 239.8466 (222.3474)\t\n",
      "Epoch: [25][16/20]\tTime 0.650 (0.747)\tData 0.002 (0.050)\tLoss 146.6670 (221.7331)\t\n",
      "Training Summary Epoch: [25]\tTime taken (s): 15\tAverage Loss 36.302\t\n"
     ]
    },
    {
     "name": "stderr",
     "output_type": "stream",
     "text": [
      "100%|█████████████████████████████████████████████████████████████████████████████████████| 1/1 [00:01<00:00,  1.24s/it]"
     ]
    },
    {
     "name": "stdout",
     "output_type": "stream",
     "text": [
      "Validation Summary Epoch: [25]\tAverage WER 102.941\tAverage CER 79.235\t\n",
      "Learning rate annealed to: 0.000234\n"
     ]
    },
    {
     "name": "stderr",
     "output_type": "stream",
     "text": [
      "\n"
     ]
    },
    {
     "name": "stdout",
     "output_type": "stream",
     "text": [
      "Epoch: [26][1/20]\tTime 1.441 (0.749)\tData 1.013 (0.051)\tLoss 190.4969 (221.4866)\t\n",
      "Epoch: [26][6/20]\tTime 0.678 (0.749)\tData 0.002 (0.051)\tLoss 192.6555 (220.9221)\t\n",
      "Epoch: [26][11/20]\tTime 0.786 (0.749)\tData 0.002 (0.051)\tLoss 181.0552 (220.4166)\t\n",
      "Epoch: [26][16/20]\tTime 0.777 (0.748)\tData 0.002 (0.050)\tLoss 211.1252 (220.1587)\t\n",
      "Training Summary Epoch: [26]\tTime taken (s): 15\tAverage Loss 35.288\t\n"
     ]
    },
    {
     "name": "stderr",
     "output_type": "stream",
     "text": [
      "100%|█████████████████████████████████████████████████████████████████████████████████████| 1/1 [00:01<00:00,  1.21s/it]"
     ]
    },
    {
     "name": "stdout",
     "output_type": "stream",
     "text": [
      "Validation Summary Epoch: [26]\tAverage WER 114.706\tAverage CER 80.328\t\n",
      "Learning rate annealed to: 0.000232\n"
     ]
    },
    {
     "name": "stderr",
     "output_type": "stream",
     "text": [
      "\n"
     ]
    },
    {
     "name": "stdout",
     "output_type": "stream",
     "text": [
      "Epoch: [27][1/20]\tTime 1.362 (0.749)\tData 0.988 (0.051)\tLoss 188.6909 (219.4915)\t\n",
      "Epoch: [27][6/20]\tTime 0.711 (0.748)\tData 0.002 (0.051)\tLoss 228.1833 (219.1001)\t\n",
      "Epoch: [27][11/20]\tTime 0.875 (0.748)\tData 0.002 (0.051)\tLoss 166.5082 (218.6382)\t\n",
      "Epoch: [27][16/20]\tTime 0.716 (0.748)\tData 0.002 (0.050)\tLoss 207.1172 (217.9868)\t\n",
      "Training Summary Epoch: [27]\tTime taken (s): 15\tAverage Loss 34.157\t\n"
     ]
    },
    {
     "name": "stderr",
     "output_type": "stream",
     "text": [
      "100%|█████████████████████████████████████████████████████████████████████████████████████| 1/1 [00:01<00:00,  1.21s/it]"
     ]
    },
    {
     "name": "stdout",
     "output_type": "stream",
     "text": [
      "Validation Summary Epoch: [27]\tAverage WER 105.882\tAverage CER 78.689\t\n",
      "Learning rate annealed to: 0.000229\n"
     ]
    },
    {
     "name": "stderr",
     "output_type": "stream",
     "text": [
      "\n"
     ]
    },
    {
     "name": "stdout",
     "output_type": "stream",
     "text": [
      "Epoch: [28][1/20]\tTime 1.267 (0.748)\tData 1.071 (0.052)\tLoss 149.1489 (217.4599)\t\n",
      "Epoch: [28][6/20]\tTime 0.810 (0.748)\tData 0.003 (0.051)\tLoss 219.8000 (216.9818)\t\n",
      "Epoch: [28][11/20]\tTime 0.818 (0.748)\tData 0.002 (0.051)\tLoss 223.9738 (216.6815)\t\n",
      "Epoch: [28][16/20]\tTime 0.767 (0.748)\tData 0.003 (0.050)\tLoss 177.0299 (216.0059)\t\n",
      "Training Summary Epoch: [28]\tTime taken (s): 15\tAverage Loss 34.407\t\n"
     ]
    },
    {
     "name": "stderr",
     "output_type": "stream",
     "text": [
      "100%|█████████████████████████████████████████████████████████████████████████████████████| 1/1 [00:01<00:00,  1.21s/it]"
     ]
    },
    {
     "name": "stdout",
     "output_type": "stream",
     "text": [
      "Validation Summary Epoch: [28]\tAverage WER 132.353\tAverage CER 78.142\t\n",
      "Learning rate annealed to: 0.000227\n"
     ]
    },
    {
     "name": "stderr",
     "output_type": "stream",
     "text": [
      "\n"
     ]
    },
    {
     "name": "stdout",
     "output_type": "stream",
     "text": [
      "Epoch: [29][1/20]\tTime 1.278 (0.749)\tData 0.967 (0.052)\tLoss 149.2173 (215.5382)\t\n",
      "Epoch: [29][6/20]\tTime 0.845 (0.749)\tData 0.002 (0.051)\tLoss 149.8707 (215.0332)\t\n",
      "Epoch: [29][11/20]\tTime 0.733 (0.749)\tData 0.002 (0.051)\tLoss 183.7626 (214.5078)\t\n",
      "Epoch: [29][16/20]\tTime 0.636 (0.749)\tData 0.002 (0.050)\tLoss 103.5681 (214.0142)\t\n",
      "Training Summary Epoch: [29]\tTime taken (s): 15\tAverage Loss 33.508\t\n"
     ]
    },
    {
     "name": "stderr",
     "output_type": "stream",
     "text": [
      "100%|█████████████████████████████████████████████████████████████████████████████████████| 1/1 [00:01<00:00,  1.22s/it]"
     ]
    },
    {
     "name": "stdout",
     "output_type": "stream",
     "text": [
      "Validation Summary Epoch: [29]\tAverage WER 100.000\tAverage CER 76.503\t\n",
      "Learning rate annealed to: 0.000225\n"
     ]
    },
    {
     "name": "stderr",
     "output_type": "stream",
     "text": [
      "\n"
     ]
    },
    {
     "name": "stdout",
     "output_type": "stream",
     "text": [
      "Epoch: [30][1/20]\tTime 1.299 (0.749)\tData 0.954 (0.052)\tLoss 165.7052 (213.7019)\t\n",
      "Epoch: [30][6/20]\tTime 0.590 (0.749)\tData 0.002 (0.051)\tLoss 210.0072 (213.3216)\t\n",
      "Epoch: [30][11/20]\tTime 0.667 (0.748)\tData 0.002 (0.051)\tLoss 136.5946 (212.8895)\t\n",
      "Epoch: [30][16/20]\tTime 0.846 (0.748)\tData 0.002 (0.050)\tLoss 156.6092 (212.3027)\t\n",
      "Training Summary Epoch: [30]\tTime taken (s): 15\tAverage Loss 31.939\t\n"
     ]
    },
    {
     "name": "stderr",
     "output_type": "stream",
     "text": [
      "100%|█████████████████████████████████████████████████████████████████████████████████████| 1/1 [00:01<00:00,  1.21s/it]"
     ]
    },
    {
     "name": "stdout",
     "output_type": "stream",
     "text": [
      "Validation Summary Epoch: [30]\tAverage WER 102.941\tAverage CER 78.689\t\n",
      "Learning rate annealed to: 0.000223\n"
     ]
    },
    {
     "name": "stderr",
     "output_type": "stream",
     "text": [
      "\n"
     ]
    },
    {
     "name": "stdout",
     "output_type": "stream",
     "text": [
      "Epoch: [31][1/20]\tTime 1.289 (0.749)\tData 0.972 (0.052)\tLoss 133.6155 (211.6517)\t\n",
      "Epoch: [31][6/20]\tTime 0.906 (0.750)\tData 0.002 (0.051)\tLoss 128.7205 (211.0188)\t\n",
      "Epoch: [31][11/20]\tTime 0.812 (0.749)\tData 0.002 (0.051)\tLoss 199.3107 (210.4227)\t\n",
      "Epoch: [31][16/20]\tTime 0.878 (0.749)\tData 0.003 (0.050)\tLoss 169.0195 (210.0083)\t\n",
      "Training Summary Epoch: [31]\tTime taken (s): 15\tAverage Loss 30.518\t\n"
     ]
    },
    {
     "name": "stderr",
     "output_type": "stream",
     "text": [
      "100%|█████████████████████████████████████████████████████████████████████████████████████| 1/1 [00:01<00:00,  1.28s/it]"
     ]
    },
    {
     "name": "stdout",
     "output_type": "stream",
     "text": [
      "Validation Summary Epoch: [31]\tAverage WER 108.824\tAverage CER 77.049\t\n",
      "Learning rate annealed to: 0.000220\n"
     ]
    },
    {
     "name": "stderr",
     "output_type": "stream",
     "text": [
      "\n"
     ]
    },
    {
     "name": "stdout",
     "output_type": "stream",
     "text": [
      "Epoch: [32][1/20]\tTime 1.267 (0.749)\tData 1.041 (0.052)\tLoss 117.7057 (209.5499)\t\n",
      "Epoch: [32][6/20]\tTime 0.583 (0.749)\tData 0.002 (0.051)\tLoss 78.7727 (208.8815)\t\n",
      "Epoch: [32][11/20]\tTime 0.680 (0.749)\tData 0.002 (0.051)\tLoss 194.1374 (208.4924)\t\n",
      "Epoch: [32][16/20]\tTime 0.770 (0.749)\tData 0.002 (0.050)\tLoss 185.9637 (207.9640)\t\n",
      "Training Summary Epoch: [32]\tTime taken (s): 15\tAverage Loss 29.395\t\n"
     ]
    },
    {
     "name": "stderr",
     "output_type": "stream",
     "text": [
      "100%|█████████████████████████████████████████████████████████████████████████████████████| 1/1 [00:01<00:00,  1.27s/it]"
     ]
    },
    {
     "name": "stdout",
     "output_type": "stream",
     "text": [
      "Validation Summary Epoch: [32]\tAverage WER 102.941\tAverage CER 76.503\t\n",
      "Learning rate annealed to: 0.000218\n"
     ]
    },
    {
     "name": "stderr",
     "output_type": "stream",
     "text": [
      "\n"
     ]
    },
    {
     "name": "stdout",
     "output_type": "stream",
     "text": [
      "Epoch: [33][1/20]\tTime 1.301 (0.750)\tData 0.988 (0.052)\tLoss 127.4373 (207.4467)\t\n",
      "Epoch: [33][6/20]\tTime 0.766 (0.750)\tData 0.002 (0.051)\tLoss 100.0392 (206.8617)\t\n",
      "Epoch: [33][11/20]\tTime 0.695 (0.750)\tData 0.002 (0.051)\tLoss 171.8243 (206.3603)\t\n",
      "Epoch: [33][16/20]\tTime 0.663 (0.750)\tData 0.002 (0.050)\tLoss 121.2149 (205.8056)\t\n",
      "Training Summary Epoch: [33]\tTime taken (s): 15\tAverage Loss 28.145\t\n"
     ]
    },
    {
     "name": "stderr",
     "output_type": "stream",
     "text": [
      "100%|█████████████████████████████████████████████████████████████████████████████████████| 1/1 [00:01<00:00,  1.23s/it]"
     ]
    },
    {
     "name": "stdout",
     "output_type": "stream",
     "text": [
      "Validation Summary Epoch: [33]\tAverage WER 105.882\tAverage CER 76.503\t\n",
      "Learning rate annealed to: 0.000216\n"
     ]
    },
    {
     "name": "stderr",
     "output_type": "stream",
     "text": [
      "\n"
     ]
    },
    {
     "name": "stdout",
     "output_type": "stream",
     "text": [
      "Epoch: [34][1/20]\tTime 1.365 (0.750)\tData 0.998 (0.052)\tLoss 135.9105 (205.2869)\t\n",
      "Epoch: [34][6/20]\tTime 0.653 (0.749)\tData 0.002 (0.051)\tLoss 165.5622 (204.7933)\t\n",
      "Epoch: [34][11/20]\tTime 0.755 (0.750)\tData 0.002 (0.051)\tLoss 118.6886 (204.2243)\t\n",
      "Epoch: [34][16/20]\tTime 0.488 (0.749)\tData 0.002 (0.051)\tLoss 135.0067 (203.6735)\t\n",
      "Training Summary Epoch: [34]\tTime taken (s): 15\tAverage Loss 26.487\t\n"
     ]
    },
    {
     "name": "stderr",
     "output_type": "stream",
     "text": [
      "100%|█████████████████████████████████████████████████████████████████████████████████████| 1/1 [00:01<00:00,  1.29s/it]"
     ]
    },
    {
     "name": "stdout",
     "output_type": "stream",
     "text": [
      "Validation Summary Epoch: [34]\tAverage WER 105.882\tAverage CER 79.781\t\n",
      "Learning rate annealed to: 0.000214\n"
     ]
    },
    {
     "name": "stderr",
     "output_type": "stream",
     "text": [
      "\n"
     ]
    },
    {
     "name": "stdout",
     "output_type": "stream",
     "text": [
      "Epoch: [35][1/20]\tTime 1.258 (0.750)\tData 0.969 (0.052)\tLoss 112.5407 (202.9736)\t\n",
      "Epoch: [35][6/20]\tTime 0.828 (0.750)\tData 0.003 (0.051)\tLoss 105.2763 (202.2752)\t\n",
      "Epoch: [35][11/20]\tTime 0.812 (0.750)\tData 0.002 (0.051)\tLoss 124.9314 (201.7147)\t\n",
      "Epoch: [35][16/20]\tTime 0.542 (0.749)\tData 0.002 (0.051)\tLoss 130.7328 (201.2467)\t\n",
      "Training Summary Epoch: [35]\tTime taken (s): 15\tAverage Loss 24.737\t\n"
     ]
    },
    {
     "name": "stderr",
     "output_type": "stream",
     "text": [
      "100%|█████████████████████████████████████████████████████████████████████████████████████| 1/1 [00:01<00:00,  1.21s/it]"
     ]
    },
    {
     "name": "stdout",
     "output_type": "stream",
     "text": [
      "Validation Summary Epoch: [35]\tAverage WER 111.765\tAverage CER 77.596\t\n",
      "Learning rate annealed to: 0.000212\n"
     ]
    },
    {
     "name": "stderr",
     "output_type": "stream",
     "text": [
      "\n"
     ]
    },
    {
     "name": "stdout",
     "output_type": "stream",
     "text": [
      "Epoch: [36][1/20]\tTime 1.429 (0.750)\tData 1.114 (0.052)\tLoss 94.4842 (200.5622)\t\n",
      "Epoch: [36][6/20]\tTime 0.714 (0.750)\tData 0.002 (0.051)\tLoss 103.0251 (199.9516)\t\n",
      "Epoch: [36][11/20]\tTime 0.793 (0.750)\tData 0.003 (0.051)\tLoss 83.1405 (199.1003)\t\n",
      "Epoch: [36][16/20]\tTime 0.736 (0.749)\tData 0.002 (0.051)\tLoss 140.0613 (198.6971)\t\n",
      "Training Summary Epoch: [36]\tTime taken (s): 15\tAverage Loss 23.011\t\n"
     ]
    },
    {
     "name": "stderr",
     "output_type": "stream",
     "text": [
      "100%|█████████████████████████████████████████████████████████████████████████████████████| 1/1 [00:01<00:00,  1.22s/it]"
     ]
    },
    {
     "name": "stdout",
     "output_type": "stream",
     "text": [
      "Validation Summary Epoch: [36]\tAverage WER 102.941\tAverage CER 77.049\t\n",
      "Learning rate annealed to: 0.000210\n"
     ]
    },
    {
     "name": "stderr",
     "output_type": "stream",
     "text": [
      "\n"
     ]
    },
    {
     "name": "stdout",
     "output_type": "stream",
     "text": [
      "Epoch: [37][1/20]\tTime 1.417 (0.750)\tData 1.075 (0.052)\tLoss 112.3531 (198.1052)\t\n",
      "Epoch: [37][6/20]\tTime 0.576 (0.750)\tData 0.002 (0.052)\tLoss 150.3172 (197.5667)\t\n",
      "Epoch: [37][11/20]\tTime 0.671 (0.750)\tData 0.002 (0.051)\tLoss 107.2690 (196.8863)\t\n",
      "Epoch: [37][16/20]\tTime 0.786 (0.750)\tData 0.002 (0.051)\tLoss 119.6612 (196.2278)\t\n",
      "Training Summary Epoch: [37]\tTime taken (s): 15\tAverage Loss 22.136\t\n"
     ]
    },
    {
     "name": "stderr",
     "output_type": "stream",
     "text": [
      "100%|█████████████████████████████████████████████████████████████████████████████████████| 1/1 [00:01<00:00,  1.26s/it]"
     ]
    },
    {
     "name": "stdout",
     "output_type": "stream",
     "text": [
      "Validation Summary Epoch: [37]\tAverage WER 126.471\tAverage CER 76.503\t\n",
      "Learning rate annealed to: 0.000208\n"
     ]
    },
    {
     "name": "stderr",
     "output_type": "stream",
     "text": [
      "\n"
     ]
    },
    {
     "name": "stdout",
     "output_type": "stream",
     "text": [
      "Epoch: [38][1/20]\tTime 1.361 (0.750)\tData 1.070 (0.052)\tLoss 53.4667 (195.5593)\t\n",
      "Epoch: [38][6/20]\tTime 0.706 (0.750)\tData 0.002 (0.052)\tLoss 114.0073 (195.0605)\t\n",
      "Epoch: [38][11/20]\tTime 0.685 (0.750)\tData 0.002 (0.051)\tLoss 119.4894 (194.4602)\t\n",
      "Epoch: [38][16/20]\tTime 0.695 (0.750)\tData 0.002 (0.051)\tLoss 112.7338 (193.9114)\t\n",
      "Training Summary Epoch: [38]\tTime taken (s): 15\tAverage Loss 22.242\t\n"
     ]
    },
    {
     "name": "stderr",
     "output_type": "stream",
     "text": [
      "100%|█████████████████████████████████████████████████████████████████████████████████████| 1/1 [00:01<00:00,  1.23s/it]"
     ]
    },
    {
     "name": "stdout",
     "output_type": "stream",
     "text": [
      "Validation Summary Epoch: [38]\tAverage WER 129.412\tAverage CER 79.235\t\n",
      "Learning rate annealed to: 0.000206\n"
     ]
    },
    {
     "name": "stderr",
     "output_type": "stream",
     "text": [
      "\n"
     ]
    },
    {
     "name": "stdout",
     "output_type": "stream",
     "text": [
      "Epoch: [39][1/20]\tTime 1.375 (0.751)\tData 1.055 (0.052)\tLoss 85.5167 (193.2895)\t\n",
      "Epoch: [39][6/20]\tTime 0.683 (0.750)\tData 0.002 (0.052)\tLoss 81.9197 (192.5397)\t\n",
      "Epoch: [39][11/20]\tTime 0.815 (0.750)\tData 0.002 (0.051)\tLoss 105.9334 (191.9593)\t\n",
      "Epoch: [39][16/20]\tTime 0.394 (0.750)\tData 0.002 (0.051)\tLoss 91.4118 (191.4436)\t\n",
      "Training Summary Epoch: [39]\tTime taken (s): 15\tAverage Loss 20.489\t\n"
     ]
    },
    {
     "name": "stderr",
     "output_type": "stream",
     "text": [
      "100%|█████████████████████████████████████████████████████████████████████████████████████| 1/1 [00:01<00:00,  1.31s/it]"
     ]
    },
    {
     "name": "stdout",
     "output_type": "stream",
     "text": [
      "Validation Summary Epoch: [39]\tAverage WER 129.412\tAverage CER 83.060\t\n",
      "Learning rate annealed to: 0.000204\n"
     ]
    },
    {
     "name": "stderr",
     "output_type": "stream",
     "text": [
      "\n"
     ]
    },
    {
     "name": "stdout",
     "output_type": "stream",
     "text": [
      "Epoch: [40][1/20]\tTime 1.441 (0.751)\tData 1.071 (0.052)\tLoss 102.9865 (190.8949)\t\n",
      "Epoch: [40][6/20]\tTime 0.735 (0.750)\tData 0.002 (0.052)\tLoss 141.9992 (190.2397)\t\n",
      "Epoch: [40][11/20]\tTime 0.714 (0.750)\tData 0.002 (0.052)\tLoss 107.1820 (189.5831)\t\n",
      "Epoch: [40][16/20]\tTime 0.761 (0.750)\tData 0.003 (0.051)\tLoss 143.4325 (189.1184)\t\n",
      "Training Summary Epoch: [40]\tTime taken (s): 15\tAverage Loss 19.854\t\n"
     ]
    },
    {
     "name": "stderr",
     "output_type": "stream",
     "text": [
      "100%|█████████████████████████████████████████████████████████████████████████████████████| 1/1 [00:01<00:00,  1.31s/it]"
     ]
    },
    {
     "name": "stdout",
     "output_type": "stream",
     "text": [
      "Validation Summary Epoch: [40]\tAverage WER 114.706\tAverage CER 79.781\t\n",
      "Learning rate annealed to: 0.000201\n"
     ]
    },
    {
     "name": "stderr",
     "output_type": "stream",
     "text": [
      "\n"
     ]
    },
    {
     "name": "stdout",
     "output_type": "stream",
     "text": [
      "Epoch: [41][1/20]\tTime 1.279 (0.750)\tData 1.003 (0.052)\tLoss 116.4389 (188.5403)\t\n",
      "Epoch: [41][6/20]\tTime 0.900 (0.750)\tData 0.002 (0.052)\tLoss 97.3634 (187.9756)\t\n",
      "Epoch: [41][11/20]\tTime 0.706 (0.750)\tData 0.002 (0.052)\tLoss 91.3860 (187.3766)\t\n",
      "Epoch: [41][16/20]\tTime 0.727 (0.750)\tData 0.002 (0.051)\tLoss 127.6010 (186.7154)\t\n",
      "Training Summary Epoch: [41]\tTime taken (s): 15\tAverage Loss 18.161\t\n"
     ]
    },
    {
     "name": "stderr",
     "output_type": "stream",
     "text": [
      "100%|█████████████████████████████████████████████████████████████████████████████████████| 1/1 [00:01<00:00,  1.31s/it]"
     ]
    },
    {
     "name": "stdout",
     "output_type": "stream",
     "text": [
      "Validation Summary Epoch: [41]\tAverage WER 120.588\tAverage CER 75.956\t\n",
      "Learning rate annealed to: 0.000200\n"
     ]
    },
    {
     "name": "stderr",
     "output_type": "stream",
     "text": [
      "\n"
     ]
    },
    {
     "name": "stdout",
     "output_type": "stream",
     "text": [
      "Epoch: [42][1/20]\tTime 1.377 (0.750)\tData 1.084 (0.052)\tLoss 124.5091 (186.0913)\t\n",
      "Epoch: [42][6/20]\tTime 0.731 (0.751)\tData 0.002 (0.052)\tLoss 63.1944 (185.4549)\t\n",
      "Epoch: [42][11/20]\tTime 0.639 (0.750)\tData 0.002 (0.052)\tLoss 45.6564 (184.8057)\t\n",
      "Epoch: [42][16/20]\tTime 0.697 (0.750)\tData 0.002 (0.051)\tLoss 57.0397 (184.1585)\t\n",
      "Training Summary Epoch: [42]\tTime taken (s): 15\tAverage Loss 16.764\t\n"
     ]
    },
    {
     "name": "stderr",
     "output_type": "stream",
     "text": [
      "100%|█████████████████████████████████████████████████████████████████████████████████████| 1/1 [00:01<00:00,  1.32s/it]"
     ]
    },
    {
     "name": "stdout",
     "output_type": "stream",
     "text": [
      "Validation Summary Epoch: [42]\tAverage WER 117.647\tAverage CER 80.874\t\n",
      "Learning rate annealed to: 0.000198\n"
     ]
    },
    {
     "name": "stderr",
     "output_type": "stream",
     "text": [
      "\n"
     ]
    },
    {
     "name": "stdout",
     "output_type": "stream",
     "text": [
      "Epoch: [43][1/20]\tTime 1.482 (0.751)\tData 1.091 (0.052)\tLoss 100.7729 (183.5605)\t\n",
      "Epoch: [43][6/20]\tTime 0.760 (0.751)\tData 0.002 (0.052)\tLoss 73.9257 (182.9186)\t\n",
      "Epoch: [43][11/20]\tTime 0.749 (0.750)\tData 0.002 (0.052)\tLoss 83.8727 (182.2010)\t\n",
      "Epoch: [43][16/20]\tTime 0.800 (0.750)\tData 0.002 (0.052)\tLoss 91.1093 (181.5862)\t\n",
      "Training Summary Epoch: [43]\tTime taken (s): 15\tAverage Loss 16.267\t\n"
     ]
    },
    {
     "name": "stderr",
     "output_type": "stream",
     "text": [
      "100%|█████████████████████████████████████████████████████████████████████████████████████| 1/1 [00:01<00:00,  1.32s/it]"
     ]
    },
    {
     "name": "stdout",
     "output_type": "stream",
     "text": [
      "Validation Summary Epoch: [43]\tAverage WER 129.412\tAverage CER 78.142\t\n",
      "Learning rate annealed to: 0.000196\n"
     ]
    },
    {
     "name": "stderr",
     "output_type": "stream",
     "text": [
      "\n"
     ]
    },
    {
     "name": "stdout",
     "output_type": "stream",
     "text": [
      "Epoch: [44][1/20]\tTime 1.450 (0.751)\tData 1.081 (0.052)\tLoss 84.4665 (181.1007)\t\n",
      "Epoch: [44][6/20]\tTime 0.767 (0.750)\tData 0.003 (0.052)\tLoss 63.9178 (180.5533)\t\n",
      "Epoch: [44][11/20]\tTime 0.772 (0.750)\tData 0.002 (0.052)\tLoss 35.4449 (179.8087)\t\n",
      "Epoch: [44][16/20]\tTime 0.749 (0.750)\tData 0.002 (0.052)\tLoss 104.3598 (179.2324)\t\n",
      "Training Summary Epoch: [44]\tTime taken (s): 15\tAverage Loss 15.070\t\n"
     ]
    },
    {
     "name": "stderr",
     "output_type": "stream",
     "text": [
      "100%|█████████████████████████████████████████████████████████████████████████████████████| 1/1 [00:01<00:00,  1.25s/it]"
     ]
    },
    {
     "name": "stdout",
     "output_type": "stream",
     "text": [
      "Validation Summary Epoch: [44]\tAverage WER 108.824\tAverage CER 80.874\t\n",
      "Learning rate annealed to: 0.000194\n"
     ]
    },
    {
     "name": "stderr",
     "output_type": "stream",
     "text": [
      "\n"
     ]
    },
    {
     "name": "stdout",
     "output_type": "stream",
     "text": [
      "Epoch: [45][1/20]\tTime 1.558 (0.751)\tData 1.126 (0.053)\tLoss 72.9003 (178.6267)\t\n",
      "Epoch: [45][6/20]\tTime 0.778 (0.751)\tData 0.002 (0.052)\tLoss 52.2966 (177.9117)\t\n",
      "Epoch: [45][11/20]\tTime 0.824 (0.751)\tData 0.002 (0.052)\tLoss 40.6455 (177.2678)\t\n",
      "Epoch: [45][16/20]\tTime 0.735 (0.750)\tData 0.002 (0.052)\tLoss 69.5868 (176.7666)\t\n",
      "Training Summary Epoch: [45]\tTime taken (s): 15\tAverage Loss 13.761\t\n"
     ]
    },
    {
     "name": "stderr",
     "output_type": "stream",
     "text": [
      "100%|█████████████████████████████████████████████████████████████████████████████████████| 1/1 [00:01<00:00,  1.33s/it]"
     ]
    },
    {
     "name": "stdout",
     "output_type": "stream",
     "text": [
      "Validation Summary Epoch: [45]\tAverage WER 129.412\tAverage CER 79.781\t\n",
      "Learning rate annealed to: 0.000192\n"
     ]
    },
    {
     "name": "stderr",
     "output_type": "stream",
     "text": [
      "\n"
     ]
    },
    {
     "name": "stdout",
     "output_type": "stream",
     "text": [
      "Epoch: [46][1/20]\tTime 1.370 (0.751)\tData 1.013 (0.053)\tLoss 90.3238 (176.1543)\t\n",
      "Epoch: [46][6/20]\tTime 0.813 (0.750)\tData 0.002 (0.052)\tLoss 81.6595 (175.4833)\t\n",
      "Epoch: [46][11/20]\tTime 0.800 (0.750)\tData 0.002 (0.052)\tLoss 48.1525 (174.8923)\t\n",
      "Epoch: [46][16/20]\tTime 0.696 (0.750)\tData 0.002 (0.052)\tLoss 82.0234 (174.2709)\t\n",
      "Training Summary Epoch: [46]\tTime taken (s): 15\tAverage Loss 12.427\t\n"
     ]
    },
    {
     "name": "stderr",
     "output_type": "stream",
     "text": [
      "100%|█████████████████████████████████████████████████████████████████████████████████████| 1/1 [00:01<00:00,  1.33s/it]"
     ]
    },
    {
     "name": "stdout",
     "output_type": "stream",
     "text": [
      "Validation Summary Epoch: [46]\tAverage WER 126.471\tAverage CER 78.689\t\n",
      "Learning rate annealed to: 0.000190\n"
     ]
    },
    {
     "name": "stderr",
     "output_type": "stream",
     "text": [
      "\n"
     ]
    },
    {
     "name": "stdout",
     "output_type": "stream",
     "text": [
      "Epoch: [47][1/20]\tTime 1.363 (0.751)\tData 1.081 (0.053)\tLoss 48.6817 (173.5836)\t\n",
      "Epoch: [47][6/20]\tTime 0.701 (0.750)\tData 0.003 (0.052)\tLoss 50.0420 (172.9204)\t\n",
      "Epoch: [47][11/20]\tTime 0.646 (0.750)\tData 0.002 (0.052)\tLoss 32.3205 (172.2408)\t\n",
      "Epoch: [47][16/20]\tTime 0.751 (0.750)\tData 0.002 (0.052)\tLoss 49.1940 (171.6542)\t\n",
      "Training Summary Epoch: [47]\tTime taken (s): 15\tAverage Loss 11.776\t\n"
     ]
    },
    {
     "name": "stderr",
     "output_type": "stream",
     "text": [
      "100%|█████████████████████████████████████████████████████████████████████████████████████| 1/1 [00:01<00:00,  1.33s/it]"
     ]
    },
    {
     "name": "stdout",
     "output_type": "stream",
     "text": [
      "Validation Summary Epoch: [47]\tAverage WER 123.529\tAverage CER 80.874\t\n",
      "Learning rate annealed to: 0.000188\n"
     ]
    },
    {
     "name": "stderr",
     "output_type": "stream",
     "text": [
      "\n"
     ]
    },
    {
     "name": "stdout",
     "output_type": "stream",
     "text": [
      "Epoch: [48][1/20]\tTime 1.403 (0.751)\tData 1.090 (0.053)\tLoss 54.7004 (171.1073)\t\n",
      "Epoch: [48][6/20]\tTime 0.746 (0.750)\tData 0.003 (0.053)\tLoss 51.8040 (170.5943)\t\n",
      "Epoch: [48][11/20]\tTime 0.730 (0.750)\tData 0.002 (0.052)\tLoss 65.5931 (169.9134)\t\n",
      "Epoch: [48][16/20]\tTime 0.753 (0.750)\tData 0.002 (0.052)\tLoss 77.6915 (169.3242)\t\n",
      "Training Summary Epoch: [48]\tTime taken (s): 15\tAverage Loss 11.904\t\n"
     ]
    },
    {
     "name": "stderr",
     "output_type": "stream",
     "text": [
      "100%|█████████████████████████████████████████████████████████████████████████████████████| 1/1 [00:01<00:00,  1.37s/it]"
     ]
    },
    {
     "name": "stdout",
     "output_type": "stream",
     "text": [
      "Validation Summary Epoch: [48]\tAverage WER 108.824\tAverage CER 81.421\t\n",
      "Learning rate annealed to: 0.000186\n"
     ]
    },
    {
     "name": "stderr",
     "output_type": "stream",
     "text": [
      "\n"
     ]
    },
    {
     "name": "stdout",
     "output_type": "stream",
     "text": [
      "Epoch: [49][1/20]\tTime 1.468 (0.751)\tData 1.093 (0.053)\tLoss 50.6278 (168.7366)\t\n",
      "Epoch: [49][6/20]\tTime 0.580 (0.751)\tData 0.002 (0.053)\tLoss 44.0623 (168.1585)\t\n",
      "Epoch: [49][11/20]\tTime 0.774 (0.750)\tData 0.002 (0.052)\tLoss 43.7187 (167.5618)\t\n",
      "Epoch: [49][16/20]\tTime 0.816 (0.750)\tData 0.003 (0.052)\tLoss 44.8553 (167.0026)\t\n",
      "Training Summary Epoch: [49]\tTime taken (s): 15\tAverage Loss 11.195\t\n"
     ]
    },
    {
     "name": "stderr",
     "output_type": "stream",
     "text": [
      "100%|█████████████████████████████████████████████████████████████████████████████████████| 1/1 [00:01<00:00,  1.34s/it]"
     ]
    },
    {
     "name": "stdout",
     "output_type": "stream",
     "text": [
      "Validation Summary Epoch: [49]\tAverage WER 123.529\tAverage CER 80.874\t\n",
      "Learning rate annealed to: 0.000184\n"
     ]
    },
    {
     "name": "stderr",
     "output_type": "stream",
     "text": [
      "\n"
     ]
    },
    {
     "name": "stdout",
     "output_type": "stream",
     "text": [
      "Epoch: [50][1/20]\tTime 1.415 (0.751)\tData 1.095 (0.053)\tLoss 40.6787 (166.3870)\t\n",
      "Epoch: [50][6/20]\tTime 0.789 (0.751)\tData 0.003 (0.053)\tLoss 40.7682 (165.7751)\t\n",
      "Epoch: [50][11/20]\tTime 0.712 (0.751)\tData 0.003 (0.052)\tLoss 44.6673 (165.1438)\t\n",
      "Epoch: [50][16/20]\tTime 0.724 (0.751)\tData 0.002 (0.052)\tLoss 52.1721 (164.6013)\t\n",
      "Training Summary Epoch: [50]\tTime taken (s): 15\tAverage Loss 10.695\t\n"
     ]
    },
    {
     "name": "stderr",
     "output_type": "stream",
     "text": [
      "100%|█████████████████████████████████████████████████████████████████████████████████████| 1/1 [00:01<00:00,  1.25s/it]"
     ]
    },
    {
     "name": "stdout",
     "output_type": "stream",
     "text": [
      "Validation Summary Epoch: [50]\tAverage WER 129.412\tAverage CER 81.421\t\n",
      "Learning rate annealed to: 0.000182\n"
     ]
    },
    {
     "name": "stderr",
     "output_type": "stream",
     "text": [
      "\n"
     ]
    },
    {
     "name": "stdout",
     "output_type": "stream",
     "text": [
      "Epoch: [51][1/20]\tTime 1.446 (0.751)\tData 1.101 (0.053)\tLoss 51.7492 (164.1059)\t\n",
      "Epoch: [51][6/20]\tTime 0.645 (0.751)\tData 0.003 (0.053)\tLoss 29.2966 (163.4894)\t\n",
      "Epoch: [51][11/20]\tTime 0.613 (0.750)\tData 0.002 (0.053)\tLoss 48.0280 (162.9859)\t\n",
      "Epoch: [51][16/20]\tTime 0.719 (0.750)\tData 0.003 (0.052)\tLoss 44.2924 (162.4509)\t\n",
      "Training Summary Epoch: [51]\tTime taken (s): 15\tAverage Loss 10.676\t\n"
     ]
    },
    {
     "name": "stderr",
     "output_type": "stream",
     "text": [
      "100%|█████████████████████████████████████████████████████████████████████████████████████| 1/1 [00:01<00:00,  1.34s/it]"
     ]
    },
    {
     "name": "stdout",
     "output_type": "stream",
     "text": [
      "Validation Summary Epoch: [51]\tAverage WER 144.118\tAverage CER 81.967\t\n",
      "Learning rate annealed to: 0.000181\n"
     ]
    },
    {
     "name": "stderr",
     "output_type": "stream",
     "text": [
      "\n"
     ]
    },
    {
     "name": "stdout",
     "output_type": "stream",
     "text": [
      "Epoch: [52][1/20]\tTime 1.430 (0.751)\tData 1.100 (0.053)\tLoss 42.2349 (161.8935)\t\n",
      "Epoch: [52][6/20]\tTime 0.869 (0.751)\tData 0.002 (0.053)\tLoss 40.5458 (161.3449)\t\n",
      "Epoch: [52][11/20]\tTime 0.619 (0.751)\tData 0.002 (0.053)\tLoss 54.7490 (160.8088)\t\n",
      "Epoch: [52][16/20]\tTime 0.632 (0.751)\tData 0.003 (0.052)\tLoss 71.7714 (160.2700)\t\n",
      "Training Summary Epoch: [52]\tTime taken (s): 15\tAverage Loss 10.390\t\n"
     ]
    },
    {
     "name": "stderr",
     "output_type": "stream",
     "text": [
      "100%|█████████████████████████████████████████████████████████████████████████████████████| 1/1 [00:01<00:00,  1.32s/it]"
     ]
    },
    {
     "name": "stdout",
     "output_type": "stream",
     "text": [
      "Validation Summary Epoch: [52]\tAverage WER 129.412\tAverage CER 81.421\t\n",
      "Learning rate annealed to: 0.000179\n"
     ]
    },
    {
     "name": "stderr",
     "output_type": "stream",
     "text": [
      "\n"
     ]
    },
    {
     "name": "stdout",
     "output_type": "stream",
     "text": [
      "Epoch: [53][1/20]\tTime 1.476 (0.752)\tData 1.104 (0.053)\tLoss 44.0543 (159.7497)\t\n",
      "Epoch: [53][6/20]\tTime 0.847 (0.751)\tData 0.003 (0.053)\tLoss 39.1885 (159.1766)\t\n",
      "Epoch: [53][11/20]\tTime 0.751 (0.751)\tData 0.002 (0.053)\tLoss 41.4666 (158.6629)\t\n",
      "Epoch: [53][16/20]\tTime 0.562 (0.751)\tData 0.002 (0.053)\tLoss 58.5757 (158.1844)\t\n",
      "Training Summary Epoch: [53]\tTime taken (s): 15\tAverage Loss 9.654\t\n"
     ]
    },
    {
     "name": "stderr",
     "output_type": "stream",
     "text": [
      "100%|█████████████████████████████████████████████████████████████████████████████████████| 1/1 [00:01<00:00,  1.33s/it]"
     ]
    },
    {
     "name": "stdout",
     "output_type": "stream",
     "text": [
      "Validation Summary Epoch: [53]\tAverage WER 135.294\tAverage CER 85.246\t\n",
      "Learning rate annealed to: 0.000177\n"
     ]
    },
    {
     "name": "stderr",
     "output_type": "stream",
     "text": [
      "\n"
     ]
    },
    {
     "name": "stdout",
     "output_type": "stream",
     "text": [
      "Epoch: [54][1/20]\tTime 1.378 (0.751)\tData 1.095 (0.053)\tLoss 37.7170 (157.6106)\t\n",
      "Epoch: [54][6/20]\tTime 0.744 (0.751)\tData 0.003 (0.053)\tLoss 54.8619 (157.0780)\t\n",
      "Epoch: [54][11/20]\tTime 0.780 (0.752)\tData 0.002 (0.053)\tLoss 53.8483 (156.5510)\t\n",
      "Epoch: [54][16/20]\tTime 0.494 (0.751)\tData 0.002 (0.053)\tLoss 38.1416 (156.0462)\t\n",
      "Training Summary Epoch: [54]\tTime taken (s): 15\tAverage Loss 9.026\t\n"
     ]
    },
    {
     "name": "stderr",
     "output_type": "stream",
     "text": [
      "100%|█████████████████████████████████████████████████████████████████████████████████████| 1/1 [00:01<00:00,  1.25s/it]"
     ]
    },
    {
     "name": "stdout",
     "output_type": "stream",
     "text": [
      "Validation Summary Epoch: [54]\tAverage WER 132.353\tAverage CER 82.514\t\n",
      "Learning rate annealed to: 0.000175\n"
     ]
    },
    {
     "name": "stderr",
     "output_type": "stream",
     "text": [
      "\n"
     ]
    },
    {
     "name": "stdout",
     "output_type": "stream",
     "text": [
      "Epoch: [55][1/20]\tTime 1.387 (0.752)\tData 1.094 (0.053)\tLoss 20.6138 (155.4860)\t\n",
      "Epoch: [55][6/20]\tTime 0.665 (0.751)\tData 0.002 (0.053)\tLoss 41.6214 (154.9157)\t\n",
      "Epoch: [55][11/20]\tTime 0.800 (0.752)\tData 0.002 (0.053)\tLoss 43.7144 (154.4109)\t\n",
      "Epoch: [55][16/20]\tTime 0.611 (0.752)\tData 0.002 (0.053)\tLoss 38.1575 (153.8706)\t\n",
      "Training Summary Epoch: [55]\tTime taken (s): 15\tAverage Loss 8.395\t\n"
     ]
    },
    {
     "name": "stderr",
     "output_type": "stream",
     "text": [
      "100%|█████████████████████████████████████████████████████████████████████████████████████| 1/1 [00:01<00:00,  1.27s/it]"
     ]
    },
    {
     "name": "stdout",
     "output_type": "stream",
     "text": [
      "Validation Summary Epoch: [55]\tAverage WER 129.412\tAverage CER 83.060\t\n",
      "Learning rate annealed to: 0.000174\n"
     ]
    },
    {
     "name": "stderr",
     "output_type": "stream",
     "text": [
      "\n"
     ]
    },
    {
     "name": "stdout",
     "output_type": "stream",
     "text": [
      "Epoch: [56][1/20]\tTime 1.361 (0.752)\tData 1.043 (0.053)\tLoss 33.6230 (153.4104)\t\n",
      "Epoch: [56][6/20]\tTime 0.566 (0.751)\tData 0.002 (0.053)\tLoss 46.3488 (152.9487)\t\n",
      "Epoch: [56][11/20]\tTime 0.652 (0.751)\tData 0.002 (0.053)\tLoss 29.0831 (152.3954)\t\n",
      "Epoch: [56][16/20]\tTime 0.855 (0.751)\tData 0.003 (0.053)\tLoss 31.5454 (151.9007)\t\n",
      "Training Summary Epoch: [56]\tTime taken (s): 15\tAverage Loss 7.870\t\n"
     ]
    },
    {
     "name": "stderr",
     "output_type": "stream",
     "text": [
      "100%|█████████████████████████████████████████████████████████████████████████████████████| 1/1 [00:01<00:00,  1.24s/it]"
     ]
    },
    {
     "name": "stdout",
     "output_type": "stream",
     "text": [
      "Validation Summary Epoch: [56]\tAverage WER 129.412\tAverage CER 81.421\t\n",
      "Learning rate annealed to: 0.000172\n"
     ]
    },
    {
     "name": "stderr",
     "output_type": "stream",
     "text": [
      "\n"
     ]
    },
    {
     "name": "stdout",
     "output_type": "stream",
     "text": [
      "Epoch: [57][1/20]\tTime 1.402 (0.752)\tData 1.024 (0.053)\tLoss 37.8854 (151.3567)\t\n",
      "Epoch: [57][6/20]\tTime 0.576 (0.752)\tData 0.002 (0.053)\tLoss 66.4438 (150.8391)\t\n",
      "Epoch: [57][11/20]\tTime 0.767 (0.752)\tData 0.002 (0.053)\tLoss 40.8704 (150.3199)\t\n",
      "Epoch: [57][16/20]\tTime 0.480 (0.751)\tData 0.002 (0.053)\tLoss 28.3468 (149.8448)\t\n",
      "Training Summary Epoch: [57]\tTime taken (s): 15\tAverage Loss 7.558\t\n"
     ]
    },
    {
     "name": "stderr",
     "output_type": "stream",
     "text": [
      "100%|█████████████████████████████████████████████████████████████████████████████████████| 1/1 [00:01<00:00,  1.27s/it]"
     ]
    },
    {
     "name": "stdout",
     "output_type": "stream",
     "text": [
      "Validation Summary Epoch: [57]\tAverage WER 138.235\tAverage CER 80.874\t\n",
      "Learning rate annealed to: 0.000170\n"
     ]
    },
    {
     "name": "stderr",
     "output_type": "stream",
     "text": [
      "\n"
     ]
    },
    {
     "name": "stdout",
     "output_type": "stream",
     "text": [
      "Epoch: [58][1/20]\tTime 1.335 (0.752)\tData 1.026 (0.053)\tLoss 39.7823 (149.3453)\t\n",
      "Epoch: [58][6/20]\tTime 0.502 (0.751)\tData 0.002 (0.053)\tLoss 39.1119 (148.8690)\t\n",
      "Epoch: [58][11/20]\tTime 0.854 (0.751)\tData 0.003 (0.053)\tLoss 35.3448 (148.3935)\t\n",
      "Epoch: [58][16/20]\tTime 0.868 (0.751)\tData 0.002 (0.053)\tLoss 42.5321 (147.8906)\t\n",
      "Training Summary Epoch: [58]\tTime taken (s): 15\tAverage Loss 7.108\t\n"
     ]
    },
    {
     "name": "stderr",
     "output_type": "stream",
     "text": [
      "100%|█████████████████████████████████████████████████████████████████████████████████████| 1/1 [00:01<00:00,  1.27s/it]"
     ]
    },
    {
     "name": "stdout",
     "output_type": "stream",
     "text": [
      "Validation Summary Epoch: [58]\tAverage WER 135.294\tAverage CER 84.699\t\n",
      "Learning rate annealed to: 0.000168\n"
     ]
    },
    {
     "name": "stderr",
     "output_type": "stream",
     "text": [
      "\n"
     ]
    },
    {
     "name": "stdout",
     "output_type": "stream",
     "text": [
      "Epoch: [59][1/20]\tTime 1.341 (0.752)\tData 1.031 (0.053)\tLoss 41.1437 (147.3654)\t\n",
      "Epoch: [59][6/20]\tTime 0.671 (0.752)\tData 0.002 (0.053)\tLoss 34.6836 (146.8637)\t\n",
      "Epoch: [59][11/20]\tTime 0.876 (0.752)\tData 0.003 (0.053)\tLoss 16.9100 (146.3384)\t\n",
      "Epoch: [59][16/20]\tTime 0.704 (0.752)\tData 0.003 (0.053)\tLoss 19.1751 (145.8708)\t\n",
      "Training Summary Epoch: [59]\tTime taken (s): 15\tAverage Loss 6.755\t\n"
     ]
    },
    {
     "name": "stderr",
     "output_type": "stream",
     "text": [
      "100%|█████████████████████████████████████████████████████████████████████████████████████| 1/1 [00:01<00:00,  1.34s/it]"
     ]
    },
    {
     "name": "stdout",
     "output_type": "stream",
     "text": [
      "Validation Summary Epoch: [59]\tAverage WER 152.941\tAverage CER 93.443\t\n",
      "Learning rate annealed to: 0.000167\n"
     ]
    },
    {
     "name": "stderr",
     "output_type": "stream",
     "text": [
      "\n"
     ]
    },
    {
     "name": "stdout",
     "output_type": "stream",
     "text": [
      "Epoch: [60][1/20]\tTime 1.315 (0.752)\tData 1.024 (0.053)\tLoss 24.8070 (145.4087)\t\n",
      "Epoch: [60][6/20]\tTime 0.725 (0.752)\tData 0.002 (0.053)\tLoss 35.0493 (144.9029)\t\n",
      "Epoch: [60][11/20]\tTime 0.578 (0.752)\tData 0.002 (0.053)\tLoss 18.2107 (144.3895)\t\n",
      "Epoch: [60][16/20]\tTime 0.749 (0.752)\tData 0.003 (0.053)\tLoss 34.9001 (143.9490)\t\n",
      "Training Summary Epoch: [60]\tTime taken (s): 15\tAverage Loss 6.515\t\n"
     ]
    },
    {
     "name": "stderr",
     "output_type": "stream",
     "text": [
      "100%|█████████████████████████████████████████████████████████████████████████████████████| 1/1 [00:01<00:00,  1.29s/it]"
     ]
    },
    {
     "name": "stdout",
     "output_type": "stream",
     "text": [
      "Validation Summary Epoch: [60]\tAverage WER 126.471\tAverage CER 82.514\t\n",
      "Learning rate annealed to: 0.000165\n"
     ]
    },
    {
     "name": "stderr",
     "output_type": "stream",
     "text": [
      "\n"
     ]
    },
    {
     "name": "stdout",
     "output_type": "stream",
     "text": [
      "Epoch: [61][1/20]\tTime 1.441 (0.752)\tData 1.119 (0.053)\tLoss 35.4442 (143.5202)\t\n",
      "Epoch: [61][6/20]\tTime 0.469 (0.752)\tData 0.002 (0.053)\tLoss 17.8162 (143.0681)\t\n",
      "Epoch: [61][11/20]\tTime 0.513 (0.751)\tData 0.002 (0.053)\tLoss 21.9115 (142.5800)\t\n",
      "Epoch: [61][16/20]\tTime 0.831 (0.751)\tData 0.003 (0.053)\tLoss 26.3315 (142.1438)\t\n",
      "Training Summary Epoch: [61]\tTime taken (s): 15\tAverage Loss 6.426\t\n"
     ]
    },
    {
     "name": "stderr",
     "output_type": "stream",
     "text": [
      "100%|█████████████████████████████████████████████████████████████████████████████████████| 1/1 [00:01<00:00,  1.35s/it]"
     ]
    },
    {
     "name": "stdout",
     "output_type": "stream",
     "text": [
      "Validation Summary Epoch: [61]\tAverage WER 138.235\tAverage CER 80.874\t\n",
      "Learning rate annealed to: 0.000163\n"
     ]
    },
    {
     "name": "stderr",
     "output_type": "stream",
     "text": [
      "\n"
     ]
    },
    {
     "name": "stdout",
     "output_type": "stream",
     "text": [
      "Epoch: [62][1/20]\tTime 1.407 (0.752)\tData 1.116 (0.054)\tLoss 16.3543 (141.6629)\t\n",
      "Epoch: [62][6/20]\tTime 0.497 (0.752)\tData 0.002 (0.053)\tLoss 29.7722 (141.2553)\t\n",
      "Epoch: [62][11/20]\tTime 0.735 (0.752)\tData 0.003 (0.053)\tLoss 26.0297 (140.8036)\t\n",
      "Epoch: [62][16/20]\tTime 0.819 (0.751)\tData 0.003 (0.053)\tLoss 39.5541 (140.3333)\t\n",
      "Training Summary Epoch: [62]\tTime taken (s): 15\tAverage Loss 6.260\t\n"
     ]
    },
    {
     "name": "stderr",
     "output_type": "stream",
     "text": [
      "100%|█████████████████████████████████████████████████████████████████████████████████████| 1/1 [00:01<00:00,  1.29s/it]"
     ]
    },
    {
     "name": "stdout",
     "output_type": "stream",
     "text": [
      "Validation Summary Epoch: [62]\tAverage WER 126.471\tAverage CER 80.874\t\n",
      "Learning rate annealed to: 0.000162\n"
     ]
    },
    {
     "name": "stderr",
     "output_type": "stream",
     "text": [
      "\n"
     ]
    },
    {
     "name": "stdout",
     "output_type": "stream",
     "text": [
      "Epoch: [63][1/20]\tTime 1.394 (0.752)\tData 1.114 (0.054)\tLoss 24.9799 (139.8754)\t\n",
      "Epoch: [63][6/20]\tTime 0.902 (0.752)\tData 0.003 (0.053)\tLoss 22.9700 (139.4070)\t\n",
      "Epoch: [63][11/20]\tTime 0.693 (0.752)\tData 0.002 (0.053)\tLoss 25.0307 (139.0221)\t\n",
      "Epoch: [63][16/20]\tTime 0.745 (0.752)\tData 0.003 (0.053)\tLoss 16.6470 (138.5470)\t\n",
      "Training Summary Epoch: [63]\tTime taken (s): 15\tAverage Loss 6.120\t\n"
     ]
    },
    {
     "name": "stderr",
     "output_type": "stream",
     "text": [
      "100%|█████████████████████████████████████████████████████████████████████████████████████| 1/1 [00:01<00:00,  1.36s/it]"
     ]
    },
    {
     "name": "stdout",
     "output_type": "stream",
     "text": [
      "Validation Summary Epoch: [63]\tAverage WER 158.824\tAverage CER 90.710\t\n",
      "Learning rate annealed to: 0.000160\n"
     ]
    },
    {
     "name": "stderr",
     "output_type": "stream",
     "text": [
      "\n"
     ]
    },
    {
     "name": "stdout",
     "output_type": "stream",
     "text": [
      "Epoch: [64][1/20]\tTime 1.555 (0.752)\tData 1.121 (0.054)\tLoss 37.7759 (138.1357)\t\n",
      "Epoch: [64][6/20]\tTime 0.623 (0.752)\tData 0.002 (0.054)\tLoss 23.1945 (137.6846)\t\n",
      "Epoch: [64][11/20]\tTime 0.665 (0.752)\tData 0.003 (0.053)\tLoss 17.9765 (137.2403)\t\n",
      "Epoch: [64][16/20]\tTime 0.725 (0.752)\tData 0.002 (0.053)\tLoss 16.2628 (136.8069)\t\n",
      "Training Summary Epoch: [64]\tTime taken (s): 15\tAverage Loss 6.085\t\n"
     ]
    },
    {
     "name": "stderr",
     "output_type": "stream",
     "text": [
      "100%|█████████████████████████████████████████████████████████████████████████████████████| 1/1 [00:01<00:00,  1.37s/it]"
     ]
    },
    {
     "name": "stdout",
     "output_type": "stream",
     "text": [
      "Validation Summary Epoch: [64]\tAverage WER 129.412\tAverage CER 80.874\t\n",
      "Learning rate annealed to: 0.000159\n"
     ]
    },
    {
     "name": "stderr",
     "output_type": "stream",
     "text": [
      "\n"
     ]
    },
    {
     "name": "stdout",
     "output_type": "stream",
     "text": [
      "Epoch: [65][1/20]\tTime 1.494 (0.752)\tData 1.123 (0.054)\tLoss 13.9318 (136.4186)\t\n",
      "Epoch: [65][6/20]\tTime 0.696 (0.752)\tData 0.002 (0.054)\tLoss 20.8802 (135.9791)\t\n",
      "Epoch: [65][11/20]\tTime 0.744 (0.752)\tData 0.002 (0.053)\tLoss 22.2674 (135.5460)\t\n",
      "Epoch: [65][16/20]\tTime 0.702 (0.752)\tData 0.003 (0.053)\tLoss 46.5916 (135.1125)\t\n",
      "Training Summary Epoch: [65]\tTime taken (s): 15\tAverage Loss 5.668\t\n"
     ]
    },
    {
     "name": "stderr",
     "output_type": "stream",
     "text": [
      "100%|█████████████████████████████████████████████████████████████████████████████████████| 1/1 [00:01<00:00,  1.28s/it]"
     ]
    },
    {
     "name": "stdout",
     "output_type": "stream",
     "text": [
      "Validation Summary Epoch: [65]\tAverage WER 141.176\tAverage CER 85.792\t\n",
      "Learning rate annealed to: 0.000157\n"
     ]
    },
    {
     "name": "stderr",
     "output_type": "stream",
     "text": [
      "\n"
     ]
    },
    {
     "name": "stdout",
     "output_type": "stream",
     "text": [
      "Epoch: [66][1/20]\tTime 1.268 (0.752)\tData 1.043 (0.054)\tLoss 18.5963 (134.7459)\t\n",
      "Epoch: [66][6/20]\tTime 0.814 (0.752)\tData 0.003 (0.054)\tLoss 13.9223 (134.3167)\t\n",
      "Epoch: [66][11/20]\tTime 0.743 (0.752)\tData 0.002 (0.053)\tLoss 20.9415 (133.9021)\t\n",
      "Epoch: [66][16/20]\tTime 0.675 (0.752)\tData 0.002 (0.053)\tLoss 43.6825 (133.5108)\t\n",
      "Training Summary Epoch: [66]\tTime taken (s): 15\tAverage Loss 5.646\t\n"
     ]
    },
    {
     "name": "stderr",
     "output_type": "stream",
     "text": [
      "100%|█████████████████████████████████████████████████████████████████████████████████████| 1/1 [00:01<00:00,  1.35s/it]"
     ]
    },
    {
     "name": "stdout",
     "output_type": "stream",
     "text": [
      "Validation Summary Epoch: [66]\tAverage WER 141.176\tAverage CER 107.104\t\n",
      "Learning rate annealed to: 0.000156\n"
     ]
    },
    {
     "name": "stderr",
     "output_type": "stream",
     "text": [
      "\n"
     ]
    },
    {
     "name": "stdout",
     "output_type": "stream",
     "text": [
      "Epoch: [67][1/20]\tTime 1.323 (0.752)\tData 1.034 (0.054)\tLoss 37.6287 (133.1328)\t\n",
      "Epoch: [67][6/20]\tTime 0.855 (0.753)\tData 0.002 (0.054)\tLoss 16.0946 (132.7109)\t\n",
      "Epoch: [67][11/20]\tTime 0.686 (0.752)\tData 0.003 (0.053)\tLoss 17.2785 (132.2678)\t\n",
      "Epoch: [67][16/20]\tTime 0.616 (0.752)\tData 0.002 (0.053)\tLoss 20.4260 (131.9113)\t\n",
      "Training Summary Epoch: [67]\tTime taken (s): 15\tAverage Loss 5.261\t\n"
     ]
    },
    {
     "name": "stderr",
     "output_type": "stream",
     "text": [
      "100%|█████████████████████████████████████████████████████████████████████████████████████| 1/1 [00:01<00:00,  1.27s/it]"
     ]
    },
    {
     "name": "stdout",
     "output_type": "stream",
     "text": [
      "Validation Summary Epoch: [67]\tAverage WER 135.294\tAverage CER 85.792\t\n",
      "Learning rate annealed to: 0.000154\n"
     ]
    },
    {
     "name": "stderr",
     "output_type": "stream",
     "text": [
      "\n"
     ]
    },
    {
     "name": "stdout",
     "output_type": "stream",
     "text": [
      "Epoch: [68][1/20]\tTime 1.317 (0.752)\tData 1.125 (0.054)\tLoss 17.1879 (131.5629)\t\n",
      "Epoch: [68][6/20]\tTime 0.647 (0.752)\tData 0.002 (0.054)\tLoss 16.7301 (131.1472)\t\n",
      "Epoch: [68][11/20]\tTime 0.728 (0.752)\tData 0.003 (0.053)\tLoss 14.4811 (130.7235)\t\n",
      "Epoch: [68][16/20]\tTime 0.579 (0.752)\tData 0.003 (0.053)\tLoss 15.0009 (130.3168)\t\n",
      "Training Summary Epoch: [68]\tTime taken (s): 15\tAverage Loss 4.676\t\n"
     ]
    },
    {
     "name": "stderr",
     "output_type": "stream",
     "text": [
      "100%|█████████████████████████████████████████████████████████████████████████████████████| 1/1 [00:01<00:00,  1.35s/it]"
     ]
    },
    {
     "name": "stdout",
     "output_type": "stream",
     "text": [
      "Validation Summary Epoch: [68]\tAverage WER 144.118\tAverage CER 84.153\t\n",
      "Learning rate annealed to: 0.000152\n"
     ]
    },
    {
     "name": "stderr",
     "output_type": "stream",
     "text": [
      "\n"
     ]
    },
    {
     "name": "stdout",
     "output_type": "stream",
     "text": [
      "Epoch: [69][1/20]\tTime 1.297 (0.752)\tData 1.101 (0.054)\tLoss 17.2190 (129.9607)\t\n",
      "Epoch: [69][6/20]\tTime 0.702 (0.752)\tData 0.003 (0.054)\tLoss 12.9895 (129.5446)\t\n",
      "Epoch: [69][11/20]\tTime 0.707 (0.752)\tData 0.003 (0.054)\tLoss 33.6957 (129.1532)\t\n",
      "Epoch: [69][16/20]\tTime 0.871 (0.752)\tData 0.003 (0.053)\tLoss 25.1369 (128.7543)\t\n",
      "Training Summary Epoch: [69]\tTime taken (s): 15\tAverage Loss 4.380\t\n"
     ]
    },
    {
     "name": "stderr",
     "output_type": "stream",
     "text": [
      "100%|█████████████████████████████████████████████████████████████████████████████████████| 1/1 [00:01<00:00,  1.29s/it]"
     ]
    },
    {
     "name": "stdout",
     "output_type": "stream",
     "text": [
      "Validation Summary Epoch: [69]\tAverage WER 141.176\tAverage CER 92.350\t\n",
      "Learning rate annealed to: 0.000151\n"
     ]
    },
    {
     "name": "stderr",
     "output_type": "stream",
     "text": [
      "\n"
     ]
    },
    {
     "name": "stdout",
     "output_type": "stream",
     "text": [
      "Epoch: [70][1/20]\tTime 1.444 (0.752)\tData 1.116 (0.054)\tLoss 16.9658 (128.3339)\t\n",
      "Epoch: [70][6/20]\tTime 0.695 (0.752)\tData 0.002 (0.054)\tLoss 13.6039 (127.9679)\t\n",
      "Epoch: [70][11/20]\tTime 0.747 (0.752)\tData 0.003 (0.054)\tLoss 22.5543 (127.5664)\t\n",
      "Epoch: [70][16/20]\tTime 0.811 (0.752)\tData 0.003 (0.053)\tLoss 30.5603 (127.1673)\t\n",
      "Training Summary Epoch: [70]\tTime taken (s): 15\tAverage Loss 4.216\t\n"
     ]
    },
    {
     "name": "stderr",
     "output_type": "stream",
     "text": [
      "100%|█████████████████████████████████████████████████████████████████████████████████████| 1/1 [00:01<00:00,  1.30s/it]"
     ]
    },
    {
     "name": "stdout",
     "output_type": "stream",
     "text": [
      "Validation Summary Epoch: [70]\tAverage WER 138.235\tAverage CER 82.514\t\n",
      "Learning rate annealed to: 0.000149\n"
     ]
    },
    {
     "name": "stderr",
     "output_type": "stream",
     "text": [
      "\n"
     ]
    },
    {
     "name": "stdout",
     "output_type": "stream",
     "text": [
      "Epoch: [71][1/20]\tTime 1.532 (0.753)\tData 1.140 (0.054)\tLoss 17.3269 (126.7916)\t\n",
      "Epoch: [71][6/20]\tTime 0.621 (0.752)\tData 0.002 (0.054)\tLoss 16.6657 (126.4432)\t\n",
      "Epoch: [71][11/20]\tTime 0.794 (0.752)\tData 0.003 (0.054)\tLoss 27.2405 (126.0571)\t\n",
      "Epoch: [71][16/20]\tTime 0.573 (0.752)\tData 0.002 (0.054)\tLoss 14.2795 (125.6745)\t\n",
      "Training Summary Epoch: [71]\tTime taken (s): 15\tAverage Loss 4.059\t\n"
     ]
    },
    {
     "name": "stderr",
     "output_type": "stream",
     "text": [
      "100%|█████████████████████████████████████████████████████████████████████████████████████| 1/1 [00:01<00:00,  1.38s/it]"
     ]
    },
    {
     "name": "stdout",
     "output_type": "stream",
     "text": [
      "Validation Summary Epoch: [71]\tAverage WER 141.176\tAverage CER 86.885\t\n",
      "Learning rate annealed to: 0.000148\n"
     ]
    },
    {
     "name": "stderr",
     "output_type": "stream",
     "text": [
      "\n"
     ]
    },
    {
     "name": "stdout",
     "output_type": "stream",
     "text": [
      "Epoch: [72][1/20]\tTime 1.465 (0.753)\tData 1.062 (0.054)\tLoss 10.4128 (125.2775)\t\n",
      "Epoch: [72][6/20]\tTime 0.803 (0.753)\tData 0.003 (0.054)\tLoss 11.8454 (124.8954)\t\n",
      "Epoch: [72][11/20]\tTime 0.730 (0.753)\tData 0.002 (0.054)\tLoss 13.1127 (124.4995)\t\n",
      "Epoch: [72][16/20]\tTime 0.753 (0.752)\tData 0.002 (0.054)\tLoss 27.0133 (124.1725)\t\n",
      "Training Summary Epoch: [72]\tTime taken (s): 15\tAverage Loss 4.067\t\n"
     ]
    },
    {
     "name": "stderr",
     "output_type": "stream",
     "text": [
      "100%|█████████████████████████████████████████████████████████████████████████████████████| 1/1 [00:01<00:00,  1.28s/it]"
     ]
    },
    {
     "name": "stdout",
     "output_type": "stream",
     "text": [
      "Validation Summary Epoch: [72]\tAverage WER 138.235\tAverage CER 84.153\t\n",
      "Learning rate annealed to: 0.000147\n"
     ]
    },
    {
     "name": "stderr",
     "output_type": "stream",
     "text": [
      "\n"
     ]
    },
    {
     "name": "stdout",
     "output_type": "stream",
     "text": [
      "Epoch: [73][1/20]\tTime 1.285 (0.752)\tData 1.061 (0.054)\tLoss 11.7589 (123.8114)\t\n",
      "Epoch: [73][6/20]\tTime 0.871 (0.752)\tData 0.002 (0.054)\tLoss 26.4916 (123.4580)\t\n",
      "Epoch: [73][11/20]\tTime 0.716 (0.752)\tData 0.002 (0.054)\tLoss 12.5209 (123.0775)\t\n",
      "Epoch: [73][16/20]\tTime 0.670 (0.752)\tData 0.002 (0.054)\tLoss 13.9133 (122.7462)\t\n",
      "Training Summary Epoch: [73]\tTime taken (s): 15\tAverage Loss 3.922\t\n"
     ]
    },
    {
     "name": "stderr",
     "output_type": "stream",
     "text": [
      "100%|█████████████████████████████████████████████████████████████████████████████████████| 1/1 [00:01<00:00,  1.37s/it]"
     ]
    },
    {
     "name": "stdout",
     "output_type": "stream",
     "text": [
      "Validation Summary Epoch: [73]\tAverage WER 141.176\tAverage CER 92.896\t\n",
      "Learning rate annealed to: 0.000145\n"
     ]
    },
    {
     "name": "stderr",
     "output_type": "stream",
     "text": [
      "\n"
     ]
    },
    {
     "name": "stdout",
     "output_type": "stream",
     "text": [
      "Epoch: [74][1/20]\tTime 1.451 (0.753)\tData 1.056 (0.054)\tLoss 28.1508 (122.3878)\t\n",
      "Epoch: [74][6/20]\tTime 0.739 (0.753)\tData 0.002 (0.054)\tLoss 22.4301 (122.0265)\t\n",
      "Epoch: [74][11/20]\tTime 0.739 (0.752)\tData 0.002 (0.054)\tLoss 11.3974 (121.6480)\t\n",
      "Epoch: [74][16/20]\tTime 0.792 (0.752)\tData 0.002 (0.054)\tLoss 7.9725 (121.2876)\t\n",
      "Training Summary Epoch: [74]\tTime taken (s): 15\tAverage Loss 3.743\t\n"
     ]
    },
    {
     "name": "stderr",
     "output_type": "stream",
     "text": [
      "100%|█████████████████████████████████████████████████████████████████████████████████████| 1/1 [00:01<00:00,  1.38s/it]"
     ]
    },
    {
     "name": "stdout",
     "output_type": "stream",
     "text": [
      "Validation Summary Epoch: [74]\tAverage WER 144.118\tAverage CER 88.525\t\n",
      "Learning rate annealed to: 0.000144\n"
     ]
    },
    {
     "name": "stderr",
     "output_type": "stream",
     "text": [
      "\n"
     ]
    },
    {
     "name": "stdout",
     "output_type": "stream",
     "text": [
      "Epoch: [75][1/20]\tTime 1.533 (0.753)\tData 1.143 (0.054)\tLoss 14.6265 (120.9682)\t\n",
      "Epoch: [75][6/20]\tTime 0.712 (0.752)\tData 0.002 (0.054)\tLoss 10.5379 (120.6346)\t\n",
      "Epoch: [75][11/20]\tTime 0.722 (0.752)\tData 0.002 (0.054)\tLoss 22.6719 (120.2809)\t\n",
      "Epoch: [75][16/20]\tTime 0.878 (0.752)\tData 0.002 (0.054)\tLoss 10.6660 (119.9311)\t\n",
      "Training Summary Epoch: [75]\tTime taken (s): 15\tAverage Loss 3.768\t\n"
     ]
    },
    {
     "name": "stderr",
     "output_type": "stream",
     "text": [
      "100%|█████████████████████████████████████████████████████████████████████████████████████| 1/1 [00:01<00:00,  1.31s/it]"
     ]
    },
    {
     "name": "stdout",
     "output_type": "stream",
     "text": [
      "Validation Summary Epoch: [75]\tAverage WER 161.765\tAverage CER 93.989\t\n",
      "Learning rate annealed to: 0.000142\n"
     ]
    },
    {
     "name": "stderr",
     "output_type": "stream",
     "text": [
      "\n"
     ]
    },
    {
     "name": "stdout",
     "output_type": "stream",
     "text": [
      "Epoch: [76][1/20]\tTime 1.262 (0.752)\tData 1.044 (0.054)\tLoss 12.7790 (119.5962)\t\n",
      "Epoch: [76][6/20]\tTime 0.836 (0.752)\tData 0.003 (0.054)\tLoss 29.5880 (119.2637)\t\n",
      "Epoch: [76][11/20]\tTime 0.792 (0.752)\tData 0.003 (0.054)\tLoss 23.4092 (118.9129)\t\n",
      "Epoch: [76][16/20]\tTime 0.806 (0.752)\tData 0.002 (0.054)\tLoss 15.5835 (118.6100)\t\n",
      "Training Summary Epoch: [76]\tTime taken (s): 15\tAverage Loss 3.784\t\n"
     ]
    },
    {
     "name": "stderr",
     "output_type": "stream",
     "text": [
      "100%|█████████████████████████████████████████████████████████████████████████████████████| 1/1 [00:01<00:00,  1.37s/it]"
     ]
    },
    {
     "name": "stdout",
     "output_type": "stream",
     "text": [
      "Validation Summary Epoch: [76]\tAverage WER 132.353\tAverage CER 86.885\t\n",
      "Learning rate annealed to: 0.000141\n"
     ]
    },
    {
     "name": "stderr",
     "output_type": "stream",
     "text": [
      "\n"
     ]
    },
    {
     "name": "stdout",
     "output_type": "stream",
     "text": [
      "Epoch: [77][1/20]\tTime 1.517 (0.753)\tData 1.153 (0.054)\tLoss 18.4229 (118.2666)\t\n",
      "Epoch: [77][6/20]\tTime 0.771 (0.753)\tData 0.003 (0.054)\tLoss 24.4882 (117.9243)\t\n",
      "Epoch: [77][11/20]\tTime 0.741 (0.753)\tData 0.002 (0.054)\tLoss 27.4361 (117.6271)\t\n",
      "Epoch: [77][16/20]\tTime 0.836 (0.752)\tData 0.002 (0.054)\tLoss 20.5976 (117.2848)\t\n",
      "Training Summary Epoch: [77]\tTime taken (s): 15\tAverage Loss 3.536\t\n"
     ]
    },
    {
     "name": "stderr",
     "output_type": "stream",
     "text": [
      "100%|█████████████████████████████████████████████████████████████████████████████████████| 1/1 [00:01<00:00,  1.30s/it]"
     ]
    },
    {
     "name": "stdout",
     "output_type": "stream",
     "text": [
      "Validation Summary Epoch: [77]\tAverage WER 155.882\tAverage CER 103.825\t\n",
      "Learning rate annealed to: 0.000139\n"
     ]
    },
    {
     "name": "stderr",
     "output_type": "stream",
     "text": [
      "\n"
     ]
    },
    {
     "name": "stdout",
     "output_type": "stream",
     "text": [
      "Epoch: [78][1/20]\tTime 1.443 (0.753)\tData 1.139 (0.054)\tLoss 22.9834 (116.9552)\t\n",
      "Epoch: [78][6/20]\tTime 0.719 (0.753)\tData 0.002 (0.054)\tLoss 20.9041 (116.6158)\t\n",
      "Epoch: [78][11/20]\tTime 0.727 (0.753)\tData 0.003 (0.054)\tLoss 9.4231 (116.2830)\t\n",
      "Epoch: [78][16/20]\tTime 0.716 (0.753)\tData 0.003 (0.054)\tLoss 10.2636 (115.9414)\t\n",
      "Training Summary Epoch: [78]\tTime taken (s): 15\tAverage Loss 3.241\t\n"
     ]
    },
    {
     "name": "stderr",
     "output_type": "stream",
     "text": [
      "100%|█████████████████████████████████████████████████████████████████████████████████████| 1/1 [00:01<00:00,  1.28s/it]"
     ]
    },
    {
     "name": "stdout",
     "output_type": "stream",
     "text": [
      "Validation Summary Epoch: [78]\tAverage WER 150.000\tAverage CER 96.721\t\n",
      "Learning rate annealed to: 0.000138\n"
     ]
    },
    {
     "name": "stderr",
     "output_type": "stream",
     "text": [
      "\n"
     ]
    },
    {
     "name": "stdout",
     "output_type": "stream",
     "text": [
      "Epoch: [79][1/20]\tTime 1.341 (0.753)\tData 1.049 (0.054)\tLoss 9.7634 (115.6481)\t\n",
      "Epoch: [79][6/20]\tTime 0.687 (0.753)\tData 0.002 (0.054)\tLoss 23.7673 (115.3302)\t\n",
      "Epoch: [79][11/20]\tTime 0.691 (0.753)\tData 0.003 (0.054)\tLoss 10.7842 (114.9990)\t\n",
      "Epoch: [79][16/20]\tTime 0.707 (0.752)\tData 0.003 (0.054)\tLoss 10.2125 (114.7168)\t\n",
      "Training Summary Epoch: [79]\tTime taken (s): 15\tAverage Loss 3.352\t\n"
     ]
    },
    {
     "name": "stderr",
     "output_type": "stream",
     "text": [
      "100%|█████████████████████████████████████████████████████████████████████████████████████| 1/1 [00:01<00:00,  1.39s/it]"
     ]
    },
    {
     "name": "stdout",
     "output_type": "stream",
     "text": [
      "Validation Summary Epoch: [79]\tAverage WER 161.765\tAverage CER 100.546\t\n",
      "Learning rate annealed to: 0.000137\n"
     ]
    },
    {
     "name": "stderr",
     "output_type": "stream",
     "text": [
      "\n"
     ]
    },
    {
     "name": "stdout",
     "output_type": "stream",
     "text": [
      "Epoch: [80][1/20]\tTime 1.309 (0.753)\tData 1.116 (0.054)\tLoss 12.9057 (114.4321)\t\n",
      "Epoch: [80][6/20]\tTime 0.762 (0.752)\tData 0.003 (0.054)\tLoss 29.0896 (114.1147)\t\n",
      "Epoch: [80][11/20]\tTime 0.831 (0.753)\tData 0.003 (0.054)\tLoss 23.2484 (113.8056)\t\n",
      "Epoch: [80][16/20]\tTime 0.764 (0.752)\tData 0.002 (0.054)\tLoss 9.5549 (113.4867)\t\n",
      "Training Summary Epoch: [80]\tTime taken (s): 15\tAverage Loss 3.454\t\n"
     ]
    },
    {
     "name": "stderr",
     "output_type": "stream",
     "text": [
      "100%|█████████████████████████████████████████████████████████████████████████████████████| 1/1 [00:01<00:00,  1.39s/it]"
     ]
    },
    {
     "name": "stdout",
     "output_type": "stream",
     "text": [
      "Validation Summary Epoch: [80]\tAverage WER 144.118\tAverage CER 86.885\t\n",
      "Learning rate annealed to: 0.000135\n"
     ]
    },
    {
     "name": "stderr",
     "output_type": "stream",
     "text": [
      "\n"
     ]
    },
    {
     "name": "stdout",
     "output_type": "stream",
     "text": [
      "Epoch: [81][1/20]\tTime 1.496 (0.753)\tData 1.141 (0.054)\tLoss 16.6689 (113.1744)\t\n",
      "Epoch: [81][6/20]\tTime 0.668 (0.753)\tData 0.003 (0.054)\tLoss 12.1609 (112.8990)\t\n",
      "Epoch: [81][11/20]\tTime 0.589 (0.753)\tData 0.002 (0.054)\tLoss 28.6108 (112.5917)\t\n",
      "Epoch: [81][16/20]\tTime 0.681 (0.752)\tData 0.002 (0.054)\tLoss 28.0138 (112.2813)\t\n",
      "Training Summary Epoch: [81]\tTime taken (s): 15\tAverage Loss 3.298\t\n"
     ]
    },
    {
     "name": "stderr",
     "output_type": "stream",
     "text": [
      "100%|█████████████████████████████████████████████████████████████████████████████████████| 1/1 [00:01<00:00,  1.39s/it]"
     ]
    },
    {
     "name": "stdout",
     "output_type": "stream",
     "text": [
      "Validation Summary Epoch: [81]\tAverage WER 155.882\tAverage CER 89.617\t\n",
      "Learning rate annealed to: 0.000134\n"
     ]
    },
    {
     "name": "stderr",
     "output_type": "stream",
     "text": [
      "\n"
     ]
    },
    {
     "name": "stdout",
     "output_type": "stream",
     "text": [
      "Epoch: [82][1/20]\tTime 1.452 (0.753)\tData 1.141 (0.055)\tLoss 24.2205 (111.9795)\t\n",
      "Epoch: [82][6/20]\tTime 0.634 (0.753)\tData 0.003 (0.054)\tLoss 20.3943 (111.6737)\t\n",
      "Epoch: [82][11/20]\tTime 0.754 (0.753)\tData 0.002 (0.054)\tLoss 23.9806 (111.3691)\t\n",
      "Epoch: [82][16/20]\tTime 0.739 (0.753)\tData 0.002 (0.054)\tLoss 8.6980 (111.0621)\t\n",
      "Training Summary Epoch: [82]\tTime taken (s): 15\tAverage Loss 3.044\t\n"
     ]
    },
    {
     "name": "stderr",
     "output_type": "stream",
     "text": [
      "100%|█████████████████████████████████████████████████████████████████████████████████████| 1/1 [00:01<00:00,  1.38s/it]"
     ]
    },
    {
     "name": "stdout",
     "output_type": "stream",
     "text": [
      "Validation Summary Epoch: [82]\tAverage WER 144.118\tAverage CER 90.164\t\n",
      "Learning rate annealed to: 0.000133\n"
     ]
    },
    {
     "name": "stderr",
     "output_type": "stream",
     "text": [
      "\n"
     ]
    },
    {
     "name": "stdout",
     "output_type": "stream",
     "text": [
      "Epoch: [83][1/20]\tTime 1.406 (0.753)\tData 1.114 (0.055)\tLoss 8.2124 (110.7837)\t\n",
      "Epoch: [83][6/20]\tTime 0.799 (0.753)\tData 0.002 (0.054)\tLoss 20.9410 (110.4946)\t\n",
      "Epoch: [83][11/20]\tTime 0.578 (0.753)\tData 0.002 (0.054)\tLoss 9.0985 (110.2239)\t\n",
      "Epoch: [83][16/20]\tTime 0.678 (0.753)\tData 0.003 (0.054)\tLoss 7.7011 (109.9264)\t\n",
      "Training Summary Epoch: [83]\tTime taken (s): 15\tAverage Loss 2.997\t\n"
     ]
    },
    {
     "name": "stderr",
     "output_type": "stream",
     "text": [
      "100%|█████████████████████████████████████████████████████████████████████████████████████| 1/1 [00:01<00:00,  1.31s/it]"
     ]
    },
    {
     "name": "stdout",
     "output_type": "stream",
     "text": [
      "Validation Summary Epoch: [83]\tAverage WER 132.353\tAverage CER 89.617\t\n",
      "Learning rate annealed to: 0.000131\n"
     ]
    },
    {
     "name": "stderr",
     "output_type": "stream",
     "text": [
      "\n"
     ]
    },
    {
     "name": "stdout",
     "output_type": "stream",
     "text": [
      "Epoch: [84][1/20]\tTime 1.396 (0.753)\tData 1.123 (0.055)\tLoss 7.0579 (109.6221)\t\n",
      "Epoch: [84][6/20]\tTime 0.802 (0.753)\tData 0.003 (0.054)\tLoss 21.1932 (109.3375)\t\n",
      "Epoch: [84][11/20]\tTime 0.736 (0.753)\tData 0.003 (0.054)\tLoss 19.9230 (109.0375)\t\n",
      "Epoch: [84][16/20]\tTime 0.756 (0.753)\tData 0.002 (0.054)\tLoss 12.3172 (108.7393)\t\n",
      "Training Summary Epoch: [84]\tTime taken (s): 15\tAverage Loss 2.898\t\n"
     ]
    },
    {
     "name": "stderr",
     "output_type": "stream",
     "text": [
      "100%|█████████████████████████████████████████████████████████████████████████████████████| 1/1 [00:01<00:00,  1.31s/it]"
     ]
    },
    {
     "name": "stdout",
     "output_type": "stream",
     "text": [
      "Validation Summary Epoch: [84]\tAverage WER 141.176\tAverage CER 84.699\t\n",
      "Learning rate annealed to: 0.000130\n"
     ]
    },
    {
     "name": "stderr",
     "output_type": "stream",
     "text": [
      "\n"
     ]
    },
    {
     "name": "stdout",
     "output_type": "stream",
     "text": [
      "Epoch: [85][1/20]\tTime 1.535 (0.753)\tData 1.142 (0.055)\tLoss 10.6748 (108.4853)\t\n",
      "Epoch: [85][6/20]\tTime 0.671 (0.753)\tData 0.003 (0.055)\tLoss 10.3732 (108.1996)\t\n",
      "Epoch: [85][11/20]\tTime 0.790 (0.753)\tData 0.002 (0.054)\tLoss 7.7328 (107.9013)\t\n",
      "Epoch: [85][16/20]\tTime 0.665 (0.753)\tData 0.002 (0.054)\tLoss 7.0616 (107.6226)\t\n",
      "Training Summary Epoch: [85]\tTime taken (s): 15\tAverage Loss 2.893\t\n"
     ]
    },
    {
     "name": "stderr",
     "output_type": "stream",
     "text": [
      "100%|█████████████████████████████████████████████████████████████████████████████████████| 1/1 [00:01<00:00,  1.38s/it]"
     ]
    },
    {
     "name": "stdout",
     "output_type": "stream",
     "text": [
      "Validation Summary Epoch: [85]\tAverage WER 147.059\tAverage CER 89.617\t\n",
      "Learning rate annealed to: 0.000129\n"
     ]
    },
    {
     "name": "stderr",
     "output_type": "stream",
     "text": [
      "\n"
     ]
    },
    {
     "name": "stdout",
     "output_type": "stream",
     "text": [
      "Epoch: [86][1/20]\tTime 1.365 (0.753)\tData 1.138 (0.055)\tLoss 8.3522 (107.3716)\t\n",
      "Epoch: [86][6/20]\tTime 0.793 (0.753)\tData 0.002 (0.055)\tLoss 6.0610 (107.0895)\t\n",
      "Epoch: [86][11/20]\tTime 0.581 (0.753)\tData 0.002 (0.054)\tLoss 10.0749 (106.8050)\t\n",
      "Epoch: [86][16/20]\tTime 0.850 (0.753)\tData 0.002 (0.054)\tLoss 12.7817 (106.5170)\t\n",
      "Training Summary Epoch: [86]\tTime taken (s): 15\tAverage Loss 2.753\t\n"
     ]
    },
    {
     "name": "stderr",
     "output_type": "stream",
     "text": [
      "100%|█████████████████████████████████████████████████████████████████████████████████████| 1/1 [00:01<00:00,  1.40s/it]"
     ]
    },
    {
     "name": "stdout",
     "output_type": "stream",
     "text": [
      "Validation Summary Epoch: [86]\tAverage WER 129.412\tAverage CER 84.699\t\n",
      "Learning rate annealed to: 0.000127\n"
     ]
    },
    {
     "name": "stderr",
     "output_type": "stream",
     "text": [
      "\n"
     ]
    },
    {
     "name": "stdout",
     "output_type": "stream",
     "text": [
      "Epoch: [87][1/20]\tTime 1.445 (0.753)\tData 1.069 (0.055)\tLoss 5.3651 (106.2763)\t\n",
      "Epoch: [87][6/20]\tTime 0.759 (0.754)\tData 0.002 (0.055)\tLoss 5.0225 (105.9917)\t\n",
      "Epoch: [87][11/20]\tTime 0.753 (0.753)\tData 0.002 (0.054)\tLoss 9.5587 (105.7472)\t\n",
      "Epoch: [87][16/20]\tTime 0.770 (0.753)\tData 0.003 (0.054)\tLoss 15.7714 (105.4738)\t\n",
      "Training Summary Epoch: [87]\tTime taken (s): 15\tAverage Loss 2.461\t\n"
     ]
    },
    {
     "name": "stderr",
     "output_type": "stream",
     "text": [
      "100%|█████████████████████████████████████████████████████████████████████████████████████| 1/1 [00:01<00:00,  1.31s/it]"
     ]
    },
    {
     "name": "stdout",
     "output_type": "stream",
     "text": [
      "Validation Summary Epoch: [87]\tAverage WER 152.941\tAverage CER 89.071\t\n",
      "Learning rate annealed to: 0.000126\n"
     ]
    },
    {
     "name": "stderr",
     "output_type": "stream",
     "text": [
      "\n"
     ]
    },
    {
     "name": "stdout",
     "output_type": "stream",
     "text": [
      "Epoch: [88][1/20]\tTime 1.488 (0.754)\tData 1.159 (0.055)\tLoss 10.7198 (105.1952)\t\n",
      "Epoch: [88][6/20]\tTime 0.757 (0.754)\tData 0.003 (0.055)\tLoss 12.6117 (104.9227)\t\n",
      "Epoch: [88][11/20]\tTime 0.571 (0.753)\tData 0.002 (0.055)\tLoss 10.9997 (104.6761)\t\n",
      "Epoch: [88][16/20]\tTime 0.864 (0.753)\tData 0.002 (0.054)\tLoss 11.9286 (104.4058)\t\n",
      "Training Summary Epoch: [88]\tTime taken (s): 15\tAverage Loss 2.555\t\n"
     ]
    },
    {
     "name": "stderr",
     "output_type": "stream",
     "text": [
      "100%|█████████████████████████████████████████████████████████████████████████████████████| 1/1 [00:01<00:00,  1.39s/it]"
     ]
    },
    {
     "name": "stdout",
     "output_type": "stream",
     "text": [
      "Validation Summary Epoch: [88]\tAverage WER 135.294\tAverage CER 81.967\t\n",
      "Learning rate annealed to: 0.000125\n"
     ]
    },
    {
     "name": "stderr",
     "output_type": "stream",
     "text": [
      "\n"
     ]
    },
    {
     "name": "stdout",
     "output_type": "stream",
     "text": [
      "Epoch: [89][1/20]\tTime 1.482 (0.754)\tData 1.146 (0.055)\tLoss 18.6449 (104.1458)\t\n",
      "Epoch: [89][6/20]\tTime 0.754 (0.754)\tData 0.002 (0.055)\tLoss 7.6561 (103.8782)\t\n",
      "Epoch: [89][11/20]\tTime 0.850 (0.754)\tData 0.002 (0.055)\tLoss 6.6804 (103.6062)\t\n",
      "Epoch: [89][16/20]\tTime 0.805 (0.754)\tData 0.002 (0.054)\tLoss 7.2847 (103.3385)\t\n",
      "Training Summary Epoch: [89]\tTime taken (s): 15\tAverage Loss 2.729\t\n"
     ]
    },
    {
     "name": "stderr",
     "output_type": "stream",
     "text": [
      "100%|█████████████████████████████████████████████████████████████████████████████████████| 1/1 [00:01<00:00,  1.39s/it]"
     ]
    },
    {
     "name": "stdout",
     "output_type": "stream",
     "text": [
      "Validation Summary Epoch: [89]\tAverage WER 141.176\tAverage CER 92.896\t\n",
      "Learning rate annealed to: 0.000124\n"
     ]
    },
    {
     "name": "stderr",
     "output_type": "stream",
     "text": [
      "\n"
     ]
    },
    {
     "name": "stdout",
     "output_type": "stream",
     "text": [
      "Epoch: [90][1/20]\tTime 1.447 (0.754)\tData 1.155 (0.055)\tLoss 8.6700 (103.1181)\t\n",
      "Epoch: [90][6/20]\tTime 0.717 (0.754)\tData 0.002 (0.055)\tLoss 20.6055 (102.8618)\t\n",
      "Epoch: [90][11/20]\tTime 0.510 (0.753)\tData 0.002 (0.055)\tLoss 22.6737 (102.6339)\t\n",
      "Epoch: [90][16/20]\tTime 0.779 (0.753)\tData 0.002 (0.054)\tLoss 18.7663 (102.3829)\t\n",
      "Training Summary Epoch: [90]\tTime taken (s): 15\tAverage Loss 2.747\t\n"
     ]
    },
    {
     "name": "stderr",
     "output_type": "stream",
     "text": [
      "100%|█████████████████████████████████████████████████████████████████████████████████████| 1/1 [00:01<00:00,  1.39s/it]"
     ]
    },
    {
     "name": "stdout",
     "output_type": "stream",
     "text": [
      "Validation Summary Epoch: [90]\tAverage WER 135.294\tAverage CER 89.071\t\n",
      "Learning rate annealed to: 0.000123\n"
     ]
    },
    {
     "name": "stderr",
     "output_type": "stream",
     "text": [
      "\n"
     ]
    },
    {
     "name": "stdout",
     "output_type": "stream",
     "text": [
      "Epoch: [91][1/20]\tTime 1.255 (0.754)\tData 1.060 (0.055)\tLoss 9.4827 (102.1528)\t\n",
      "Epoch: [91][6/20]\tTime 0.660 (0.754)\tData 0.002 (0.055)\tLoss 9.1420 (101.8941)\t\n",
      "Epoch: [91][11/20]\tTime 0.782 (0.754)\tData 0.002 (0.055)\tLoss 9.1179 (101.6375)\t\n",
      "Epoch: [91][16/20]\tTime 0.641 (0.754)\tData 0.002 (0.054)\tLoss 6.5817 (101.3806)\t\n",
      "Training Summary Epoch: [91]\tTime taken (s): 15\tAverage Loss 2.378\t\n"
     ]
    },
    {
     "name": "stderr",
     "output_type": "stream",
     "text": [
      "100%|█████████████████████████████████████████████████████████████████████████████████████| 1/1 [00:01<00:00,  1.36s/it]"
     ]
    },
    {
     "name": "stdout",
     "output_type": "stream",
     "text": [
      "Validation Summary Epoch: [91]\tAverage WER 150.000\tAverage CER 89.071\t\n",
      "Learning rate annealed to: 0.000121\n"
     ]
    },
    {
     "name": "stderr",
     "output_type": "stream",
     "text": [
      "\n"
     ]
    },
    {
     "name": "stdout",
     "output_type": "stream",
     "text": [
      "Epoch: [92][1/20]\tTime 1.421 (0.754)\tData 1.144 (0.055)\tLoss 6.3835 (101.1234)\t\n",
      "Epoch: [92][6/20]\tTime 0.709 (0.754)\tData 0.002 (0.055)\tLoss 15.7348 (100.8661)\t\n",
      "Epoch: [92][11/20]\tTime 0.928 (0.754)\tData 0.003 (0.055)\tLoss 7.5910 (100.6204)\t\n",
      "Epoch: [92][16/20]\tTime 0.740 (0.754)\tData 0.002 (0.055)\tLoss 8.2890 (100.3656)\t\n",
      "Training Summary Epoch: [92]\tTime taken (s): 15\tAverage Loss 2.381\t\n"
     ]
    },
    {
     "name": "stderr",
     "output_type": "stream",
     "text": [
      "100%|█████████████████████████████████████████████████████████████████████████████████████| 1/1 [00:01<00:00,  1.38s/it]"
     ]
    },
    {
     "name": "stdout",
     "output_type": "stream",
     "text": [
      "Validation Summary Epoch: [92]\tAverage WER 144.118\tAverage CER 90.710\t\n",
      "Learning rate annealed to: 0.000120\n"
     ]
    },
    {
     "name": "stderr",
     "output_type": "stream",
     "text": [
      "\n"
     ]
    },
    {
     "name": "stdout",
     "output_type": "stream",
     "text": [
      "Epoch: [93][1/20]\tTime 1.377 (0.754)\tData 1.053 (0.055)\tLoss 5.8281 (100.1489)\t\n",
      "Epoch: [93][6/20]\tTime 0.765 (0.754)\tData 0.002 (0.055)\tLoss 13.4147 (99.9050)\t\n",
      "Epoch: [93][11/20]\tTime 0.796 (0.754)\tData 0.003 (0.055)\tLoss 8.2994 (99.6528)\t\n",
      "Epoch: [93][16/20]\tTime 0.457 (0.754)\tData 0.002 (0.055)\tLoss 17.7416 (99.4389)\t\n",
      "Training Summary Epoch: [93]\tTime taken (s): 15\tAverage Loss 2.378\t\n"
     ]
    },
    {
     "name": "stderr",
     "output_type": "stream",
     "text": [
      "100%|█████████████████████████████████████████████████████████████████████████████████████| 1/1 [00:01<00:00,  1.32s/it]"
     ]
    },
    {
     "name": "stdout",
     "output_type": "stream",
     "text": [
      "Validation Summary Epoch: [93]\tAverage WER 144.118\tAverage CER 91.803\t\n",
      "Learning rate annealed to: 0.000119\n"
     ]
    },
    {
     "name": "stderr",
     "output_type": "stream",
     "text": [
      "\n"
     ]
    },
    {
     "name": "stdout",
     "output_type": "stream",
     "text": [
      "Epoch: [94][1/20]\tTime 1.392 (0.754)\tData 1.071 (0.055)\tLoss 3.7604 (99.1941)\t\n",
      "Epoch: [94][6/20]\tTime 0.481 (0.754)\tData 0.002 (0.055)\tLoss 17.6835 (98.9858)\t\n",
      "Epoch: [94][11/20]\tTime 0.778 (0.754)\tData 0.002 (0.055)\tLoss 6.0976 (98.7343)\t\n",
      "Epoch: [94][16/20]\tTime 0.624 (0.753)\tData 0.005 (0.055)\tLoss 13.8331 (98.4905)\t\n",
      "Training Summary Epoch: [94]\tTime taken (s): 15\tAverage Loss 2.161\t\n"
     ]
    },
    {
     "name": "stderr",
     "output_type": "stream",
     "text": [
      "100%|█████████████████████████████████████████████████████████████████████████████████████| 1/1 [00:01<00:00,  1.31s/it]"
     ]
    },
    {
     "name": "stdout",
     "output_type": "stream",
     "text": [
      "Validation Summary Epoch: [94]\tAverage WER 132.353\tAverage CER 84.699\t\n",
      "Learning rate annealed to: 0.000118\n"
     ]
    },
    {
     "name": "stderr",
     "output_type": "stream",
     "text": [
      "\n"
     ]
    },
    {
     "name": "stdout",
     "output_type": "stream",
     "text": [
      "Epoch: [95][1/20]\tTime 1.525 (0.754)\tData 1.166 (0.055)\tLoss 10.6858 (98.2536)\t\n",
      "Epoch: [95][6/20]\tTime 0.481 (0.754)\tData 0.002 (0.055)\tLoss 7.5070 (98.0471)\t\n",
      "Epoch: [95][11/20]\tTime 0.680 (0.754)\tData 0.003 (0.055)\tLoss 5.3967 (97.8026)\t\n",
      "Epoch: [95][16/20]\tTime 0.843 (0.754)\tData 0.003 (0.055)\tLoss 6.7828 (97.5566)\t\n",
      "Training Summary Epoch: [95]\tTime taken (s): 15\tAverage Loss 2.035\t\n"
     ]
    },
    {
     "name": "stderr",
     "output_type": "stream",
     "text": [
      "100%|█████████████████████████████████████████████████████████████████████████████████████| 1/1 [00:01<00:00,  1.31s/it]"
     ]
    },
    {
     "name": "stdout",
     "output_type": "stream",
     "text": [
      "Validation Summary Epoch: [95]\tAverage WER 138.235\tAverage CER 91.803\t\n",
      "Learning rate annealed to: 0.000117\n"
     ]
    },
    {
     "name": "stderr",
     "output_type": "stream",
     "text": [
      "\n"
     ]
    },
    {
     "name": "stdout",
     "output_type": "stream",
     "text": [
      "Epoch: [96][1/20]\tTime 1.487 (0.754)\tData 1.156 (0.055)\tLoss 7.1655 (97.3215)\t\n",
      "Epoch: [96][6/20]\tTime 0.699 (0.754)\tData 0.002 (0.055)\tLoss 13.9661 (97.0816)\t\n",
      "Epoch: [96][11/20]\tTime 0.729 (0.754)\tData 0.002 (0.055)\tLoss 17.7920 (96.8536)\t\n",
      "Epoch: [96][16/20]\tTime 0.583 (0.754)\tData 0.002 (0.055)\tLoss 4.3243 (96.6408)\t\n",
      "Training Summary Epoch: [96]\tTime taken (s): 15\tAverage Loss 1.981\t\n"
     ]
    },
    {
     "name": "stderr",
     "output_type": "stream",
     "text": [
      "100%|█████████████████████████████████████████████████████████████████████████████████████| 1/1 [00:01<00:00,  1.30s/it]"
     ]
    },
    {
     "name": "stdout",
     "output_type": "stream",
     "text": [
      "Validation Summary Epoch: [96]\tAverage WER 152.941\tAverage CER 92.350\t\n",
      "Learning rate annealed to: 0.000115\n"
     ]
    },
    {
     "name": "stderr",
     "output_type": "stream",
     "text": [
      "\n"
     ]
    },
    {
     "name": "stdout",
     "output_type": "stream",
     "text": [
      "Epoch: [97][1/20]\tTime 1.492 (0.754)\tData 1.067 (0.055)\tLoss 9.9955 (96.4094)\t\n",
      "Epoch: [97][6/20]\tTime 0.798 (0.754)\tData 0.003 (0.055)\tLoss 19.3249 (96.2105)\t\n",
      "Epoch: [97][11/20]\tTime 0.594 (0.754)\tData 0.002 (0.055)\tLoss 5.5038 (95.9746)\t\n",
      "Epoch: [97][16/20]\tTime 0.762 (0.754)\tData 0.003 (0.055)\tLoss 5.8353 (95.7442)\t\n",
      "Training Summary Epoch: [97]\tTime taken (s): 15\tAverage Loss 2.035\t\n"
     ]
    },
    {
     "name": "stderr",
     "output_type": "stream",
     "text": [
      "100%|█████████████████████████████████████████████████████████████████████████████████████| 1/1 [00:01<00:00,  1.40s/it]"
     ]
    },
    {
     "name": "stdout",
     "output_type": "stream",
     "text": [
      "Validation Summary Epoch: [97]\tAverage WER 138.235\tAverage CER 90.164\t\n",
      "Learning rate annealed to: 0.000114\n"
     ]
    },
    {
     "name": "stderr",
     "output_type": "stream",
     "text": [
      "\n"
     ]
    },
    {
     "name": "stdout",
     "output_type": "stream",
     "text": [
      "Epoch: [98][1/20]\tTime 1.459 (0.754)\tData 1.078 (0.055)\tLoss 13.6052 (95.5194)\t\n",
      "Epoch: [98][6/20]\tTime 0.819 (0.754)\tData 0.002 (0.055)\tLoss 5.7818 (95.2873)\t\n",
      "Epoch: [98][11/20]\tTime 0.824 (0.754)\tData 0.003 (0.055)\tLoss 7.5300 (95.0549)\t\n",
      "Epoch: [98][16/20]\tTime 0.728 (0.754)\tData 0.002 (0.055)\tLoss 14.0683 (94.8559)\t\n",
      "Training Summary Epoch: [98]\tTime taken (s): 15\tAverage Loss 1.925\t\n"
     ]
    },
    {
     "name": "stderr",
     "output_type": "stream",
     "text": [
      "100%|█████████████████████████████████████████████████████████████████████████████████████| 1/1 [00:01<00:00,  1.40s/it]"
     ]
    },
    {
     "name": "stdout",
     "output_type": "stream",
     "text": [
      "Validation Summary Epoch: [98]\tAverage WER 152.941\tAverage CER 90.710\t\n",
      "Learning rate annealed to: 0.000113\n"
     ]
    },
    {
     "name": "stderr",
     "output_type": "stream",
     "text": [
      "\n"
     ]
    },
    {
     "name": "stdout",
     "output_type": "stream",
     "text": [
      "Epoch: [99][1/20]\tTime 1.428 (0.754)\tData 1.148 (0.055)\tLoss 5.3749 (94.6352)\t\n",
      "Epoch: [99][6/20]\tTime 0.732 (0.754)\tData 0.003 (0.055)\tLoss 15.8370 (94.4454)\t\n",
      "Epoch: [99][11/20]\tTime 0.827 (0.754)\tData 0.002 (0.055)\tLoss 4.5658 (94.2228)\t\n",
      "Epoch: [99][16/20]\tTime 0.836 (0.754)\tData 0.003 (0.055)\tLoss 3.1252 (93.9893)\t\n",
      "Training Summary Epoch: [99]\tTime taken (s): 15\tAverage Loss 1.704\t\n"
     ]
    },
    {
     "name": "stderr",
     "output_type": "stream",
     "text": [
      "100%|█████████████████████████████████████████████████████████████████████████████████████| 1/1 [00:01<00:00,  1.40s/it]"
     ]
    },
    {
     "name": "stdout",
     "output_type": "stream",
     "text": [
      "Validation Summary Epoch: [99]\tAverage WER 144.118\tAverage CER 88.525\t\n",
      "Learning rate annealed to: 0.000112\n"
     ]
    },
    {
     "name": "stderr",
     "output_type": "stream",
     "text": [
      "\n"
     ]
    },
    {
     "name": "stdout",
     "output_type": "stream",
     "text": [
      "Epoch: [100][1/20]\tTime 1.388 (0.754)\tData 1.066 (0.055)\tLoss 12.8398 (93.7660)\t\n",
      "Epoch: [100][6/20]\tTime 0.699 (0.754)\tData 0.002 (0.055)\tLoss 15.9804 (93.5419)\t\n",
      "Epoch: [100][11/20]\tTime 0.672 (0.754)\tData 0.002 (0.055)\tLoss 7.1871 (93.3501)\t\n",
      "Epoch: [100][16/20]\tTime 0.850 (0.754)\tData 0.002 (0.055)\tLoss 5.8839 (93.1294)\t\n",
      "Training Summary Epoch: [100]\tTime taken (s): 15\tAverage Loss 1.662\t\n"
     ]
    },
    {
     "name": "stderr",
     "output_type": "stream",
     "text": [
      "100%|█████████████████████████████████████████████████████████████████████████████████████| 1/1 [00:01<00:00,  1.38s/it]"
     ]
    },
    {
     "name": "stdout",
     "output_type": "stream",
     "text": [
      "Validation Summary Epoch: [100]\tAverage WER 155.882\tAverage CER 87.978\t\n",
      "Learning rate annealed to: 0.000111\n"
     ]
    },
    {
     "name": "stderr",
     "output_type": "stream",
     "text": [
      "\n"
     ]
    },
    {
     "name": "stdout",
     "output_type": "stream",
     "text": [
      "Epoch: [101][1/20]\tTime 1.280 (0.754)\tData 1.062 (0.055)\tLoss 7.5476 (92.9060)\t\n",
      "Epoch: [101][6/20]\tTime 0.591 (0.754)\tData 0.002 (0.055)\tLoss 3.3713 (92.7092)\t\n",
      "Epoch: [101][11/20]\tTime 0.791 (0.753)\tData 0.002 (0.055)\tLoss 6.7620 (92.4881)\t\n",
      "Epoch: [101][16/20]\tTime 0.848 (0.754)\tData 0.003 (0.055)\tLoss 15.1505 (92.2735)\t\n",
      "Training Summary Epoch: [101]\tTime taken (s): 15\tAverage Loss 1.548\t\n"
     ]
    },
    {
     "name": "stderr",
     "output_type": "stream",
     "text": [
      "100%|█████████████████████████████████████████████████████████████████████████████████████| 1/1 [00:01<00:00,  1.38s/it]"
     ]
    },
    {
     "name": "stdout",
     "output_type": "stream",
     "text": [
      "Validation Summary Epoch: [101]\tAverage WER 141.176\tAverage CER 90.164\t\n",
      "Learning rate annealed to: 0.000110\n"
     ]
    },
    {
     "name": "stderr",
     "output_type": "stream",
     "text": [
      "\n"
     ]
    },
    {
     "name": "stdout",
     "output_type": "stream",
     "text": [
      "Epoch: [102][1/20]\tTime 1.357 (0.754)\tData 1.060 (0.055)\tLoss 5.6733 (92.0595)\t\n",
      "Epoch: [102][6/20]\tTime 0.743 (0.754)\tData 0.002 (0.055)\tLoss 2.2612 (91.8669)\t\n",
      "Epoch: [102][11/20]\tTime 0.843 (0.754)\tData 0.002 (0.055)\tLoss 11.5785 (91.6538)\t\n",
      "Epoch: [102][16/20]\tTime 0.622 (0.754)\tData 0.002 (0.055)\tLoss 4.0764 (91.4407)\t\n",
      "Training Summary Epoch: [102]\tTime taken (s): 15\tAverage Loss 1.578\t\n"
     ]
    },
    {
     "name": "stderr",
     "output_type": "stream",
     "text": [
      "100%|█████████████████████████████████████████████████████████████████████████████████████| 1/1 [00:01<00:00,  1.38s/it]"
     ]
    },
    {
     "name": "stdout",
     "output_type": "stream",
     "text": [
      "Validation Summary Epoch: [102]\tAverage WER 155.882\tAverage CER 100.546\t\n",
      "Learning rate annealed to: 0.000109\n"
     ]
    },
    {
     "name": "stderr",
     "output_type": "stream",
     "text": [
      "\n"
     ]
    },
    {
     "name": "stdout",
     "output_type": "stream",
     "text": [
      "Epoch: [103][1/20]\tTime 1.515 (0.754)\tData 1.139 (0.055)\tLoss 6.8964 (91.2327)\t\n",
      "Epoch: [103][6/20]\tTime 0.690 (0.754)\tData 0.002 (0.055)\tLoss 5.8690 (91.0518)\t\n",
      "Epoch: [103][11/20]\tTime 0.720 (0.754)\tData 0.002 (0.055)\tLoss 13.0127 (90.8477)\t\n",
      "Epoch: [103][16/20]\tTime 0.633 (0.754)\tData 0.002 (0.055)\tLoss 23.3102 (90.6448)\t\n",
      "Training Summary Epoch: [103]\tTime taken (s): 15\tAverage Loss 2.037\t\n"
     ]
    },
    {
     "name": "stderr",
     "output_type": "stream",
     "text": [
      "100%|█████████████████████████████████████████████████████████████████████████████████████| 1/1 [00:01<00:00,  1.30s/it]"
     ]
    },
    {
     "name": "stdout",
     "output_type": "stream",
     "text": [
      "Validation Summary Epoch: [103]\tAverage WER 129.412\tAverage CER 87.432\t\n",
      "Learning rate annealed to: 0.000108\n"
     ]
    },
    {
     "name": "stderr",
     "output_type": "stream",
     "text": [
      "\n"
     ]
    },
    {
     "name": "stdout",
     "output_type": "stream",
     "text": [
      "Epoch: [104][1/20]\tTime 1.361 (0.754)\tData 1.054 (0.055)\tLoss 17.3786 (90.4484)\t\n",
      "Epoch: [104][6/20]\tTime 0.751 (0.754)\tData 0.002 (0.055)\tLoss 4.2097 (90.2457)\t\n",
      "Epoch: [104][11/20]\tTime 0.391 (0.754)\tData 0.002 (0.055)\tLoss 8.6989 (90.0753)\t\n",
      "Epoch: [104][16/20]\tTime 0.905 (0.754)\tData 0.002 (0.055)\tLoss 10.2771 (89.8695)\t\n",
      "Training Summary Epoch: [104]\tTime taken (s): 15\tAverage Loss 2.155\t\n"
     ]
    },
    {
     "name": "stderr",
     "output_type": "stream",
     "text": [
      "100%|█████████████████████████████████████████████████████████████████████████████████████| 1/1 [00:01<00:00,  1.31s/it]"
     ]
    },
    {
     "name": "stdout",
     "output_type": "stream",
     "text": [
      "Validation Summary Epoch: [104]\tAverage WER 138.235\tAverage CER 101.639\t\n",
      "Learning rate annealed to: 0.000107\n"
     ]
    },
    {
     "name": "stderr",
     "output_type": "stream",
     "text": [
      "\n"
     ]
    },
    {
     "name": "stdout",
     "output_type": "stream",
     "text": [
      "Epoch: [105][1/20]\tTime 1.432 (0.754)\tData 1.080 (0.055)\tLoss 16.2561 (89.6785)\t\n",
      "Epoch: [105][6/20]\tTime 0.740 (0.754)\tData 0.002 (0.055)\tLoss 7.7118 (89.4766)\t\n",
      "Epoch: [105][11/20]\tTime 0.698 (0.754)\tData 0.002 (0.055)\tLoss 15.5974 (89.3047)\t\n",
      "Epoch: [105][16/20]\tTime 0.702 (0.754)\tData 0.002 (0.055)\tLoss 15.6831 (89.1045)\t\n",
      "Training Summary Epoch: [105]\tTime taken (s): 15\tAverage Loss 2.013\t\n"
     ]
    },
    {
     "name": "stderr",
     "output_type": "stream",
     "text": [
      "100%|█████████████████████████████████████████████████████████████████████████████████████| 1/1 [00:01<00:00,  1.31s/it]"
     ]
    },
    {
     "name": "stdout",
     "output_type": "stream",
     "text": [
      "Validation Summary Epoch: [105]\tAverage WER 135.294\tAverage CER 92.896\t\n",
      "Learning rate annealed to: 0.000106\n"
     ]
    },
    {
     "name": "stderr",
     "output_type": "stream",
     "text": [
      "\n"
     ]
    },
    {
     "name": "stdout",
     "output_type": "stream",
     "text": [
      "Epoch: [106][1/20]\tTime 1.414 (0.754)\tData 1.074 (0.055)\tLoss 14.9960 (88.9164)\t\n",
      "Epoch: [106][6/20]\tTime 0.788 (0.754)\tData 0.003 (0.055)\tLoss 6.1464 (88.7168)\t\n",
      "Epoch: [106][11/20]\tTime 0.748 (0.754)\tData 0.002 (0.055)\tLoss 13.0710 (88.5259)\t\n",
      "Epoch: [106][16/20]\tTime 0.600 (0.754)\tData 0.002 (0.055)\tLoss 11.7908 (88.3251)\t\n",
      "Training Summary Epoch: [106]\tTime taken (s): 15\tAverage Loss 1.797\t\n"
     ]
    },
    {
     "name": "stderr",
     "output_type": "stream",
     "text": [
      "100%|█████████████████████████████████████████████████████████████████████████████████████| 1/1 [00:01<00:00,  1.31s/it]"
     ]
    },
    {
     "name": "stdout",
     "output_type": "stream",
     "text": [
      "Validation Summary Epoch: [106]\tAverage WER 141.176\tAverage CER 95.082\t\n",
      "Learning rate annealed to: 0.000104\n"
     ]
    },
    {
     "name": "stderr",
     "output_type": "stream",
     "text": [
      "\n"
     ]
    },
    {
     "name": "stdout",
     "output_type": "stream",
     "text": [
      "Epoch: [107][1/20]\tTime 1.414 (0.754)\tData 1.144 (0.055)\tLoss 3.5103 (88.1531)\t\n",
      "Epoch: [107][6/20]\tTime 0.489 (0.754)\tData 0.002 (0.055)\tLoss 4.5111 (87.9828)\t\n",
      "Epoch: [107][11/20]\tTime 0.834 (0.754)\tData 0.002 (0.055)\tLoss 5.1339 (87.7929)\t\n",
      "Epoch: [107][16/20]\tTime 0.717 (0.754)\tData 0.002 (0.055)\tLoss 5.5662 (87.5990)\t\n",
      "Training Summary Epoch: [107]\tTime taken (s): 15\tAverage Loss 1.663\t\n"
     ]
    },
    {
     "name": "stderr",
     "output_type": "stream",
     "text": [
      "100%|█████████████████████████████████████████████████████████████████████████████████████| 1/1 [00:01<00:00,  1.37s/it]"
     ]
    },
    {
     "name": "stdout",
     "output_type": "stream",
     "text": [
      "Validation Summary Epoch: [107]\tAverage WER 152.941\tAverage CER 95.082\t\n",
      "Learning rate annealed to: 0.000103\n"
     ]
    },
    {
     "name": "stderr",
     "output_type": "stream",
     "text": [
      "\n"
     ]
    },
    {
     "name": "stdout",
     "output_type": "stream",
     "text": [
      "Epoch: [108][1/20]\tTime 1.458 (0.754)\tData 1.181 (0.055)\tLoss 4.4500 (87.4049)\t\n",
      "Epoch: [108][6/20]\tTime 0.625 (0.754)\tData 0.002 (0.055)\tLoss 15.2512 (87.2399)\t\n",
      "Epoch: [108][11/20]\tTime 0.678 (0.754)\tData 0.002 (0.055)\tLoss 2.2175 (87.0463)\t\n",
      "Epoch: [108][16/20]\tTime 0.744 (0.754)\tData 0.002 (0.055)\tLoss 9.5269 (86.8624)\t\n",
      "Training Summary Epoch: [108]\tTime taken (s): 15\tAverage Loss 1.745\t\n"
     ]
    },
    {
     "name": "stderr",
     "output_type": "stream",
     "text": [
      "100%|█████████████████████████████████████████████████████████████████████████████████████| 1/1 [00:01<00:00,  1.40s/it]"
     ]
    },
    {
     "name": "stdout",
     "output_type": "stream",
     "text": [
      "Validation Summary Epoch: [108]\tAverage WER 132.353\tAverage CER 92.350\t\n",
      "Learning rate annealed to: 0.000102\n"
     ]
    },
    {
     "name": "stderr",
     "output_type": "stream",
     "text": [
      "\n"
     ]
    },
    {
     "name": "stdout",
     "output_type": "stream",
     "text": [
      "Epoch: [109][1/20]\tTime 1.549 (0.754)\tData 1.148 (0.055)\tLoss 4.6643 (86.6741)\t\n",
      "Epoch: [109][6/20]\tTime 0.571 (0.754)\tData 0.003 (0.055)\tLoss 3.5320 (86.4827)\t\n",
      "Epoch: [109][11/20]\tTime 0.782 (0.754)\tData 0.003 (0.055)\tLoss 10.9065 (86.3024)\t\n",
      "Epoch: [109][16/20]\tTime 0.459 (0.754)\tData 0.002 (0.055)\tLoss 3.6380 (86.1369)\t\n",
      "Training Summary Epoch: [109]\tTime taken (s): 15\tAverage Loss 1.583\t\n"
     ]
    },
    {
     "name": "stderr",
     "output_type": "stream",
     "text": [
      "100%|█████████████████████████████████████████████████████████████████████████████████████| 1/1 [00:01<00:00,  1.32s/it]"
     ]
    },
    {
     "name": "stdout",
     "output_type": "stream",
     "text": [
      "Validation Summary Epoch: [109]\tAverage WER 132.353\tAverage CER 92.896\t\n",
      "Learning rate annealed to: 0.000101\n"
     ]
    },
    {
     "name": "stderr",
     "output_type": "stream",
     "text": [
      "\n"
     ]
    },
    {
     "name": "stdout",
     "output_type": "stream",
     "text": [
      "Epoch: [110][1/20]\tTime 1.292 (0.754)\tData 1.070 (0.055)\tLoss 4.2953 (85.9489)\t\n",
      "Epoch: [110][6/20]\tTime 0.792 (0.754)\tData 0.002 (0.055)\tLoss 8.5754 (85.7669)\t\n",
      "Epoch: [110][11/20]\tTime 0.693 (0.754)\tData 0.002 (0.055)\tLoss 3.2980 (85.5841)\t\n",
      "Epoch: [110][16/20]\tTime 0.703 (0.754)\tData 0.002 (0.055)\tLoss 12.9887 (85.4229)\t\n",
      "Training Summary Epoch: [110]\tTime taken (s): 15\tAverage Loss 1.639\t\n"
     ]
    },
    {
     "name": "stderr",
     "output_type": "stream",
     "text": [
      "100%|█████████████████████████████████████████████████████████████████████████████████████| 1/1 [00:01<00:00,  1.40s/it]"
     ]
    },
    {
     "name": "stdout",
     "output_type": "stream",
     "text": [
      "Validation Summary Epoch: [110]\tAverage WER 135.294\tAverage CER 93.443\t\n",
      "Learning rate annealed to: 0.000100\n"
     ]
    },
    {
     "name": "stderr",
     "output_type": "stream",
     "text": [
      "\n"
     ]
    },
    {
     "name": "stdout",
     "output_type": "stream",
     "text": [
      "Epoch: [111][1/20]\tTime 1.505 (0.754)\tData 1.069 (0.055)\tLoss 3.9932 (85.2395)\t\n",
      "Epoch: [111][6/20]\tTime 0.701 (0.754)\tData 0.002 (0.055)\tLoss 8.5906 (85.0737)\t\n",
      "Epoch: [111][11/20]\tTime 0.829 (0.754)\tData 0.003 (0.055)\tLoss 7.9741 (84.8939)\t\n",
      "Epoch: [111][16/20]\tTime 0.626 (0.754)\tData 0.002 (0.055)\tLoss 13.9586 (84.7189)\t\n",
      "Training Summary Epoch: [111]\tTime taken (s): 15\tAverage Loss 1.432\t\n"
     ]
    },
    {
     "name": "stderr",
     "output_type": "stream",
     "text": [
      "100%|█████████████████████████████████████████████████████████████████████████████████████| 1/1 [00:01<00:00,  1.41s/it]"
     ]
    },
    {
     "name": "stdout",
     "output_type": "stream",
     "text": [
      "Validation Summary Epoch: [111]\tAverage WER 141.176\tAverage CER 92.896\t\n",
      "Learning rate annealed to: 0.000099\n"
     ]
    },
    {
     "name": "stderr",
     "output_type": "stream",
     "text": [
      "\n"
     ]
    },
    {
     "name": "stdout",
     "output_type": "stream",
     "text": [
      "Epoch: [112][1/20]\tTime 1.337 (0.754)\tData 1.120 (0.055)\tLoss 7.1799 (84.5355)\t\n",
      "Epoch: [112][6/20]\tTime 0.853 (0.754)\tData 0.003 (0.055)\tLoss 3.7885 (84.3759)\t\n",
      "Epoch: [112][11/20]\tTime 0.907 (0.754)\tData 0.002 (0.055)\tLoss 9.5590 (84.1978)\t\n",
      "Epoch: [112][16/20]\tTime 0.637 (0.754)\tData 0.002 (0.055)\tLoss 12.0252 (84.0187)\t\n",
      "Training Summary Epoch: [112]\tTime taken (s): 15\tAverage Loss 1.405\t\n"
     ]
    },
    {
     "name": "stderr",
     "output_type": "stream",
     "text": [
      "100%|█████████████████████████████████████████████████████████████████████████████████████| 1/1 [00:01<00:00,  1.39s/it]"
     ]
    },
    {
     "name": "stdout",
     "output_type": "stream",
     "text": [
      "Validation Summary Epoch: [112]\tAverage WER 129.412\tAverage CER 92.350\t\n",
      "Learning rate annealed to: 0.000098\n"
     ]
    },
    {
     "name": "stderr",
     "output_type": "stream",
     "text": [
      "\n"
     ]
    },
    {
     "name": "stdout",
     "output_type": "stream",
     "text": [
      "Epoch: [113][1/20]\tTime 1.390 (0.754)\tData 1.059 (0.055)\tLoss 11.8772 (83.8435)\t\n",
      "Epoch: [113][6/20]\tTime 0.804 (0.754)\tData 0.002 (0.055)\tLoss 7.8155 (83.6680)\t\n",
      "Epoch: [113][11/20]\tTime 0.683 (0.754)\tData 0.002 (0.055)\tLoss 9.8363 (83.4918)\t\n",
      "Epoch: [113][16/20]\tTime 0.589 (0.754)\tData 0.002 (0.055)\tLoss 2.5816 (83.3109)\t\n",
      "Training Summary Epoch: [113]\tTime taken (s): 15\tAverage Loss 1.354\t\n"
     ]
    },
    {
     "name": "stderr",
     "output_type": "stream",
     "text": [
      "100%|█████████████████████████████████████████████████████████████████████████████████████| 1/1 [00:01<00:00,  1.30s/it]"
     ]
    },
    {
     "name": "stdout",
     "output_type": "stream",
     "text": [
      "Validation Summary Epoch: [113]\tAverage WER 135.294\tAverage CER 92.896\t\n",
      "Learning rate annealed to: 0.000097\n"
     ]
    },
    {
     "name": "stderr",
     "output_type": "stream",
     "text": [
      "\n"
     ]
    },
    {
     "name": "stdout",
     "output_type": "stream",
     "text": [
      "Epoch: [114][1/20]\tTime 1.441 (0.754)\tData 1.065 (0.055)\tLoss 7.4201 (83.1567)\t\n",
      "Epoch: [114][6/20]\tTime 0.579 (0.754)\tData 0.002 (0.055)\tLoss 2.8815 (82.9813)\t\n",
      "Epoch: [114][11/20]\tTime 0.672 (0.754)\tData 0.002 (0.055)\tLoss 8.9758 (82.8047)\t\n",
      "Epoch: [114][16/20]\tTime 0.732 (0.754)\tData 0.003 (0.055)\tLoss 8.1446 (82.6523)\t\n",
      "Training Summary Epoch: [114]\tTime taken (s): 15\tAverage Loss 1.287\t\n"
     ]
    },
    {
     "name": "stderr",
     "output_type": "stream",
     "text": [
      "100%|█████████████████████████████████████████████████████████████████████████████████████| 1/1 [00:01<00:00,  1.40s/it]"
     ]
    },
    {
     "name": "stdout",
     "output_type": "stream",
     "text": [
      "Validation Summary Epoch: [114]\tAverage WER 135.294\tAverage CER 90.164\t\n",
      "Learning rate annealed to: 0.000096\n"
     ]
    },
    {
     "name": "stderr",
     "output_type": "stream",
     "text": [
      "\n"
     ]
    },
    {
     "name": "stdout",
     "output_type": "stream",
     "text": [
      "Epoch: [115][1/20]\tTime 1.376 (0.754)\tData 1.150 (0.055)\tLoss 2.6564 (82.4794)\t\n",
      "Epoch: [115][6/20]\tTime 0.770 (0.754)\tData 0.002 (0.055)\tLoss 7.4046 (82.3098)\t\n",
      "Epoch: [115][11/20]\tTime 0.804 (0.754)\tData 0.002 (0.055)\tLoss 3.9489 (82.1343)\t\n",
      "Epoch: [115][16/20]\tTime 0.712 (0.754)\tData 0.002 (0.055)\tLoss 8.8041 (81.9648)\t\n",
      "Training Summary Epoch: [115]\tTime taken (s): 15\tAverage Loss 1.413\t\n"
     ]
    },
    {
     "name": "stderr",
     "output_type": "stream",
     "text": [
      "100%|█████████████████████████████████████████████████████████████████████████████████████| 1/1 [00:01<00:00,  1.31s/it]"
     ]
    },
    {
     "name": "stdout",
     "output_type": "stream",
     "text": [
      "Validation Summary Epoch: [115]\tAverage WER 144.118\tAverage CER 95.628\t\n",
      "Learning rate annealed to: 0.000096\n"
     ]
    },
    {
     "name": "stderr",
     "output_type": "stream",
     "text": [
      "\n"
     ]
    },
    {
     "name": "stdout",
     "output_type": "stream",
     "text": [
      "Epoch: [116][1/20]\tTime 1.297 (0.754)\tData 1.071 (0.055)\tLoss 3.0333 (81.8219)\t\n",
      "Epoch: [116][6/20]\tTime 0.804 (0.754)\tData 0.002 (0.055)\tLoss 11.3935 (81.6773)\t\n",
      "Epoch: [116][11/20]\tTime 0.763 (0.754)\tData 0.002 (0.055)\tLoss 6.3165 (81.5155)\t\n",
      "Epoch: [116][16/20]\tTime 0.799 (0.754)\tData 0.003 (0.055)\tLoss 3.3275 (81.3571)\t\n",
      "Training Summary Epoch: [116]\tTime taken (s): 15\tAverage Loss 1.800\t\n"
     ]
    },
    {
     "name": "stderr",
     "output_type": "stream",
     "text": [
      "100%|█████████████████████████████████████████████████████████████████████████████████████| 1/1 [00:01<00:00,  1.31s/it]"
     ]
    },
    {
     "name": "stdout",
     "output_type": "stream",
     "text": [
      "Validation Summary Epoch: [116]\tAverage WER 120.588\tAverage CER 88.525\t\n",
      "Learning rate annealed to: 0.000095\n"
     ]
    },
    {
     "name": "stderr",
     "output_type": "stream",
     "text": [
      "\n"
     ]
    },
    {
     "name": "stdout",
     "output_type": "stream",
     "text": [
      "Epoch: [117][1/20]\tTime 1.362 (0.754)\tData 1.070 (0.055)\tLoss 2.8245 (81.1922)\t\n",
      "Epoch: [117][6/20]\tTime 0.715 (0.754)\tData 0.002 (0.055)\tLoss 9.4766 (81.0346)\t\n",
      "Epoch: [117][11/20]\tTime 0.453 (0.754)\tData 0.002 (0.055)\tLoss 5.6997 (80.8957)\t\n",
      "Epoch: [117][16/20]\tTime 0.637 (0.754)\tData 0.003 (0.055)\tLoss 7.7515 (80.7336)\t\n",
      "Training Summary Epoch: [117]\tTime taken (s): 15\tAverage Loss 1.658\t\n"
     ]
    },
    {
     "name": "stderr",
     "output_type": "stream",
     "text": [
      "100%|█████████████████████████████████████████████████████████████████████████████████████| 1/1 [00:01<00:00,  1.33s/it]"
     ]
    },
    {
     "name": "stdout",
     "output_type": "stream",
     "text": [
      "Validation Summary Epoch: [117]\tAverage WER 164.706\tAverage CER 95.082\t\n",
      "Learning rate annealed to: 0.000094\n"
     ]
    },
    {
     "name": "stderr",
     "output_type": "stream",
     "text": [
      "\n"
     ]
    },
    {
     "name": "stdout",
     "output_type": "stream",
     "text": [
      "Epoch: [118][1/20]\tTime 1.480 (0.754)\tData 1.081 (0.055)\tLoss 4.9580 (80.5680)\t\n",
      "Epoch: [118][6/20]\tTime 0.788 (0.754)\tData 0.003 (0.055)\tLoss 7.7600 (80.4112)\t\n",
      "Epoch: [118][11/20]\tTime 0.841 (0.754)\tData 0.003 (0.055)\tLoss 3.3697 (80.2480)\t\n",
      "Epoch: [118][16/20]\tTime 0.576 (0.754)\tData 0.003 (0.055)\tLoss 7.4659 (80.0897)\t\n",
      "Training Summary Epoch: [118]\tTime taken (s): 15\tAverage Loss 1.451\t\n"
     ]
    },
    {
     "name": "stderr",
     "output_type": "stream",
     "text": [
      "100%|█████████████████████████████████████████████████████████████████████████████████████| 1/1 [00:01<00:00,  1.42s/it]"
     ]
    },
    {
     "name": "stdout",
     "output_type": "stream",
     "text": [
      "Validation Summary Epoch: [118]\tAverage WER 132.353\tAverage CER 88.525\t\n",
      "Learning rate annealed to: 0.000093\n"
     ]
    },
    {
     "name": "stderr",
     "output_type": "stream",
     "text": [
      "\n"
     ]
    },
    {
     "name": "stdout",
     "output_type": "stream",
     "text": [
      "Epoch: [119][1/20]\tTime 1.498 (0.754)\tData 1.162 (0.055)\tLoss 12.6825 (79.9478)\t\n",
      "Epoch: [119][6/20]\tTime 0.723 (0.754)\tData 0.002 (0.055)\tLoss 3.3052 (79.7859)\t\n",
      "Epoch: [119][11/20]\tTime 0.776 (0.754)\tData 0.003 (0.055)\tLoss 8.2289 (79.6250)\t\n",
      "Epoch: [119][16/20]\tTime 0.682 (0.754)\tData 0.003 (0.055)\tLoss 1.9682 (79.4855)\t\n",
      "Training Summary Epoch: [119]\tTime taken (s): 15\tAverage Loss 1.320\t\n"
     ]
    },
    {
     "name": "stderr",
     "output_type": "stream",
     "text": [
      "100%|█████████████████████████████████████████████████████████████████████████████████████| 1/1 [00:01<00:00,  1.42s/it]"
     ]
    },
    {
     "name": "stdout",
     "output_type": "stream",
     "text": [
      "Validation Summary Epoch: [119]\tAverage WER 144.118\tAverage CER 97.268\t\n",
      "Learning rate annealed to: 0.000092\n"
     ]
    },
    {
     "name": "stderr",
     "output_type": "stream",
     "text": [
      "\n"
     ]
    },
    {
     "name": "stdout",
     "output_type": "stream",
     "text": [
      "Epoch: [120][1/20]\tTime 1.303 (0.754)\tData 1.078 (0.055)\tLoss 2.1719 (79.3248)\t\n",
      "Epoch: [120][6/20]\tTime 0.636 (0.754)\tData 0.003 (0.055)\tLoss 7.0002 (79.1662)\t\n",
      "Epoch: [120][11/20]\tTime 0.909 (0.754)\tData 0.003 (0.055)\tLoss 9.5242 (79.0075)\t\n",
      "Epoch: [120][16/20]\tTime 0.559 (0.754)\tData 0.003 (0.055)\tLoss 7.0764 (78.8651)\t\n",
      "Training Summary Epoch: [120]\tTime taken (s): 15\tAverage Loss 1.258\t\n"
     ]
    },
    {
     "name": "stderr",
     "output_type": "stream",
     "text": [
      "100%|█████████████████████████████████████████████████████████████████████████████████████| 1/1 [00:01<00:00,  1.41s/it]"
     ]
    },
    {
     "name": "stdout",
     "output_type": "stream",
     "text": [
      "Validation Summary Epoch: [120]\tAverage WER 147.059\tAverage CER 95.082\t\n",
      "Learning rate annealed to: 0.000091\n"
     ]
    },
    {
     "name": "stderr",
     "output_type": "stream",
     "text": [
      "\n"
     ]
    },
    {
     "name": "stdout",
     "output_type": "stream",
     "text": [
      "Epoch: [121][1/20]\tTime 1.570 (0.754)\tData 1.166 (0.056)\tLoss 3.7252 (78.7147)\t\n",
      "Epoch: [121][6/20]\tTime 0.563 (0.754)\tData 0.002 (0.055)\tLoss 5.7597 (78.5577)\t\n",
      "Epoch: [121][11/20]\tTime 0.685 (0.754)\tData 0.003 (0.055)\tLoss 7.1813 (78.4000)\t\n",
      "Epoch: [121][16/20]\tTime 0.763 (0.754)\tData 0.002 (0.055)\tLoss 7.6382 (78.2640)\t\n",
      "Training Summary Epoch: [121]\tTime taken (s): 15\tAverage Loss 1.159\t\n"
     ]
    },
    {
     "name": "stderr",
     "output_type": "stream",
     "text": [
      "100%|█████████████████████████████████████████████████████████████████████████████████████| 1/1 [00:01<00:00,  1.32s/it]"
     ]
    },
    {
     "name": "stdout",
     "output_type": "stream",
     "text": [
      "Validation Summary Epoch: [121]\tAverage WER 135.294\tAverage CER 91.257\t\n",
      "Learning rate annealed to: 0.000090\n"
     ]
    },
    {
     "name": "stderr",
     "output_type": "stream",
     "text": [
      "\n"
     ]
    },
    {
     "name": "stdout",
     "output_type": "stream",
     "text": [
      "Epoch: [122][1/20]\tTime 1.566 (0.754)\tData 1.182 (0.056)\tLoss 7.3619 (78.1118)\t\n",
      "Epoch: [122][6/20]\tTime 0.866 (0.755)\tData 0.002 (0.055)\tLoss 4.5043 (77.9557)\t\n",
      "Epoch: [122][11/20]\tTime 0.652 (0.755)\tData 0.002 (0.055)\tLoss 5.8209 (77.8006)\t\n",
      "Epoch: [122][16/20]\tTime 0.762 (0.754)\tData 0.002 (0.055)\tLoss 7.4349 (77.6629)\t\n",
      "Training Summary Epoch: [122]\tTime taken (s): 15\tAverage Loss 1.067\t\n"
     ]
    },
    {
     "name": "stderr",
     "output_type": "stream",
     "text": [
      "100%|█████████████████████████████████████████████████████████████████████████████████████| 1/1 [00:01<00:00,  1.41s/it]"
     ]
    },
    {
     "name": "stdout",
     "output_type": "stream",
     "text": [
      "Validation Summary Epoch: [122]\tAverage WER 132.353\tAverage CER 87.978\t\n",
      "Learning rate annealed to: 0.000089\n"
     ]
    },
    {
     "name": "stderr",
     "output_type": "stream",
     "text": [
      "\n"
     ]
    },
    {
     "name": "stdout",
     "output_type": "stream",
     "text": [
      "Epoch: [123][1/20]\tTime 1.263 (0.754)\tData 1.067 (0.056)\tLoss 4.7542 (77.5309)\t\n",
      "Epoch: [123][6/20]\tTime 0.731 (0.754)\tData 0.002 (0.055)\tLoss 7.3391 (77.3814)\t\n",
      "Epoch: [123][11/20]\tTime 0.731 (0.754)\tData 0.003 (0.055)\tLoss 2.1254 (77.2271)\t\n",
      "Epoch: [123][16/20]\tTime 0.820 (0.754)\tData 0.002 (0.055)\tLoss 7.7147 (77.0771)\t\n",
      "Training Summary Epoch: [123]\tTime taken (s): 15\tAverage Loss 1.118\t\n"
     ]
    },
    {
     "name": "stderr",
     "output_type": "stream",
     "text": [
      "100%|█████████████████████████████████████████████████████████████████████████████████████| 1/1 [00:01<00:00,  1.32s/it]"
     ]
    },
    {
     "name": "stdout",
     "output_type": "stream",
     "text": [
      "Validation Summary Epoch: [123]\tAverage WER 147.059\tAverage CER 88.525\t\n",
      "Learning rate annealed to: 0.000088\n"
     ]
    },
    {
     "name": "stderr",
     "output_type": "stream",
     "text": [
      "\n"
     ]
    },
    {
     "name": "stdout",
     "output_type": "stream",
     "text": [
      "Epoch: [124][1/20]\tTime 1.558 (0.755)\tData 1.162 (0.056)\tLoss 8.4060 (76.9278)\t\n",
      "Epoch: [124][6/20]\tTime 0.719 (0.755)\tData 0.002 (0.056)\tLoss 8.2119 (76.7822)\t\n",
      "Epoch: [124][11/20]\tTime 0.582 (0.754)\tData 0.002 (0.055)\tLoss 4.3855 (76.6533)\t\n",
      "Epoch: [124][16/20]\tTime 0.732 (0.754)\tData 0.002 (0.055)\tLoss 2.2226 (76.4991)\t\n",
      "Training Summary Epoch: [124]\tTime taken (s): 15\tAverage Loss 1.232\t\n"
     ]
    },
    {
     "name": "stderr",
     "output_type": "stream",
     "text": [
      "100%|█████████████████████████████████████████████████████████████████████████████████████| 1/1 [00:01<00:00,  1.39s/it]"
     ]
    },
    {
     "name": "stdout",
     "output_type": "stream",
     "text": [
      "Validation Summary Epoch: [124]\tAverage WER 138.235\tAverage CER 92.896\t\n",
      "Learning rate annealed to: 0.000087\n"
     ]
    },
    {
     "name": "stderr",
     "output_type": "stream",
     "text": [
      "\n"
     ]
    },
    {
     "name": "stdout",
     "output_type": "stream",
     "text": [
      "Epoch: [125][1/20]\tTime 1.478 (0.755)\tData 1.081 (0.056)\tLoss 3.2575 (76.3534)\t\n",
      "Epoch: [125][6/20]\tTime 0.640 (0.755)\tData 0.002 (0.056)\tLoss 11.3723 (76.2050)\t\n",
      "Epoch: [125][11/20]\tTime 0.661 (0.755)\tData 0.003 (0.055)\tLoss 2.9015 (76.0609)\t\n",
      "Epoch: [125][16/20]\tTime 0.574 (0.754)\tData 0.003 (0.055)\tLoss 7.7375 (75.9306)\t\n",
      "Training Summary Epoch: [125]\tTime taken (s): 15\tAverage Loss 1.092\t\n"
     ]
    },
    {
     "name": "stderr",
     "output_type": "stream",
     "text": [
      "100%|█████████████████████████████████████████████████████████████████████████████████████| 1/1 [00:01<00:00,  1.31s/it]"
     ]
    },
    {
     "name": "stdout",
     "output_type": "stream",
     "text": [
      "Validation Summary Epoch: [125]\tAverage WER 132.353\tAverage CER 92.896\t\n",
      "Learning rate annealed to: 0.000086\n"
     ]
    },
    {
     "name": "stderr",
     "output_type": "stream",
     "text": [
      "\n"
     ]
    },
    {
     "name": "stdout",
     "output_type": "stream",
     "text": [
      "Epoch: [126][1/20]\tTime 1.515 (0.755)\tData 1.168 (0.056)\tLoss 11.5383 (75.7879)\t\n",
      "Epoch: [126][6/20]\tTime 0.453 (0.754)\tData 0.002 (0.056)\tLoss 1.9558 (75.6587)\t\n",
      "Epoch: [126][11/20]\tTime 0.809 (0.754)\tData 0.003 (0.055)\tLoss 4.5247 (75.5112)\t\n",
      "Epoch: [126][16/20]\tTime 0.831 (0.754)\tData 0.003 (0.055)\tLoss 5.9639 (75.3724)\t\n",
      "Training Summary Epoch: [126]\tTime taken (s): 15\tAverage Loss 1.100\t\n"
     ]
    },
    {
     "name": "stderr",
     "output_type": "stream",
     "text": [
      "100%|█████████████████████████████████████████████████████████████████████████████████████| 1/1 [00:01<00:00,  1.41s/it]"
     ]
    },
    {
     "name": "stdout",
     "output_type": "stream",
     "text": [
      "Validation Summary Epoch: [126]\tAverage WER 135.294\tAverage CER 89.071\t\n",
      "Learning rate annealed to: 0.000086\n"
     ]
    },
    {
     "name": "stderr",
     "output_type": "stream",
     "text": [
      "\n"
     ]
    },
    {
     "name": "stdout",
     "output_type": "stream",
     "text": [
      "Epoch: [127][1/20]\tTime 1.592 (0.755)\tData 1.199 (0.056)\tLoss 6.3967 (75.2262)\t\n",
      "Epoch: [127][6/20]\tTime 0.632 (0.755)\tData 0.002 (0.056)\tLoss 6.0526 (75.0997)\t\n",
      "Epoch: [127][11/20]\tTime 0.765 (0.754)\tData 0.002 (0.056)\tLoss 10.4036 (74.9603)\t\n",
      "Epoch: [127][16/20]\tTime 0.568 (0.755)\tData 0.002 (0.055)\tLoss 2.2190 (74.8146)\t\n",
      "Training Summary Epoch: [127]\tTime taken (s): 15\tAverage Loss 1.010\t\n"
     ]
    },
    {
     "name": "stderr",
     "output_type": "stream",
     "text": [
      "100%|█████████████████████████████████████████████████████████████████████████████████████| 1/1 [00:01<00:00,  1.41s/it]"
     ]
    },
    {
     "name": "stdout",
     "output_type": "stream",
     "text": [
      "Validation Summary Epoch: [127]\tAverage WER 138.235\tAverage CER 88.525\t\n",
      "Learning rate annealed to: 0.000085\n"
     ]
    },
    {
     "name": "stderr",
     "output_type": "stream",
     "text": [
      "\n"
     ]
    },
    {
     "name": "stdout",
     "output_type": "stream",
     "text": [
      "Epoch: [128][1/20]\tTime 1.514 (0.755)\tData 1.165 (0.056)\tLoss 13.3265 (74.6748)\t\n",
      "Epoch: [128][6/20]\tTime 0.892 (0.755)\tData 0.002 (0.056)\tLoss 2.6249 (74.5358)\t\n",
      "Epoch: [128][11/20]\tTime 0.579 (0.755)\tData 0.002 (0.056)\tLoss 3.0746 (74.3913)\t\n",
      "Epoch: [128][16/20]\tTime 0.708 (0.755)\tData 0.002 (0.055)\tLoss 7.5306 (74.2699)\t\n",
      "Training Summary Epoch: [128]\tTime taken (s): 15\tAverage Loss 1.095\t\n"
     ]
    },
    {
     "name": "stderr",
     "output_type": "stream",
     "text": [
      "100%|█████████████████████████████████████████████████████████████████████████████████████| 1/1 [00:01<00:00,  1.42s/it]"
     ]
    },
    {
     "name": "stdout",
     "output_type": "stream",
     "text": [
      "Validation Summary Epoch: [128]\tAverage WER 141.176\tAverage CER 88.525\t\n",
      "Learning rate annealed to: 0.000084\n"
     ]
    },
    {
     "name": "stderr",
     "output_type": "stream",
     "text": [
      "\n"
     ]
    },
    {
     "name": "stdout",
     "output_type": "stream",
     "text": [
      "Epoch: [129][1/20]\tTime 1.302 (0.755)\tData 1.073 (0.056)\tLoss 1.5220 (74.1275)\t\n",
      "Epoch: [129][6/20]\tTime 0.690 (0.754)\tData 0.002 (0.056)\tLoss 6.3641 (73.9868)\t\n",
      "Epoch: [129][11/20]\tTime 0.610 (0.754)\tData 0.003 (0.056)\tLoss 5.7208 (73.8627)\t\n",
      "Epoch: [129][16/20]\tTime 0.739 (0.754)\tData 0.002 (0.055)\tLoss 0.9911 (73.7268)\t\n",
      "Training Summary Epoch: [129]\tTime taken (s): 15\tAverage Loss 0.960\t\n"
     ]
    },
    {
     "name": "stderr",
     "output_type": "stream",
     "text": [
      "100%|█████████████████████████████████████████████████████████████████████████████████████| 1/1 [00:01<00:00,  1.34s/it]"
     ]
    },
    {
     "name": "stdout",
     "output_type": "stream",
     "text": [
      "Validation Summary Epoch: [129]\tAverage WER 147.059\tAverage CER 91.257\t\n",
      "Learning rate annealed to: 0.000083\n"
     ]
    },
    {
     "name": "stderr",
     "output_type": "stream",
     "text": [
      "\n"
     ]
    },
    {
     "name": "stdout",
     "output_type": "stream",
     "text": [
      "Epoch: [130][1/20]\tTime 1.441 (0.755)\tData 1.093 (0.056)\tLoss 5.9428 (73.5903)\t\n",
      "Epoch: [130][6/20]\tTime 0.839 (0.755)\tData 0.003 (0.056)\tLoss 5.2740 (73.4690)\t\n",
      "Epoch: [130][11/20]\tTime 0.665 (0.755)\tData 0.002 (0.056)\tLoss 5.0093 (73.3315)\t\n",
      "Epoch: [130][16/20]\tTime 0.874 (0.755)\tData 0.003 (0.055)\tLoss 3.7064 (73.1932)\t\n",
      "Training Summary Epoch: [130]\tTime taken (s): 15\tAverage Loss 0.869\t\n"
     ]
    },
    {
     "name": "stderr",
     "output_type": "stream",
     "text": [
      "100%|█████████████████████████████████████████████████████████████████████████████████████| 1/1 [00:01<00:00,  1.34s/it]"
     ]
    },
    {
     "name": "stdout",
     "output_type": "stream",
     "text": [
      "Validation Summary Epoch: [130]\tAverage WER 138.235\tAverage CER 90.164\t\n",
      "Learning rate annealed to: 0.000082\n"
     ]
    },
    {
     "name": "stderr",
     "output_type": "stream",
     "text": [
      "\n"
     ]
    },
    {
     "name": "stdout",
     "output_type": "stream",
     "text": [
      "Epoch: [131][1/20]\tTime 1.539 (0.755)\tData 1.173 (0.056)\tLoss 5.4521 (73.0564)\t\n",
      "Epoch: [131][6/20]\tTime 0.777 (0.755)\tData 0.002 (0.056)\tLoss 2.0707 (72.9200)\t\n",
      "Epoch: [131][11/20]\tTime 0.584 (0.755)\tData 0.002 (0.056)\tLoss 6.7791 (72.8001)\t\n",
      "Epoch: [131][16/20]\tTime 0.610 (0.754)\tData 0.002 (0.056)\tLoss 1.9427 (72.6625)\t\n",
      "Training Summary Epoch: [131]\tTime taken (s): 15\tAverage Loss 0.892\t\n"
     ]
    },
    {
     "name": "stderr",
     "output_type": "stream",
     "text": [
      "100%|█████████████████████████████████████████████████████████████████████████████████████| 1/1 [00:01<00:00,  1.43s/it]"
     ]
    },
    {
     "name": "stdout",
     "output_type": "stream",
     "text": [
      "Validation Summary Epoch: [131]\tAverage WER 135.294\tAverage CER 92.350\t\n",
      "Learning rate annealed to: 0.000081\n"
     ]
    },
    {
     "name": "stderr",
     "output_type": "stream",
     "text": [
      "\n"
     ]
    },
    {
     "name": "stdout",
     "output_type": "stream",
     "text": [
      "Epoch: [132][1/20]\tTime 1.461 (0.755)\tData 1.102 (0.056)\tLoss 5.7110 (72.5319)\t\n",
      "Epoch: [132][6/20]\tTime 0.582 (0.755)\tData 0.002 (0.056)\tLoss 4.8559 (72.3978)\t\n",
      "Epoch: [132][11/20]\tTime 0.785 (0.755)\tData 0.003 (0.056)\tLoss 5.6199 (72.2627)\t\n",
      "Epoch: [132][16/20]\tTime 0.606 (0.754)\tData 0.002 (0.056)\tLoss 1.7081 (72.1465)\t\n",
      "Training Summary Epoch: [132]\tTime taken (s): 15\tAverage Loss 0.872\t\n"
     ]
    },
    {
     "name": "stderr",
     "output_type": "stream",
     "text": [
      "100%|█████████████████████████████████████████████████████████████████████████████████████| 1/1 [00:01<00:00,  1.41s/it]"
     ]
    },
    {
     "name": "stdout",
     "output_type": "stream",
     "text": [
      "Validation Summary Epoch: [132]\tAverage WER 147.059\tAverage CER 92.896\t\n",
      "Learning rate annealed to: 0.000081\n"
     ]
    },
    {
     "name": "stderr",
     "output_type": "stream",
     "text": [
      "\n"
     ]
    },
    {
     "name": "stdout",
     "output_type": "stream",
     "text": [
      "Epoch: [133][1/20]\tTime 1.425 (0.755)\tData 1.082 (0.056)\tLoss 10.8909 (72.0160)\t\n",
      "Epoch: [133][6/20]\tTime 0.807 (0.755)\tData 0.002 (0.056)\tLoss 0.6803 (71.8838)\t\n",
      "Epoch: [133][11/20]\tTime 0.797 (0.755)\tData 0.002 (0.056)\tLoss 2.3277 (71.7518)\t\n",
      "Epoch: [133][16/20]\tTime 0.813 (0.755)\tData 0.003 (0.056)\tLoss 4.8359 (71.6212)\t\n",
      "Training Summary Epoch: [133]\tTime taken (s): 15\tAverage Loss 0.967\t\n"
     ]
    },
    {
     "name": "stderr",
     "output_type": "stream",
     "text": [
      "100%|█████████████████████████████████████████████████████████████████████████████████████| 1/1 [00:01<00:00,  1.42s/it]"
     ]
    },
    {
     "name": "stdout",
     "output_type": "stream",
     "text": [
      "Validation Summary Epoch: [133]\tAverage WER 135.294\tAverage CER 90.710\t\n",
      "Learning rate annealed to: 0.000080\n"
     ]
    },
    {
     "name": "stderr",
     "output_type": "stream",
     "text": [
      "\n"
     ]
    },
    {
     "name": "stdout",
     "output_type": "stream",
     "text": [
      "Epoch: [134][1/20]\tTime 1.412 (0.755)\tData 1.094 (0.056)\tLoss 0.7018 (71.5051)\t\n",
      "Epoch: [134][6/20]\tTime 0.708 (0.754)\tData 0.002 (0.056)\tLoss 1.6932 (71.3729)\t\n",
      "Epoch: [134][11/20]\tTime 0.780 (0.755)\tData 0.003 (0.056)\tLoss 8.7380 (71.2468)\t\n",
      "Epoch: [134][16/20]\tTime 0.462 (0.754)\tData 0.002 (0.056)\tLoss 3.5245 (71.1317)\t\n",
      "Training Summary Epoch: [134]\tTime taken (s): 15\tAverage Loss 0.819\t\n"
     ]
    },
    {
     "name": "stderr",
     "output_type": "stream",
     "text": [
      "100%|█████████████████████████████████████████████████████████████████████████████████████| 1/1 [00:01<00:00,  1.41s/it]"
     ]
    },
    {
     "name": "stdout",
     "output_type": "stream",
     "text": [
      "Validation Summary Epoch: [134]\tAverage WER 138.235\tAverage CER 86.339\t\n",
      "Learning rate annealed to: 0.000079\n"
     ]
    },
    {
     "name": "stderr",
     "output_type": "stream",
     "text": [
      "\n"
     ]
    },
    {
     "name": "stdout",
     "output_type": "stream",
     "text": [
      "Epoch: [135][1/20]\tTime 1.392 (0.755)\tData 1.084 (0.056)\tLoss 3.8518 (71.0021)\t\n",
      "Epoch: [135][6/20]\tTime 0.723 (0.754)\tData 0.002 (0.056)\tLoss 1.3211 (70.8849)\t\n",
      "Epoch: [135][11/20]\tTime 0.742 (0.754)\tData 0.003 (0.056)\tLoss 0.5934 (70.7569)\t\n",
      "Epoch: [135][16/20]\tTime 0.656 (0.754)\tData 0.003 (0.056)\tLoss 5.3743 (70.6304)\t\n",
      "Training Summary Epoch: [135]\tTime taken (s): 15\tAverage Loss 0.808\t\n"
     ]
    },
    {
     "name": "stderr",
     "output_type": "stream",
     "text": [
      "100%|█████████████████████████████████████████████████████████████████████████████████████| 1/1 [00:01<00:00,  1.33s/it]"
     ]
    },
    {
     "name": "stdout",
     "output_type": "stream",
     "text": [
      "Validation Summary Epoch: [135]\tAverage WER 132.353\tAverage CER 94.536\t\n",
      "Learning rate annealed to: 0.000078\n"
     ]
    },
    {
     "name": "stderr",
     "output_type": "stream",
     "text": [
      "\n"
     ]
    },
    {
     "name": "stdout",
     "output_type": "stream",
     "text": [
      "Epoch: [136][1/20]\tTime 1.519 (0.755)\tData 1.167 (0.056)\tLoss 4.5444 (70.5054)\t\n",
      "Epoch: [136][6/20]\tTime 0.770 (0.755)\tData 0.002 (0.056)\tLoss 2.1132 (70.3766)\t\n",
      "Epoch: [136][11/20]\tTime 0.618 (0.755)\tData 0.002 (0.056)\tLoss 4.3750 (70.2492)\t\n",
      "Epoch: [136][16/20]\tTime 0.851 (0.755)\tData 0.003 (0.056)\tLoss 1.2436 (70.1268)\t\n",
      "Training Summary Epoch: [136]\tTime taken (s): 15\tAverage Loss 0.768\t\n"
     ]
    },
    {
     "name": "stderr",
     "output_type": "stream",
     "text": [
      "100%|█████████████████████████████████████████████████████████████████████████████████████| 1/1 [00:01<00:00,  1.35s/it]"
     ]
    },
    {
     "name": "stdout",
     "output_type": "stream",
     "text": [
      "Validation Summary Epoch: [136]\tAverage WER 123.529\tAverage CER 90.710\t\n",
      "Learning rate annealed to: 0.000078\n"
     ]
    },
    {
     "name": "stderr",
     "output_type": "stream",
     "text": [
      "\n"
     ]
    },
    {
     "name": "stdout",
     "output_type": "stream",
     "text": [
      "Epoch: [137][1/20]\tTime 1.352 (0.755)\tData 1.156 (0.056)\tLoss 3.3878 (70.0290)\t\n",
      "Epoch: [137][6/20]\tTime 0.803 (0.755)\tData 0.002 (0.056)\tLoss 7.0924 (69.9045)\t\n",
      "Epoch: [137][11/20]\tTime 0.706 (0.755)\tData 0.002 (0.056)\tLoss 0.5479 (69.7784)\t\n",
      "Epoch: [137][16/20]\tTime 0.725 (0.755)\tData 0.003 (0.056)\tLoss 5.3395 (69.6565)\t\n",
      "Training Summary Epoch: [137]\tTime taken (s): 15\tAverage Loss 0.826\t\n"
     ]
    },
    {
     "name": "stderr",
     "output_type": "stream",
     "text": [
      "100%|█████████████████████████████████████████████████████████████████████████████████████| 1/1 [00:01<00:00,  1.42s/it]"
     ]
    },
    {
     "name": "stdout",
     "output_type": "stream",
     "text": [
      "Validation Summary Epoch: [137]\tAverage WER 138.235\tAverage CER 95.082\t\n",
      "Learning rate annealed to: 0.000077\n"
     ]
    },
    {
     "name": "stderr",
     "output_type": "stream",
     "text": [
      "\n"
     ]
    },
    {
     "name": "stdout",
     "output_type": "stream",
     "text": [
      "Epoch: [138][1/20]\tTime 1.523 (0.755)\tData 1.198 (0.056)\tLoss 0.9979 (69.5312)\t\n",
      "Epoch: [138][6/20]\tTime 0.826 (0.755)\tData 0.002 (0.056)\tLoss 2.3016 (69.4111)\t\n",
      "Epoch: [138][11/20]\tTime 0.457 (0.755)\tData 0.002 (0.056)\tLoss 5.6450 (69.3009)\t\n",
      "Epoch: [138][16/20]\tTime 0.759 (0.755)\tData 0.003 (0.056)\tLoss 4.0090 (69.1804)\t\n",
      "Training Summary Epoch: [138]\tTime taken (s): 15\tAverage Loss 0.820\t\n"
     ]
    },
    {
     "name": "stderr",
     "output_type": "stream",
     "text": [
      "100%|█████████████████████████████████████████████████████████████████████████████████████| 1/1 [00:01<00:00,  1.34s/it]"
     ]
    },
    {
     "name": "stdout",
     "output_type": "stream",
     "text": [
      "Validation Summary Epoch: [138]\tAverage WER 114.706\tAverage CER 89.071\t\n",
      "Learning rate annealed to: 0.000076\n"
     ]
    },
    {
     "name": "stderr",
     "output_type": "stream",
     "text": [
      "\n"
     ]
    },
    {
     "name": "stdout",
     "output_type": "stream",
     "text": [
      "Epoch: [139][1/20]\tTime 1.404 (0.755)\tData 1.178 (0.056)\tLoss 1.0282 (69.0559)\t\n",
      "Epoch: [139][6/20]\tTime 0.830 (0.755)\tData 0.002 (0.056)\tLoss 3.8067 (68.9324)\t\n",
      "Epoch: [139][11/20]\tTime 0.772 (0.755)\tData 0.003 (0.056)\tLoss 8.8823 (68.8148)\t\n",
      "Epoch: [139][16/20]\tTime 0.732 (0.755)\tData 0.003 (0.056)\tLoss 1.1101 (68.6929)\t\n",
      "Training Summary Epoch: [139]\tTime taken (s): 15\tAverage Loss 0.801\t\n"
     ]
    },
    {
     "name": "stderr",
     "output_type": "stream",
     "text": [
      "100%|█████████████████████████████████████████████████████████████████████████████████████| 1/1 [00:01<00:00,  1.34s/it]"
     ]
    },
    {
     "name": "stdout",
     "output_type": "stream",
     "text": [
      "Validation Summary Epoch: [139]\tAverage WER 141.176\tAverage CER 87.432\t\n",
      "Learning rate annealed to: 0.000075\n"
     ]
    },
    {
     "name": "stderr",
     "output_type": "stream",
     "text": [
      "\n"
     ]
    },
    {
     "name": "stdout",
     "output_type": "stream",
     "text": [
      "Epoch: [140][1/20]\tTime 1.392 (0.755)\tData 1.107 (0.056)\tLoss 5.1319 (68.5877)\t\n",
      "Epoch: [140][6/20]\tTime 0.645 (0.755)\tData 0.003 (0.056)\tLoss 4.5982 (68.4682)\t\n",
      "Epoch: [140][11/20]\tTime 0.849 (0.755)\tData 0.003 (0.056)\tLoss 1.3504 (68.3606)\t\n",
      "Epoch: [140][16/20]\tTime 0.835 (0.755)\tData 0.003 (0.056)\tLoss 4.6286 (68.2420)\t\n",
      "Training Summary Epoch: [140]\tTime taken (s): 15\tAverage Loss 0.746\t\n"
     ]
    },
    {
     "name": "stderr",
     "output_type": "stream",
     "text": [
      "100%|█████████████████████████████████████████████████████████████████████████████████████| 1/1 [00:01<00:00,  1.35s/it]"
     ]
    },
    {
     "name": "stdout",
     "output_type": "stream",
     "text": [
      "Validation Summary Epoch: [140]\tAverage WER 135.294\tAverage CER 88.525\t\n",
      "Learning rate annealed to: 0.000074\n"
     ]
    },
    {
     "name": "stderr",
     "output_type": "stream",
     "text": [
      "\n"
     ]
    },
    {
     "name": "stdout",
     "output_type": "stream",
     "text": [
      "Epoch: [141][1/20]\tTime 1.397 (0.755)\tData 1.106 (0.056)\tLoss 5.2789 (68.1235)\t\n",
      "Epoch: [141][6/20]\tTime 0.718 (0.755)\tData 0.002 (0.056)\tLoss 3.9423 (68.0037)\t\n",
      "Epoch: [141][11/20]\tTime 0.755 (0.755)\tData 0.002 (0.056)\tLoss 8.3311 (67.8851)\t\n",
      "Epoch: [141][16/20]\tTime 0.688 (0.755)\tData 0.002 (0.056)\tLoss 8.3167 (67.7827)\t\n",
      "Training Summary Epoch: [141]\tTime taken (s): 15\tAverage Loss 0.700\t\n"
     ]
    },
    {
     "name": "stderr",
     "output_type": "stream",
     "text": [
      "100%|█████████████████████████████████████████████████████████████████████████████████████| 1/1 [00:01<00:00,  1.43s/it]"
     ]
    },
    {
     "name": "stdout",
     "output_type": "stream",
     "text": [
      "Validation Summary Epoch: [141]\tAverage WER 138.235\tAverage CER 90.710\t\n",
      "Learning rate annealed to: 0.000074\n"
     ]
    },
    {
     "name": "stderr",
     "output_type": "stream",
     "text": [
      "\n"
     ]
    },
    {
     "name": "stdout",
     "output_type": "stream",
     "text": [
      "Epoch: [142][1/20]\tTime 1.499 (0.755)\tData 1.104 (0.056)\tLoss 4.3329 (67.6639)\t\n",
      "Epoch: [142][6/20]\tTime 0.794 (0.755)\tData 0.003 (0.056)\tLoss 1.7881 (67.5478)\t\n",
      "Epoch: [142][11/20]\tTime 0.397 (0.755)\tData 0.002 (0.056)\tLoss 1.1655 (67.4422)\t\n",
      "Epoch: [142][16/20]\tTime 0.819 (0.755)\tData 0.003 (0.056)\tLoss 1.6635 (67.3247)\t\n",
      "Training Summary Epoch: [142]\tTime taken (s): 15\tAverage Loss 0.721\t\n"
     ]
    },
    {
     "name": "stderr",
     "output_type": "stream",
     "text": [
      "100%|█████████████████████████████████████████████████████████████████████████████████████| 1/1 [00:01<00:00,  1.35s/it]"
     ]
    },
    {
     "name": "stdout",
     "output_type": "stream",
     "text": [
      "Validation Summary Epoch: [142]\tAverage WER 135.294\tAverage CER 90.710\t\n",
      "Learning rate annealed to: 0.000073\n"
     ]
    },
    {
     "name": "stderr",
     "output_type": "stream",
     "text": [
      "\n"
     ]
    },
    {
     "name": "stdout",
     "output_type": "stream",
     "text": [
      "Epoch: [143][1/20]\tTime 1.411 (0.755)\tData 1.093 (0.056)\tLoss 0.4451 (67.2103)\t\n",
      "Epoch: [143][6/20]\tTime 0.753 (0.755)\tData 0.003 (0.056)\tLoss 4.0158 (67.0969)\t\n",
      "Epoch: [143][11/20]\tTime 0.637 (0.755)\tData 0.002 (0.056)\tLoss 8.3196 (66.9815)\t\n",
      "Epoch: [143][16/20]\tTime 0.644 (0.755)\tData 0.002 (0.056)\tLoss 2.8328 (66.8667)\t\n",
      "Training Summary Epoch: [143]\tTime taken (s): 15\tAverage Loss 0.677\t\n"
     ]
    },
    {
     "name": "stderr",
     "output_type": "stream",
     "text": [
      "100%|█████████████████████████████████████████████████████████████████████████████████████| 1/1 [00:01<00:00,  1.44s/it]"
     ]
    },
    {
     "name": "stdout",
     "output_type": "stream",
     "text": [
      "Validation Summary Epoch: [143]\tAverage WER 138.235\tAverage CER 93.443\t\n",
      "Learning rate annealed to: 0.000072\n"
     ]
    },
    {
     "name": "stderr",
     "output_type": "stream",
     "text": [
      "\n"
     ]
    },
    {
     "name": "stdout",
     "output_type": "stream",
     "text": [
      "Epoch: [144][1/20]\tTime 1.487 (0.755)\tData 1.100 (0.056)\tLoss 4.5717 (66.7645)\t\n",
      "Epoch: [144][6/20]\tTime 0.626 (0.755)\tData 0.003 (0.056)\tLoss 5.6665 (66.6622)\t\n",
      "Epoch: [144][11/20]\tTime 0.755 (0.755)\tData 0.002 (0.056)\tLoss 7.8447 (66.5504)\t\n",
      "Epoch: [144][16/20]\tTime 0.755 (0.755)\tData 0.002 (0.056)\tLoss 2.8971 (66.4384)\t\n",
      "Training Summary Epoch: [144]\tTime taken (s): 15\tAverage Loss 0.730\t\n"
     ]
    },
    {
     "name": "stderr",
     "output_type": "stream",
     "text": [
      "100%|█████████████████████████████████████████████████████████████████████████████████████| 1/1 [00:01<00:00,  1.44s/it]"
     ]
    },
    {
     "name": "stdout",
     "output_type": "stream",
     "text": [
      "Validation Summary Epoch: [144]\tAverage WER 129.412\tAverage CER 87.432\t\n",
      "Learning rate annealed to: 0.000072\n"
     ]
    },
    {
     "name": "stderr",
     "output_type": "stream",
     "text": [
      "\n"
     ]
    },
    {
     "name": "stdout",
     "output_type": "stream",
     "text": [
      "Epoch: [145][1/20]\tTime 1.379 (0.755)\tData 1.088 (0.056)\tLoss 2.2646 (66.3247)\t\n",
      "Epoch: [145][6/20]\tTime 0.792 (0.755)\tData 0.003 (0.056)\tLoss 4.7900 (66.2109)\t\n",
      "Epoch: [145][11/20]\tTime 0.865 (0.755)\tData 0.003 (0.056)\tLoss 5.7830 (66.0996)\t\n",
      "Epoch: [145][16/20]\tTime 0.616 (0.755)\tData 0.003 (0.056)\tLoss 4.5876 (66.0048)\t\n",
      "Training Summary Epoch: [145]\tTime taken (s): 15\tAverage Loss 0.753\t\n"
     ]
    },
    {
     "name": "stderr",
     "output_type": "stream",
     "text": [
      "100%|█████████████████████████████████████████████████████████████████████████████████████| 1/1 [00:01<00:00,  1.47s/it]"
     ]
    },
    {
     "name": "stdout",
     "output_type": "stream",
     "text": [
      "Validation Summary Epoch: [145]\tAverage WER 135.294\tAverage CER 87.978\t\n",
      "Learning rate annealed to: 0.000071\n"
     ]
    },
    {
     "name": "stderr",
     "output_type": "stream",
     "text": [
      "\n"
     ]
    },
    {
     "name": "stdout",
     "output_type": "stream",
     "text": [
      "Epoch: [146][1/20]\tTime 1.450 (0.755)\tData 1.111 (0.056)\tLoss 9.1325 (65.8946)\t\n",
      "Epoch: [146][6/20]\tTime 0.666 (0.755)\tData 0.003 (0.056)\tLoss 2.9973 (65.7971)\t\n",
      "Epoch: [146][11/20]\tTime 0.571 (0.755)\tData 0.003 (0.056)\tLoss 2.0748 (65.6861)\t\n",
      "Epoch: [146][16/20]\tTime 0.664 (0.755)\tData 0.002 (0.056)\tLoss 3.0482 (65.5769)\t\n",
      "Training Summary Epoch: [146]\tTime taken (s): 15\tAverage Loss 0.752\t\n"
     ]
    },
    {
     "name": "stderr",
     "output_type": "stream",
     "text": [
      "100%|█████████████████████████████████████████████████████████████████████████████████████| 1/1 [00:01<00:00,  1.34s/it]"
     ]
    },
    {
     "name": "stdout",
     "output_type": "stream",
     "text": [
      "Validation Summary Epoch: [146]\tAverage WER 144.118\tAverage CER 93.443\t\n",
      "Learning rate annealed to: 0.000070\n"
     ]
    },
    {
     "name": "stderr",
     "output_type": "stream",
     "text": [
      "\n"
     ]
    },
    {
     "name": "stdout",
     "output_type": "stream",
     "text": [
      "Epoch: [147][1/20]\tTime 1.272 (0.755)\tData 1.079 (0.056)\tLoss 3.0109 (65.4793)\t\n",
      "Epoch: [147][6/20]\tTime 0.642 (0.755)\tData 0.002 (0.056)\tLoss 1.6056 (65.3699)\t\n",
      "Epoch: [147][11/20]\tTime 0.811 (0.755)\tData 0.003 (0.056)\tLoss 2.5060 (65.2617)\t\n",
      "Epoch: [147][16/20]\tTime 0.560 (0.755)\tData 0.003 (0.056)\tLoss 4.1559 (65.1538)\t\n",
      "Training Summary Epoch: [147]\tTime taken (s): 15\tAverage Loss 0.717\t\n"
     ]
    },
    {
     "name": "stderr",
     "output_type": "stream",
     "text": [
      "100%|█████████████████████████████████████████████████████████████████████████████████████| 1/1 [00:01<00:00,  1.73s/it]"
     ]
    },
    {
     "name": "stdout",
     "output_type": "stream",
     "text": [
      "Validation Summary Epoch: [147]\tAverage WER 132.353\tAverage CER 95.082\t\n",
      "Learning rate annealed to: 0.000069\n"
     ]
    },
    {
     "name": "stderr",
     "output_type": "stream",
     "text": [
      "\n"
     ]
    },
    {
     "name": "stdout",
     "output_type": "stream",
     "text": [
      "Epoch: [148][1/20]\tTime 1.591 (0.755)\tData 1.198 (0.056)\tLoss 0.9478 (65.0437)\t\n",
      "Epoch: [148][6/20]\tTime 0.633 (0.755)\tData 0.002 (0.056)\tLoss 5.1504 (64.9367)\t\n",
      "Epoch: [148][11/20]\tTime 0.802 (0.755)\tData 0.003 (0.056)\tLoss 2.7205 (64.8283)\t\n",
      "Epoch: [148][16/20]\tTime 0.783 (0.755)\tData 0.002 (0.056)\tLoss 2.2026 (64.7209)\t\n",
      "Training Summary Epoch: [148]\tTime taken (s): 15\tAverage Loss 0.722\t\n"
     ]
    },
    {
     "name": "stderr",
     "output_type": "stream",
     "text": [
      "100%|█████████████████████████████████████████████████████████████████████████████████████| 1/1 [00:01<00:00,  1.42s/it]"
     ]
    },
    {
     "name": "stdout",
     "output_type": "stream",
     "text": [
      "Validation Summary Epoch: [148]\tAverage WER 135.294\tAverage CER 89.071\t\n",
      "Learning rate annealed to: 0.000069\n"
     ]
    },
    {
     "name": "stderr",
     "output_type": "stream",
     "text": [
      "\n"
     ]
    },
    {
     "name": "stdout",
     "output_type": "stream",
     "text": [
      "Epoch: [149][1/20]\tTime 1.475 (0.755)\tData 1.183 (0.056)\tLoss 2.6489 (64.6283)\t\n",
      "Epoch: [149][6/20]\tTime 0.753 (0.755)\tData 0.003 (0.056)\tLoss 0.6247 (64.5324)\t\n",
      "Epoch: [149][11/20]\tTime 0.648 (0.755)\tData 0.002 (0.056)\tLoss 5.1194 (64.4275)\t\n"
     ]
    },
    {
     "ename": "KeyboardInterrupt",
     "evalue": "",
     "output_type": "error",
     "traceback": [
      "\u001b[0;31m---------------------------------------------------------------------------\u001b[0m",
      "\u001b[0;31mKeyboardInterrupt\u001b[0m                         Traceback (most recent call last)",
      "Cell \u001b[0;32mIn[51], line 18\u001b[0m\n\u001b[1;32m     16\u001b[0m \u001b[38;5;66;03m# measure data loading time\u001b[39;00m\n\u001b[1;32m     17\u001b[0m data_time\u001b[38;5;241m.\u001b[39mupdate(time\u001b[38;5;241m.\u001b[39mtime() \u001b[38;5;241m-\u001b[39m end)\n\u001b[0;32m---> 18\u001b[0m inputs \u001b[38;5;241m=\u001b[39m \u001b[43minputs\u001b[49m\u001b[38;5;241;43m.\u001b[39;49m\u001b[43mto\u001b[49m\u001b[43m(\u001b[49m\u001b[43mdevice\u001b[49m\u001b[43m)\u001b[49m\n\u001b[1;32m     20\u001b[0m out, output_sizes \u001b[38;5;241m=\u001b[39m model(inputs, input_sizes)\n\u001b[1;32m     21\u001b[0m out \u001b[38;5;241m=\u001b[39m out\u001b[38;5;241m.\u001b[39mtranspose(\u001b[38;5;241m0\u001b[39m, \u001b[38;5;241m1\u001b[39m)  \u001b[38;5;66;03m# TxNxH\u001b[39;00m\n",
      "\u001b[0;31mKeyboardInterrupt\u001b[0m: "
     ]
    }
   ],
   "source": [
    "# training loop\n",
    "\n",
    "main_proc = True\n",
    "\n",
    "for epoch in range(state.epoch, args.epochs):\n",
    "    model.train()\n",
    "    end = time.time()\n",
    "    start_epoch_time = time.time()\n",
    "    state.set_epoch(epoch=epoch)\n",
    "    train_sampler.set_epoch(epoch=epoch)\n",
    "    train_sampler.reset_training_step(training_step=state.training_step)\n",
    "    for idx, (data) in enumerate(train_loader, start=state.training_step):\n",
    "        state.set_training_step(training_step=idx)\n",
    "        inputs, targets, input_percentages, target_sizes = data\n",
    "        input_sizes = input_percentages.mul_(int(inputs.size(3))).int()\n",
    "        # measure data loading time\n",
    "        data_time.update(time.time() - end)\n",
    "        inputs = inputs.to(device)\n",
    "\n",
    "        out, output_sizes = model(inputs, input_sizes)\n",
    "        out = out.transpose(0, 1)  # TxNxH\n",
    "        out = out.log_softmax(-1)\n",
    "#         print(len(out))\n",
    "        float_out = out.float()  # ensure float32 for loss\n",
    "        \n",
    "#         print(len(targets))\n",
    "        loss = criterion(float_out, targets, output_sizes, target_sizes).to(device)\n",
    "        loss = loss / inputs.size(0)  # average the loss by minibatch\n",
    "        loss_value = loss.item()\n",
    "\n",
    "        # Check to ensure valid loss was calculated\n",
    "        valid_loss, error = check_loss(loss, loss_value)\n",
    "        if valid_loss:\n",
    "            train_loss_vals.append(loss_value)\n",
    "            optimizer.zero_grad()\n",
    "            \n",
    "            # compute gradient\n",
    "            loss.backward()\n",
    "    \n",
    "            torch.nn.utils.clip_grad_norm_(parameters, args.max_norm)\n",
    "            optimizer.step()\n",
    "        else:\n",
    "            print(error)\n",
    "            print('Skipping grad update')\n",
    "            loss_value = 0\n",
    "\n",
    "        state.avg_loss += loss_value\n",
    "        losses.update(loss_value, inputs.size(0))\n",
    "\n",
    "        # measure elapsed time\n",
    "        batch_time.update(time.time() - end)\n",
    "        end = time.time()\n",
    "        if idx % 5 == 0:\n",
    "            print('Epoch: [{0}][{1}/{2}]\\t'\n",
    "                  'Time {batch_time.val:.3f} ({batch_time.avg:.3f})\\t'\n",
    "                  'Data {data_time.val:.3f} ({data_time.avg:.3f})\\t'\n",
    "                  'Loss {loss.val:.4f} ({loss.avg:.4f})\\t'.format(\n",
    "                (epoch + 1), (idx + 1), len(train_loader), batch_time=batch_time, data_time=data_time, loss=losses))\n",
    "\n",
    "        if main_proc and args.checkpoint_per_iteration:\n",
    "            checkpoint_handler.save_iter_checkpoint_model(epoch=epoch, i=idx, state=state)\n",
    "            \n",
    "        del loss, out, float_out\n",
    "\n",
    "    state.avg_loss /= len(training_data)\n",
    "\n",
    "    epoch_time = time.time() - start_epoch_time\n",
    "    print('Training Summary Epoch: [{0}]\\t'\n",
    "          'Time taken (s): {epoch_time:.0f}\\t'\n",
    "          'Average Loss {loss:.3f}\\t'.format(epoch + 1, epoch_time=epoch_time, loss=state.avg_loss))\n",
    "\n",
    "    with torch.no_grad():\n",
    "        wer, cer, output_data = evaluate(test_loader=valid_loader,\n",
    "                                         device=device,\n",
    "                                         model=model,\n",
    "                                         decoder=evaluation_decoder,\n",
    "                                         target_decoder=evaluation_decoder)\n",
    "\n",
    "    state.add_results(epoch=epoch,\n",
    "                      loss_result=state.avg_loss,\n",
    "                      wer_result=wer,\n",
    "                      cer_result=cer)\n",
    "\n",
    "    print('Validation Summary Epoch: [{0}]\\t'\n",
    "          'Average WER {wer:.3f}\\t'\n",
    "          'Average CER {cer:.3f}\\t'.format(epoch + 1, wer=wer, cer=cer))\n",
    "\n",
    "    if main_proc and args.checkpoint:  # Save epoch checkpoint\n",
    "        checkpoint_handler.save_checkpoint_model(epoch=epoch, state=state)\n",
    "    # anneal lr\n",
    "    for g in optimizer.param_groups:\n",
    "        g['lr'] = g['lr'] / args.learning_anneal\n",
    "    print('Learning rate annealed to: {lr:.6f}'.format(lr=g['lr']))\n",
    "\n",
    "    if main_proc and (state.best_wer is None or state.best_wer > wer):\n",
    "        checkpoint_handler.save_best_model(epoch=epoch, state=state)\n",
    "        state.set_best_wer(wer)\n",
    "        state.reset_avg_loss()\n",
    "    state.reset_training_step()"
   ]
  },
  {
   "cell_type": "code",
   "execution_count": 30,
   "id": "839aaca0-2107-4afc-bd19-c586d60c0e95",
   "metadata": {},
   "outputs": [],
   "source": [
    "#https://discuss.pytorch.org/t/error-while-multiprocessing-in-dataloader/46845"
   ]
  },
  {
   "cell_type": "code",
   "execution_count": 31,
   "id": "d1c1f3ac-c672-4d21-b287-c4cf5bb5dcd3",
   "metadata": {},
   "outputs": [],
   "source": [
    "# https://saturncloud.io/blog/pytorch-logsoftmax-vs-softmax-for-crossentropyloss/"
   ]
  },
  {
   "cell_type": "code",
   "execution_count": null,
   "id": "cb36a54e",
   "metadata": {},
   "outputs": [],
   "source": []
  },
  {
   "cell_type": "code",
   "execution_count": 52,
   "id": "be89031e-4f2c-4fa2-b222-d24c6d00e10a",
   "metadata": {},
   "outputs": [
    {
     "data": {
      "text/plain": [
       "2973"
      ]
     },
     "execution_count": 52,
     "metadata": {},
     "output_type": "execute_result"
    }
   ],
   "source": [
    "# x = range(1, 1001)\n",
    "# train_loss_vals = train_loss_vals[1:100]\n",
    "\n",
    "len(train_loss_vals)"
   ]
  },
  {
   "cell_type": "code",
   "execution_count": 55,
   "id": "03025594",
   "metadata": {},
   "outputs": [
    {
     "data": {
      "text/plain": [
       "1000"
      ]
     },
     "execution_count": 55,
     "metadata": {},
     "output_type": "execute_result"
    }
   ],
   "source": [
    "x = range(1, 1001)\n",
    "subset_train_loss_vals = train_loss_vals[1:1001]\n",
    "len(subset_train_loss_vals)"
   ]
  },
  {
   "cell_type": "code",
   "execution_count": 40,
   "id": "e078da9e",
   "metadata": {},
   "outputs": [
    {
     "ename": "NameError",
     "evalue": "name 'x' is not defined",
     "output_type": "error",
     "traceback": [
      "\u001b[0;31m---------------------------------------------------------------------------\u001b[0m",
      "\u001b[0;31mNameError\u001b[0m                                 Traceback (most recent call last)",
      "Cell \u001b[0;32mIn[40], line 3\u001b[0m\n\u001b[1;32m      1\u001b[0m \u001b[38;5;28;01mimport\u001b[39;00m \u001b[38;5;21;01mmatplotlib\u001b[39;00m\u001b[38;5;21;01m.\u001b[39;00m\u001b[38;5;21;01mpyplot\u001b[39;00m \u001b[38;5;28;01mas\u001b[39;00m \u001b[38;5;21;01mplt\u001b[39;00m \n\u001b[0;32m----> 3\u001b[0m plt\u001b[38;5;241m.\u001b[39mplot(\u001b[43mx\u001b[49m, subset_train_loss_vals, label \u001b[38;5;241m=\u001b[39m \u001b[38;5;124m\"\u001b[39m\u001b[38;5;124mline 1\u001b[39m\u001b[38;5;124m\"\u001b[39m) \n",
      "\u001b[0;31mNameError\u001b[0m: name 'x' is not defined"
     ]
    }
   ],
   "source": [
    "import matplotlib.pyplot as plt \n",
    "\n",
    "plt.plot(x, subset_train_loss_vals, label = \"line 1\") "
   ]
  },
  {
   "cell_type": "code",
   "execution_count": 5,
   "id": "184d7ef9",
   "metadata": {},
   "outputs": [],
   "source": [
    "# function to get inference\n",
    "\n",
    "def transcribe(audio_path, spect_parser, model, decoder, device, use_half):\n",
    "    spect = spect_parser.parse_audio(audio_path).contiguous()\n",
    "    spect = spect.view(1, 1, spect.size(0), spect.size(1))\n",
    "    spect = spect.to(device)\n",
    "    if use_half:\n",
    "        spect = spect.half()\n",
    "    input_sizes = torch.IntTensor([spect.size(3)]).int()\n",
    "    out, output_sizes = model(spect, input_sizes)\n",
    "    decoded_output, decoded_offsets = decoder.decode(out, output_sizes)\n",
    "    return decoded_output, decoded_offsets"
   ]
  },
  {
   "cell_type": "code",
   "execution_count": 6,
   "id": "26d27200",
   "metadata": {},
   "outputs": [],
   "source": [
    "# decode inference\n",
    "\n",
    "def decode_results(decoded_output, decoded_offsets):\n",
    "    results = {\n",
    "        \"output\": [],\n",
    "        \"_meta\": {\n",
    "            \"acoustic_model\": {\n",
    "                \"name\": os.path.basename(\"snapshots/deepspeech_final.pth\")\n",
    "            },\n",
    "            \"language_model\": {\n",
    "                \"name\": None,\n",
    "            },\n",
    "            \"decoder\": {\n",
    "                \"lm\": None,\n",
    "                \"alpha\": None,\n",
    "                \"beta\": None,\n",
    "                \"type\": \"GreedyDecoder\",\n",
    "            }\n",
    "        }\n",
    "    }\n",
    "\n",
    "    for b in range(len(decoded_output)):\n",
    "        for pi in range(min(1, len(decoded_output[b]))):\n",
    "            result = {'transcription': decoded_output[b][pi]}\n",
    "            results['output'].append(result)\n",
    "    return results"
   ]
  },
  {
   "cell_type": "code",
   "execution_count": 7,
   "id": "fd4568e6",
   "metadata": {},
   "outputs": [],
   "source": [
    "# this is sample audio \n",
    "audio_test_path = \"./data2/train/wav/000a0d4e17e7.wav\""
   ]
  },
  {
   "cell_type": "code",
   "execution_count": 8,
   "id": "7df9cf4e",
   "metadata": {},
   "outputs": [],
   "source": [
    "# from utils import load_model\n",
    "def load_model(device, model_path, use_half):\n",
    "    model = DeepSpeech.load_model(model_path)\n",
    "#     model.eval()\n",
    "    model = model.to(device)\n",
    "    if use_half:\n",
    "        model = model.half()\n",
    "    return model"
   ]
  },
  {
   "cell_type": "code",
   "execution_count": 12,
   "id": "dd0c37c4",
   "metadata": {},
   "outputs": [],
   "source": [
    "# load model\n",
    "model = load_model(\"cuda\", \"./snapshots/deepspeech_final.pth\", False)"
   ]
  },
  {
   "cell_type": "code",
   "execution_count": 16,
   "id": "24391ccc",
   "metadata": {},
   "outputs": [],
   "source": [
    "decoder = GreedyDecoder(model.labels, blank_index=model.labels.index('_'))"
   ]
  },
  {
   "cell_type": "code",
   "execution_count": 35,
   "id": "f335d897",
   "metadata": {},
   "outputs": [],
   "source": [
    "spect_parser = SpectrogramParser(model.audio_conf)\n"
   ]
  },
  {
   "cell_type": "code",
   "execution_count": 36,
   "id": "4fc50025",
   "metadata": {},
   "outputs": [],
   "source": [
    "decoded_output, decoded_offsets = transcribe(audio_path=audio_test_path,\n",
    "                                             spect_parser=spect_parser,\n",
    "                                             model=model,\n",
    "                                             decoder=decoder,\n",
    "                                             device=\"cuda\",\n",
    "                                             use_half=False)"
   ]
  },
  {
   "cell_type": "code",
   "execution_count": 37,
   "id": "3162548d",
   "metadata": {},
   "outputs": [],
   "source": [
    "final_result = decode_results(decoded_output, decoded_offsets)"
   ]
  },
  {
   "cell_type": "code",
   "execution_count": 38,
   "id": "92d32c89",
   "metadata": {
    "scrolled": true
   },
   "outputs": [
    {
     "data": {
      "text/plain": [
       "{'output': [{'transcription': 'কাে    ক ক'}],\n",
       " '_meta': {'acoustic_model': {'name': 'deepspeech_final.pth'},\n",
       "  'language_model': {'name': None},\n",
       "  'decoder': {'lm': None,\n",
       "   'alpha': None,\n",
       "   'beta': None,\n",
       "   'type': 'GreedyDecoder'}}}"
      ]
     },
     "execution_count": 38,
     "metadata": {},
     "output_type": "execute_result"
    }
   ],
   "source": [
    "final_result"
   ]
  },
  {
   "cell_type": "markdown",
   "id": "a5e8ffe6",
   "metadata": {},
   "source": []
  },
  {
   "cell_type": "code",
   "execution_count": 42,
   "id": "31f90938",
   "metadata": {},
   "outputs": [
    {
     "data": {
      "text/html": [
       "\n",
       "                <audio  controls=\"controls\" >\n",
       "                    <source src=\"data:audio/x-wav;base64,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\" type=\"audio/x-wav\" />\n",
       "                    Your browser does not support the audio element.\n",
       "                </audio>\n",
       "              "
      ],
      "text/plain": [
       "<IPython.lib.display.Audio object>"
      ]
     },
     "execution_count": 42,
     "metadata": {},
     "output_type": "execute_result"
    }
   ],
   "source": [
    "IPython.display.Audio(audio_test_path)"
   ]
  },
  {
   "cell_type": "code",
   "execution_count": 43,
   "id": "b4a34d4c",
   "metadata": {},
   "outputs": [
    {
     "name": "stdout",
     "output_type": "stream",
     "text": [
      "প্রধান অতিথি হিসেবে সংস্কৃতিমন্ত্রী আসাদুজ্জামান নূর এই সংগীত উৎসবের উদ্বোধন করেন।"
     ]
    }
   ],
   "source": [
    "! cat ./data2/train/txt/000a0d4e17e7.txt"
   ]
  },
  {
   "cell_type": "code",
   "execution_count": null,
   "id": "7ff2805d",
   "metadata": {},
   "outputs": [],
   "source": []
  },
  {
   "cell_type": "code",
   "execution_count": 44,
   "id": "12dc8b42",
   "metadata": {},
   "outputs": [
    {
     "name": "stdout",
     "output_type": "stream",
     "text": [
      "Fri Nov 10 11:37:40 2023       \r\n",
      "+---------------------------------------------------------------------------------------+\r\n",
      "| NVIDIA-SMI 530.30.02              Driver Version: 530.30.02    CUDA Version: 12.1     |\r\n",
      "|-----------------------------------------+----------------------+----------------------+\r\n",
      "| GPU  Name                  Persistence-M| Bus-Id        Disp.A | Volatile Uncorr. ECC |\r\n",
      "| Fan  Temp  Perf            Pwr:Usage/Cap|         Memory-Usage | GPU-Util  Compute M. |\r\n",
      "|                                         |                      |               MIG M. |\r\n",
      "|=========================================+======================+======================|\r\n",
      "|   0  NVIDIA GeForce MX230            On | 00000000:01:00.0 Off |                  N/A |\r\n",
      "| N/A   57C    P3               N/A /  N/A|    276MiB /  2048MiB |      0%      Default |\r\n",
      "|                                         |                      |                  N/A |\r\n",
      "+-----------------------------------------+----------------------+----------------------+\r\n",
      "                                                                                         \r\n",
      "+---------------------------------------------------------------------------------------+\r\n",
      "| Processes:                                                                            |\r\n",
      "|  GPU   GI   CI        PID   Type   Process name                            GPU Memory |\r\n",
      "|        ID   ID                                                             Usage      |\r\n",
      "|=======================================================================================|\r\n",
      "|    0   N/A  N/A      2275      G   /usr/lib/xorg/Xorg                           44MiB |\r\n",
      "|    0   N/A  N/A      3719    C+G   ...6729029,16147464356292715317,262144       87MiB |\r\n",
      "|    0   N/A  N/A     14883      C   ...e/Code/Python/torch/env/bin/python3      142MiB |\r\n",
      "+---------------------------------------------------------------------------------------+\r\n"
     ]
    }
   ],
   "source": [
    "!nvidia-smi"
   ]
  },
  {
   "cell_type": "code",
   "execution_count": null,
   "id": "15922014",
   "metadata": {},
   "outputs": [],
   "source": []
  }
 ],
 "metadata": {
  "kernelspec": {
   "display_name": "env",
   "language": "python",
   "name": "env"
  },
  "language_info": {
   "codemirror_mode": {
    "name": "ipython",
    "version": 3
   },
   "file_extension": ".py",
   "mimetype": "text/x-python",
   "name": "python",
   "nbconvert_exporter": "python",
   "pygments_lexer": "ipython3",
   "version": "3.10.12"
  }
 },
 "nbformat": 4,
 "nbformat_minor": 5
}
