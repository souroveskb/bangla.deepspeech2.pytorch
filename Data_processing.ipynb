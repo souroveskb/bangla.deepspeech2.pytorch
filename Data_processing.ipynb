{
 "cells": [
  {
   "cell_type": "markdown",
   "id": "a5a43bf0",
   "metadata": {},
   "source": [
    "`` find . -maxdepth 1 -type f | head -100 | xargs cp -t ../trainable_mp3s``\n",
    "\n",
    "Run this command in train_mp3s file to copy first 100 files into trainable_mp3s"
   ]
  },
  {
   "cell_type": "markdown",
   "id": "19e78025",
   "metadata": {},
   "source": [
    "### Opens the input_csv_file and selects the file_rows which are already present in the trainable_mp3s folder and creates the output_csv_file and writes the rows there"
   ]
  },
  {
   "cell_type": "code",
   "execution_count": 1,
   "id": "6606b7fa",
   "metadata": {},
   "outputs": [
    {
     "ename": "NameError",
     "evalue": "name 'file_names' is not defined",
     "output_type": "error",
     "traceback": [
      "\u001b[0;31m---------------------------------------------------------------------------\u001b[0m",
      "\u001b[0;31mNameError\u001b[0m                                 Traceback (most recent call last)",
      "Cell \u001b[0;32mIn[1], line 12\u001b[0m\n\u001b[1;32m     10\u001b[0m spamreader \u001b[38;5;241m=\u001b[39m csv\u001b[38;5;241m.\u001b[39mDictReader(csvfile, delimiter\u001b[38;5;241m=\u001b[39m\u001b[38;5;124m'\u001b[39m\u001b[38;5;124m,\u001b[39m\u001b[38;5;124m'\u001b[39m)\n\u001b[1;32m     11\u001b[0m \u001b[38;5;28;01mfor\u001b[39;00m row \u001b[38;5;129;01min\u001b[39;00m spamreader:\n\u001b[0;32m---> 12\u001b[0m     thing_index \u001b[38;5;241m=\u001b[39m file_names\u001b[38;5;241m.\u001b[39mindex(row[\u001b[38;5;124m'\u001b[39m\u001b[38;5;124mid\u001b[39m\u001b[38;5;124m'\u001b[39m]) \u001b[38;5;28;01mif\u001b[39;00m row[\u001b[38;5;124m'\u001b[39m\u001b[38;5;124mid\u001b[39m\u001b[38;5;124m'\u001b[39m] \u001b[38;5;129;01min\u001b[39;00m \u001b[43mfile_names\u001b[49m \u001b[38;5;28;01melse\u001b[39;00m \u001b[38;5;241m-\u001b[39m\u001b[38;5;241m1\u001b[39m\n\u001b[1;32m     13\u001b[0m     \u001b[38;5;28;01mif\u001b[39;00m thing_index \u001b[38;5;241m!=\u001b[39m \u001b[38;5;241m-\u001b[39m\u001b[38;5;241m1\u001b[39m:\n\u001b[1;32m     14\u001b[0m         valid_trainable_mp3s\u001b[38;5;241m.\u001b[39mappend(row)\n",
      "\u001b[0;31mNameError\u001b[0m: name 'file_names' is not defined"
     ]
    }
   ],
   "source": [
    "import csv\n",
    "\n",
    "# Specify the input and output file paths\n",
    "input_csv_file = 'train.csv'\n",
    "output_csv_file = 'train2.csv'\n",
    "\n",
    "\n",
    "valid_trainable_mp3s = []\n",
    "with open(input_csv_file) as csvfile:\n",
    "    spamreader = csv.DictReader(csvfile, delimiter=',')\n",
    "    for row in spamreader:\n",
    "        thing_index = file_names.index(row['id']) if row['id'] in file_names else -1\n",
    "        if thing_index != -1:\n",
    "            valid_trainable_mp3s.append(row)\n",
    "\n",
    "with open(output_csv_file, mode='w', newline='') as csv_file:\n",
    "    # Create a CSV writer\n",
    "    csv_writer = csv.DictWriter(csv_file, fieldnames=valid_trainable_mp3s[0].keys())\n",
    "    csv_writer.writeheader()\n",
    "    for i in range(len(valid_trainable_mp3s)):\n",
    "        csv_writer.writerow(valid_trainable_mp3s[i])"
   ]
  },
  {
   "cell_type": "code",
   "execution_count": null,
   "id": "737f0095",
   "metadata": {},
   "outputs": [],
   "source": []
  },
  {
   "cell_type": "markdown",
   "id": "fd79d251",
   "metadata": {},
   "source": [
    "### extracts the filenames of the mp3 files"
   ]
  },
  {
   "cell_type": "code",
   "execution_count": 2,
   "id": "08cb1ae1",
   "metadata": {},
   "outputs": [
    {
     "name": "stdout",
     "output_type": "stream",
     "text": [
      "100\n"
     ]
    }
   ],
   "source": [
    "import os\n",
    "\n",
    "# Specify the directory path\n",
    "directory_path = \"./trainable_mp3s\"\n",
    "\n",
    "file_names = []\n",
    "\n",
    "for filename in os.listdir(directory_path):\n",
    "    # Get the filename without extension\n",
    "    file_name, file_extension = os.path.splitext(filename)\n",
    "    file_names.append(file_name)\n",
    "\n",
    "print(len(file_names))"
   ]
  },
  {
   "cell_type": "code",
   "execution_count": null,
   "id": "7e7f795d",
   "metadata": {},
   "outputs": [],
   "source": []
  },
  {
   "cell_type": "markdown",
   "id": "48831639",
   "metadata": {},
   "source": [
    "### parse if the wav is for train set or valid set"
   ]
  },
  {
   "cell_type": "code",
   "execution_count": 4,
   "id": "661bb994",
   "metadata": {},
   "outputs": [],
   "source": [
    "import csv\n",
    "\n",
    "\n",
    "def parseTrainValid(filepath, train_val:str):\n",
    "    data = []\n",
    "    with open(filepath) as csvfile:\n",
    "        spamreader = csv.DictReader(csvfile, delimiter=',')\n",
    "        for row in spamreader:\n",
    "            if row['split'] == train_val:\n",
    "                data.append((row['id'], row['sentence']))\n",
    "                \n",
    "    return data"
   ]
  },
  {
   "cell_type": "code",
   "execution_count": 7,
   "id": "db699b5f",
   "metadata": {},
   "outputs": [],
   "source": [
    "trains = parseTrainValid('train2.csv', \"train\")\n",
    "# print((trains))"
   ]
  },
  {
   "cell_type": "code",
   "execution_count": null,
   "id": "a0f1ca2c",
   "metadata": {},
   "outputs": [],
   "source": []
  },
  {
   "cell_type": "code",
   "execution_count": null,
   "id": "ca119db5",
   "metadata": {},
   "outputs": [],
   "source": []
  },
  {
   "cell_type": "code",
   "execution_count": null,
   "id": "f0dd432f",
   "metadata": {},
   "outputs": [],
   "source": []
  },
  {
   "cell_type": "code",
   "execution_count": 37,
   "id": "67366f30",
   "metadata": {},
   "outputs": [],
   "source": []
  },
  {
   "cell_type": "code",
   "execution_count": 25,
   "id": "2cf5bd39",
   "metadata": {},
   "outputs": [],
   "source": []
  },
  {
   "cell_type": "markdown",
   "id": "43d3b442",
   "metadata": {},
   "source": [
    "### Converting to wav file and txt file from csv and mp3 file into data directory"
   ]
  },
  {
   "cell_type": "code",
   "execution_count": 33,
   "id": "5597f908",
   "metadata": {},
   "outputs": [
    {
     "name": "stderr",
     "output_type": "stream",
     "text": [
      "output_file: ./data2/wav/000005f3362c.wav already exists and will be overwritten on build\n",
      "output_file: ./data2/wav/000057f5f4a3.wav already exists and will be overwritten on build\n",
      "output_file: ./data2/wav/0000ab4d937a.wav already exists and will be overwritten on build\n",
      "output_file: ./data2/wav/0000bd6716f6.wav already exists and will be overwritten on build\n",
      "output_file: ./data2/wav/0000e711c2b1.wav already exists and will be overwritten on build\n",
      "output_file: ./data2/wav/0002192aba0b.wav already exists and will be overwritten on build\n",
      "output_file: ./data2/wav/00037d54a909.wav already exists and will be overwritten on build\n",
      "output_file: ./data2/wav/0003879c0ff1.wav already exists and will be overwritten on build\n",
      "output_file: ./data2/wav/000880b04db2.wav already exists and will be overwritten on build\n",
      "output_file: ./data2/wav/0008d36904cd.wav already exists and will be overwritten on build\n"
     ]
    },
    {
     "name": "stdout",
     "output_type": "stream",
     "text": [
      "Converting mp3 to wav for ./train2.csv.\n"
     ]
    },
    {
     "name": "stderr",
     "output_type": "stream",
     "text": [
      "output_file: ./data2/wav/00096b301cd8.wav already exists and will be overwritten on build\n",
      "output_file: ./data2/wav/0009b022c8ea.wav already exists and will be overwritten on build\n",
      "output_file: ./data2/wav/0009dbfd0db3.wav already exists and will be overwritten on build\n",
      "output_file: ./data2/wav/000a0d4e17e7.wav already exists and will be overwritten on build\n",
      "output_file: ./data2/wav/000b2b35ede9.wav already exists and will be overwritten on build\n",
      "output_file: ./data2/wav/000b78fc1e98.wav already exists and will be overwritten on build\n",
      "output_file: ./data2/wav/000bdc393875.wav already exists and will be overwritten on build\n",
      "output_file: ./data2/wav/000ceddf1350.wav already exists and will be overwritten on build\n",
      "output_file: ./data2/wav/000d5f179e10.wav already exists and will be overwritten on build\n",
      "output_file: ./data2/wav/000d6860da9c.wav already exists and will be overwritten on build\n",
      "output_file: ./data2/wav/000dfa480dd6.wav already exists and will be overwritten on build\n",
      "output_file: ./data2/wav/00102f5639da.wav already exists and will be overwritten on build\n",
      "output_file: ./data2/wav/00103d90d1ba.wav already exists and will be overwritten on build\n",
      "output_file: ./data2/wav/001194ec01cc.wav already exists and will be overwritten on build\n",
      "output_file: ./data2/wav/0011e4ec378a.wav already exists and will be overwritten on build\n",
      "output_file: ./data2/wav/00139cadc21d.wav already exists and will be overwritten on build\n",
      "output_file: ./data2/wav/0014a96c05a0.wav already exists and will be overwritten on build\n",
      "output_file: ./data2/wav/0014f452d9d3.wav already exists and will be overwritten on build\n",
      "output_file: ./data2/wav/00160f0d2e72.wav already exists and will be overwritten on build\n",
      "output_file: ./data2/wav/001683324459.wav already exists and will be overwritten on build\n",
      "output_file: ./data2/wav/00178221a200.wav already exists and will be overwritten on build\n",
      "output_file: ./data2/wav/0017ac90f857.wav already exists and will be overwritten on build\n",
      "output_file: ./data2/wav/00188dd69664.wav already exists and will be overwritten on build\n",
      "output_file: ./data2/wav/001904071c6f.wav already exists and will be overwritten on build\n",
      "output_file: ./data2/wav/00196e79073f.wav already exists and will be overwritten on build\n",
      "output_file: ./data2/wav/001aa6613da8.wav already exists and will be overwritten on build\n",
      "output_file: ./data2/wav/001aebf56417.wav already exists and will be overwritten on build\n",
      "output_file: ./data2/wav/001b9660e854.wav already exists and will be overwritten on build\n",
      "output_file: ./data2/wav/001e9989dd23.wav already exists and will be overwritten on build\n",
      "output_file: ./data2/wav/001f2d2a13b1.wav already exists and will be overwritten on build\n",
      "output_file: ./data2/wav/001fceb9cd3a.wav already exists and will be overwritten on build\n",
      "output_file: ./data2/wav/002010b228f6.wav already exists and will be overwritten on build\n",
      "output_file: ./data2/wav/00202e2c1868.wav already exists and will be overwritten on build\n",
      "output_file: ./data2/wav/00205892a1d0.wav already exists and will be overwritten on build\n",
      "output_file: ./data2/wav/00213c75b091.wav already exists and will be overwritten on build\n",
      "output_file: ./data2/wav/00215fb27e6a.wav already exists and will be overwritten on build\n",
      "output_file: ./data2/wav/002224c6d1c1.wav already exists and will be overwritten on build\n",
      "output_file: ./data2/wav/0023c944ae1b.wav already exists and will be overwritten on build\n",
      "output_file: ./data2/wav/0023f35ef8c7.wav already exists and will be overwritten on build\n",
      "output_file: ./data2/wav/002568a7c980.wav already exists and will be overwritten on build\n",
      "output_file: ./data2/wav/0026bb79005d.wav already exists and will be overwritten on build\n"
     ]
    }
   ],
   "source": [
    "import os \n",
    "import csv\n",
    "\n",
    "\n",
    "from multiprocessing.pool import ThreadPool\n",
    "\n",
    "from sox import Transformer\n",
    "import tqdm\n",
    "\n",
    "csvPath = os.path.join(\"./\", \"train2.csv\")\n",
    "\n",
    "data_dir = os.path.join(\"./\", \"data2\")\n",
    "valid_dir = os.path.join(\"./\", \"valid\")\n",
    "# train_dir  = os.path.join(\"./\", \"train\")\n",
    "# wav_dir = os.path.join(valid_dir, \"wav\")\n",
    "# txt_dir = os.path.join(valid_dir, \"txt\")\n",
    "\n",
    "wav_dir = os.path.join(data_dir, \"wav\")\n",
    "txt_dir = os.path.join(data_dir, \"txt\")\n",
    "mp3_dir = os.path.join(\"./\", \"trainable_mp3s\")\n",
    "\n",
    "# print(mp3_dir)\n",
    "\n",
    "def process(x, wav_dir, txt_dir):\n",
    "    file_path, text = x\n",
    "    file_name = os.path.splitext(os.path.basename(file_path))[0]\n",
    "    text = text.strip()\n",
    "    with open(os.path.join(txt_dir, file_name + '.txt'), 'w') as f:\n",
    "        f.write(text)\n",
    "    audio_path = os.path.join(mp3_dir, f'{file_path}.mp3')\n",
    "    output_wav_path = os.path.join(wav_dir, file_name + '.wav')\n",
    "\n",
    "    tfm = Transformer()\n",
    "    tfm.rate(samplerate=16000)\n",
    "    tfm.build(\n",
    "        input_filepath=audio_path,\n",
    "        output_filepath=output_wav_path\n",
    "    )\n",
    "\n",
    "print('Converting mp3 to wav for {}.'.format(csvPath))\n",
    "with open(csvPath) as csvfile:\n",
    "    reader = csv.DictReader(csvfile, delimiter=',')\n",
    "    data = [(row['id'], row['sentence']) for row in reader]\n",
    "    for i in range(len(data)):\n",
    "        process(data[i], wav_dir, txt_dir)\n",
    "        if i ==50:\n",
    "            break\n",
    "#     with ThreadPool(1) as pool:\n",
    "#         list(tqdm.tqdm(pool.imap(process, data), total=len(data)))\n",
    "        "
   ]
  },
  {
   "cell_type": "markdown",
   "id": "4efd848c",
   "metadata": {},
   "source": [
    "### Creating manifest.json file"
   ]
  },
  {
   "cell_type": "code",
   "execution_count": 2,
   "id": "27794ae7",
   "metadata": {},
   "outputs": [],
   "source": [
    "# data[:50]"
   ]
  },
  {
   "cell_type": "code",
   "execution_count": 29,
   "id": "7c4c0655",
   "metadata": {},
   "outputs": [],
   "source": [
    "file_paths = []\n",
    "with open(csvPath) as csvfile:\n",
    "    reader = csv.reader(csvfile)\n",
    "    heading = next(reader)\n",
    "    for row in reader:\n",
    "        file_paths.append(row[0])"
   ]
  },
  {
   "cell_type": "code",
   "execution_count": 31,
   "id": "c967aa99",
   "metadata": {},
   "outputs": [],
   "source": [
    "file_paths = file_paths[:50]"
   ]
  },
  {
   "cell_type": "code",
   "execution_count": 36,
   "id": "0baf0c0c",
   "metadata": {},
   "outputs": [
    {
     "name": "stderr",
     "output_type": "stream",
     "text": [
      "100%|███████████████████████████████████████████████████████████████████████████████| 50/50 [00:00<00:00, 202427.80it/s]\n"
     ]
    },
    {
     "data": {
      "text/plain": [
       "4137"
      ]
     },
     "execution_count": 36,
     "metadata": {},
     "output_type": "execute_result"
    }
   ],
   "source": [
    "import json\n",
    "from pathlib import Path\n",
    "\n",
    "# data_path = os.path.join(data_dir, \"wav\")\n",
    "valid_path = os.path.abspath(valid_dir)\n",
    "data_path = os.path.abspath(data_dir)\n",
    "\n",
    "output_name =  \"manifest.json\"\n",
    "# output_path = Path(data_dir) / output_name\n",
    "output_path = Path(valid_dir) / output_name\n",
    "\n",
    "manifest = {\n",
    "    'root_path': valid_path,\n",
    "    'samples': []\n",
    "}\n",
    "\n",
    "\n",
    "\n",
    "for file_path in tqdm.tqdm(file_paths):\n",
    "    wav_path = os.path.join(f'wav/{file_path}.wav')\n",
    "    transcript_path = os.path.join(f'txt/{file_path}.txt')\n",
    "    manifest['samples'].append({\n",
    "        'wav_path': wav_path,\n",
    "        'transcript_path': transcript_path\n",
    "    })\n",
    "\n",
    "output_path.write_text(json.dumps(manifest), encoding='utf8')"
   ]
  },
  {
   "cell_type": "code",
   "execution_count": null,
   "id": "a73f6a05",
   "metadata": {},
   "outputs": [],
   "source": []
  },
  {
   "cell_type": "code",
   "execution_count": 17,
   "id": "20f41763",
   "metadata": {},
   "outputs": [],
   "source": [
    "def _duration_file_path(path):\n",
    "    return path, sox.file_info.duration(path)\n",
    "\n",
    "\n",
    "def order_and_prune_files(\n",
    "        file_paths,\n",
    "        min_duration,\n",
    "        max_duration,\n",
    "        num_workers):\n",
    "    print(\"Gathering durations...\")\n",
    "    with Pool(processes=num_workers) as p:\n",
    "        duration_file_paths = list(tqdm(p.imap(_duration_file_path, file_paths), total=len(file_paths)))\n",
    "    print(\"Sorting manifests...\")\n",
    "    if min_duration and max_duration:\n",
    "        print(\"Pruning manifests between %d and %d seconds\" % (min_duration, max_duration))\n",
    "        duration_file_paths = [(path, duration) for path, duration in duration_file_paths if\n",
    "                               min_duration <= duration <= max_duration]\n",
    "\n",
    "    total_duration = sum([x[1] for x in duration_file_paths])\n",
    "    print(f\"Total duration of split: {total_duration:.4f}s\")\n",
    "    return [x[0] for x in duration_file_paths]  # Remove durations\n",
    "\n",
    "\n"
   ]
  },
  {
   "cell_type": "markdown",
   "id": "b3b1c582",
   "metadata": {},
   "source": [
    "### Select the data from train.csv and write in train2.csv based on trainable_mp3s folder"
   ]
  },
  {
   "cell_type": "code",
   "execution_count": null,
   "id": "946ee6a4",
   "metadata": {},
   "outputs": [],
   "source": []
  },
  {
   "cell_type": "code",
   "execution_count": null,
   "id": "82f92edd",
   "metadata": {},
   "outputs": [],
   "source": []
  },
  {
   "cell_type": "code",
   "execution_count": null,
   "id": "cdcf8c7d",
   "metadata": {},
   "outputs": [],
   "source": [
    "# import\n",
    "from bnunicodenormalizer import Normalizer \n",
    "from pprint import pprint\n",
    "# initialize\n",
    "bnorm=Normalizer()\n",
    "# normalize\n",
    "word = 'াটোবাকো'\n",
    "result=bnorm(word)\n",
    "print(f\"Non-norm:{word}; Norm:{result['normalized']}\")\n",
    "print(\"--------------------------------------------------\")\n",
    "pprint(result)"
   ]
  },
  {
   "cell_type": "code",
   "execution_count": null,
   "id": "656a2dfe",
   "metadata": {},
   "outputs": [],
   "source": [
    "# initialize without english (default)\n",
    "norm=Normalizer()\n",
    "print(\"without english:\",norm(\"ASD123\")[\"normalized\"])\n",
    "# --> returns None\n",
    "norm=Normalizer(allow_english=True)\n",
    "print(\"with english:\",norm(\"ASD123\")[\"normalized\"])"
   ]
  },
  {
   "cell_type": "code",
   "execution_count": null,
   "id": "76785c96",
   "metadata": {},
   "outputs": [],
   "source": [
    "transcript = list(filter(None, [labels_map.get(x) for x in list(result['normalized'])]))"
   ]
  },
  {
   "cell_type": "code",
   "execution_count": null,
   "id": "dc054f98",
   "metadata": {},
   "outputs": [],
   "source": []
  },
  {
   "cell_type": "code",
   "execution_count": null,
   "id": "c5da79c5",
   "metadata": {},
   "outputs": [],
   "source": []
  },
  {
   "cell_type": "code",
   "execution_count": null,
   "id": "6ee3407c",
   "metadata": {},
   "outputs": [],
   "source": []
  },
  {
   "cell_type": "code",
   "execution_count": 8,
   "id": "b46e228f",
   "metadata": {},
   "outputs": [
    {
     "name": "stdout",
     "output_type": "stream",
     "text": [
      "Spliced first 1000 rows from 'train.csv' and wrote to 'train2.csv'.\n"
     ]
    }
   ],
   "source": [
    "import csv\n",
    "\n",
    "# Specify the input and output file paths\n",
    "input_csv_file = 'train.csv'\n",
    "output_csv_file = 'train2.csv'\n",
    "\n",
    "# Open the input CSV file in read mode\n",
    "with open(input_csv_file, mode='r', newline='') as input_file:\n",
    "    # Create a CSV reader\n",
    "    csv_reader = csv.reader(input_file)\n",
    "\n",
    "    # Read the header row\n",
    "    header = next(csv_reader)\n",
    "\n",
    "    # Read and store the first 1000 rows\n",
    "    rows_to_write = []\n",
    "    for i, row in enumerate(csv_reader):\n",
    "#         if i < 1000:\n",
    "        rows_to_write.extend(row[1])\n",
    "#             print(row[1])\n",
    "#         else:\n",
    "#             break\n",
    "\n",
    "# Open the output CSV file in write mode\n",
    "# with open(output_csv_file, mode='w', newline='') as output_file:\n",
    "#     # Create a CSV writer\n",
    "#     csv_writer = csv.writer(output_file)\n",
    "\n",
    "#     # Write the header row\n",
    "#     csv_writer.writerow(header)\n",
    "\n",
    "#     # Write the selected rows\n",
    "#     csv_writer.writerows(rows_to_write)\n",
    "\n",
    "print(f\"Spliced first 1000 rows from '{input_csv_file}' and wrote to '{output_csv_file}'.\")\n"
   ]
  },
  {
   "cell_type": "code",
   "execution_count": 13,
   "id": "941f532a",
   "metadata": {},
   "outputs": [
    {
     "name": "stdout",
     "output_type": "stream",
     "text": [
      "{'ফ', ' ', 'া', 'ৈ', '৷', 'ঋ', \"'\", 'খ', 'ঙ', 'উ', '…', '‚', 'ধ', 'ূ', 'য়', ':', ';', 'ক', '?', '–', 'ঠ', 'ও', 'গ', '“', 'থ', 'শ', 'ঁ', 'ে', '—', '॥', 'ৃ', 'ড', 'ঢ়', 'ভ', 'অ', 'ন', 'ৗ', '!', 'ি', 'ঢ', 'ব', 'চ', '”', 'ঘ', 'ষ', '/', '-', 'ঐ', 'স', 'হ', 'আ', 'ত', 'ছ', 'ট', 'ঊ', 'র', 'প', 'ং', '.', '়', 'ঞ', 'ৰ', 'জ', 'ঈ', 'ঃ', 'ণ', '’', 'ৌ', 'এ', 'ল', '\"', '‘', 'ু', ',', 'ৎ', '্', 'য', 'দ', 'ঝ', '৵', 'ো', 'ই', 'ঔ', 'ড়', '।', 'ম', 'ী'}\n"
     ]
    }
   ],
   "source": [
    "len(rows_to_write)\n",
    "myset = set(rows_to_write)\n",
    "print(myset)"
   ]
  },
  {
   "cell_type": "code",
   "execution_count": 15,
   "id": "de95ed33",
   "metadata": {},
   "outputs": [
    {
     "data": {
      "text/plain": [
       "{' ',\n",
       " '!',\n",
       " '\"',\n",
       " \"'\",\n",
       " ',',\n",
       " '-',\n",
       " '.',\n",
       " '/',\n",
       " ':',\n",
       " ';',\n",
       " '?',\n",
       " '।',\n",
       " '॥',\n",
       " 'ঁ',\n",
       " 'ং',\n",
       " 'ঃ',\n",
       " 'অ',\n",
       " 'আ',\n",
       " 'ই',\n",
       " 'ঈ',\n",
       " 'উ',\n",
       " 'ঊ',\n",
       " 'ঋ',\n",
       " 'এ',\n",
       " 'ঐ',\n",
       " 'ও',\n",
       " 'ঔ',\n",
       " 'ক',\n",
       " 'খ',\n",
       " 'গ',\n",
       " 'ঘ',\n",
       " 'ঙ',\n",
       " 'চ',\n",
       " 'ছ',\n",
       " 'জ',\n",
       " 'ঝ',\n",
       " 'ঞ',\n",
       " 'ট',\n",
       " 'ঠ',\n",
       " 'ড',\n",
       " 'ঢ',\n",
       " 'ণ',\n",
       " 'ত',\n",
       " 'থ',\n",
       " 'দ',\n",
       " 'ধ',\n",
       " 'ন',\n",
       " 'প',\n",
       " 'ফ',\n",
       " 'ব',\n",
       " 'ভ',\n",
       " 'ম',\n",
       " 'য',\n",
       " 'র',\n",
       " 'ল',\n",
       " 'শ',\n",
       " 'ষ',\n",
       " 'স',\n",
       " 'হ',\n",
       " '়',\n",
       " 'া',\n",
       " 'ি',\n",
       " 'ী',\n",
       " 'ু',\n",
       " 'ূ',\n",
       " 'ৃ',\n",
       " 'ে',\n",
       " 'ৈ',\n",
       " 'ো',\n",
       " 'ৌ',\n",
       " '্',\n",
       " 'ৎ',\n",
       " 'ৗ',\n",
       " 'ড়',\n",
       " 'ঢ়',\n",
       " 'য়',\n",
       " 'ৰ',\n",
       " '৵',\n",
       " '৷',\n",
       " '–',\n",
       " '—',\n",
       " '‘',\n",
       " '’',\n",
       " '‚',\n",
       " '“',\n",
       " '”',\n",
       " '…'}"
      ]
     },
     "execution_count": 15,
     "metadata": {},
     "output_type": "execute_result"
    }
   ],
   "source": [
    "myset"
   ]
  },
  {
   "cell_type": "code",
   "execution_count": 18,
   "id": "bccb27c2",
   "metadata": {},
   "outputs": [],
   "source": [
    "labels = [\n",
    " ' ',\n",
    " '!',\n",
    " '\"',\n",
    " \"'\",\n",
    " ',',\n",
    " '-',\n",
    " '.',\n",
    " '/',\n",
    " ':',\n",
    " ';',\n",
    " '?',\n",
    " '।',\n",
    " '॥',\n",
    " 'ঁ',\n",
    " 'ং',\n",
    " 'ঃ',\n",
    " 'অ',\n",
    " 'আ',\n",
    " 'ই',\n",
    " 'ঈ',\n",
    " 'উ',\n",
    " 'ঊ',\n",
    " 'ঋ',\n",
    " 'এ',\n",
    " 'ঐ',\n",
    " 'ও',\n",
    " 'ঔ',\n",
    " 'ক',\n",
    " 'খ',\n",
    " 'গ',\n",
    " 'ঘ',\n",
    " 'ঙ',\n",
    " 'চ',\n",
    " 'ছ',\n",
    " 'জ',\n",
    " 'ঝ',\n",
    " 'ঞ',\n",
    " 'ট',\n",
    " 'ঠ',\n",
    " 'ড',\n",
    " 'ঢ',\n",
    " 'ণ',\n",
    " 'ত',\n",
    " 'থ',\n",
    " 'দ',\n",
    " 'ধ',\n",
    " 'ন',\n",
    " 'প',\n",
    " 'ফ',\n",
    " 'ব',\n",
    " 'ভ',\n",
    " 'ম',\n",
    " 'য',\n",
    " 'র',\n",
    " 'ল',\n",
    " 'শ',\n",
    " 'ষ',\n",
    " 'স',\n",
    " 'হ',\n",
    " '়',\n",
    " 'া',\n",
    " 'ি',\n",
    " 'ী',\n",
    " 'ু',\n",
    " 'ূ',\n",
    " 'ৃ',\n",
    " 'ে',\n",
    " 'ৈ',\n",
    " 'ো',\n",
    " 'ৌ',\n",
    " '্',\n",
    " 'ৎ',\n",
    " 'ৗ',\n",
    " 'ড়',\n",
    " 'ঢ়',\n",
    " 'য়',\n",
    " 'ৰ',\n",
    " '৵',\n",
    " '৷',\n",
    " '–',\n",
    " '—',\n",
    " '‘',\n",
    " '’',\n",
    " '‚',\n",
    " '“',\n",
    " '”',\n",
    " '…'\n",
    "]"
   ]
  },
  {
   "cell_type": "code",
   "execution_count": 26,
   "id": "26dbf76e",
   "metadata": {},
   "outputs": [
    {
     "data": {
      "text/plain": [
       "87"
      ]
     },
     "execution_count": 26,
     "metadata": {},
     "output_type": "execute_result"
    }
   ],
   "source": [
    "len(labels)"
   ]
  },
  {
   "cell_type": "code",
   "execution_count": 23,
   "id": "767f8693",
   "metadata": {},
   "outputs": [],
   "source": [
    "a = '–'\n",
    "b = '—'"
   ]
  },
  {
   "cell_type": "code",
   "execution_count": 25,
   "id": "2f799ef8",
   "metadata": {},
   "outputs": [
    {
     "name": "stdout",
     "output_type": "stream",
     "text": [
      "8211 8212\n"
     ]
    }
   ],
   "source": [
    "print(ord(a), ord(b))"
   ]
  },
  {
   "cell_type": "code",
   "execution_count": null,
   "id": "cd817b49",
   "metadata": {},
   "outputs": [],
   "source": []
  }
 ],
 "metadata": {
  "kernelspec": {
   "display_name": "env",
   "language": "python",
   "name": "env"
  },
  "language_info": {
   "codemirror_mode": {
    "name": "ipython",
    "version": 3
   },
   "file_extension": ".py",
   "mimetype": "text/x-python",
   "name": "python",
   "nbconvert_exporter": "python",
   "pygments_lexer": "ipython3",
   "version": "3.10.12"
  }
 },
 "nbformat": 4,
 "nbformat_minor": 5
}
