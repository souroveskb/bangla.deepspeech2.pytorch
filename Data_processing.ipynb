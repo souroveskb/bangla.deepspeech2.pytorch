{
 "cells": [
  {
   "cell_type": "markdown",
   "id": "a5a43bf0",
   "metadata": {},
   "source": [
    "`` find . -maxdepth 1 -type f | head -100 | xargs cp -t ../trainable_mp3s``\n",
    "\n",
    "Run this command in train_mp3s file to copy first 100 files into trainable_mp3s"
   ]
  },
  {
   "cell_type": "markdown",
   "id": "fd79d251",
   "metadata": {},
   "source": [
    "### extracts the filenames of the mp3 files\n",
    "\n",
    "Select the names from a the folder where I've kept a subset of the data"
   ]
  },
  {
   "cell_type": "code",
   "execution_count": 1,
   "id": "08cb1ae1",
   "metadata": {},
   "outputs": [
    {
     "name": "stdout",
     "output_type": "stream",
     "text": [
      "100\n"
     ]
    }
   ],
   "source": [
    "import os\n",
    "\n",
    "# Specify the directory path\n",
    "# directory_path = \"./train_mp3s\"  #main dataset directory\n",
    "directory_path = \"./trainable_mp3s\"\n",
    "\n",
    "file_names = []\n",
    "\n",
    "for filename in os.listdir(directory_path):\n",
    "    # Get the filename without extension\n",
    "    file_name, file_extension = os.path.splitext(filename)\n",
    "    file_names.append(file_name)\n",
    "\n",
    "print(len(file_names))\n",
    "# file_names = file_names[0:10000]"
   ]
  },
  {
   "cell_type": "markdown",
   "id": "d2e54380",
   "metadata": {},
   "source": [
    "### Finding out the total duration of the training dataset"
   ]
  },
  {
   "cell_type": "code",
   "execution_count": 2,
   "id": "7e7f795d",
   "metadata": {},
   "outputs": [
    {
     "name": "stderr",
     "output_type": "stream",
     "text": [
      "\r",
      "  0%|                                                                                           | 0/200 [00:00<?, ?it/s]"
     ]
    },
    {
     "ename": "TypeError",
     "evalue": "'tqdm' object is not callable",
     "output_type": "error",
     "traceback": [
      "\u001b[0;31m---------------------------------------------------------------------------\u001b[0m",
      "\u001b[0;31mTypeError\u001b[0m                                 Traceback (most recent call last)",
      "Cell \u001b[0;32mIn[2], line 17\u001b[0m\n\u001b[1;32m     14\u001b[0m length \u001b[38;5;241m=\u001b[39m \u001b[38;5;241m0.0\u001b[39m\n\u001b[1;32m     15\u001b[0m hrs_save \u001b[38;5;241m=\u001b[39m \u001b[38;5;241m0\u001b[39m\n\u001b[0;32m---> 17\u001b[0m \u001b[38;5;28;01mfor\u001b[39;00m i \u001b[38;5;129;01min\u001b[39;00m \u001b[43mpbar2\u001b[49m\u001b[43m(\u001b[49m\u001b[38;5;28;43mrange\u001b[39;49m\u001b[43m(\u001b[49m\u001b[38;5;28;43mlen\u001b[39;49m\u001b[43m(\u001b[49m\u001b[43mfile_names\u001b[49m\u001b[43m)\u001b[49m\u001b[43m)\u001b[49m\u001b[43m)\u001b[49m:\n\u001b[1;32m     18\u001b[0m     length \u001b[38;5;241m+\u001b[39m\u001b[38;5;241m=\u001b[39m sox_length(os\u001b[38;5;241m.\u001b[39mpath\u001b[38;5;241m.\u001b[39mjoin(directory_path, \u001b[38;5;124mf\u001b[39m\u001b[38;5;124m'\u001b[39m\u001b[38;5;132;01m{\u001b[39;00mfile_names[i]\u001b[38;5;132;01m}\u001b[39;00m\u001b[38;5;124m.mp3\u001b[39m\u001b[38;5;124m'\u001b[39m))\n\u001b[1;32m     19\u001b[0m     \u001b[38;5;28;01mif\u001b[39;00m (length \u001b[38;5;241m/\u001b[39m\u001b[38;5;241m36000\u001b[39m) \u001b[38;5;241m>\u001b[39m \u001b[38;5;241m1\u001b[39m:\n",
      "\u001b[0;31mTypeError\u001b[0m: 'tqdm' object is not callable"
     ]
    }
   ],
   "source": [
    "import sox\n",
    "import time\n",
    "from tqdm import tqdm\n",
    "\n",
    "pbar2 = tqdm(total=200, position=0)\n",
    "\n",
    "def sox_length(path):\n",
    "    try:\n",
    "        length = sox.file_info.duration(path)\n",
    "        return length\n",
    "    except:\n",
    "        return None\n",
    "\n",
    "length = 0.0\n",
    "hrs_save = 0\n",
    "\n",
    "for i in pbar2(range(len(file_names))):\n",
    "    length += sox_length(os.path.join(directory_path, f'{file_names[i]}.mp3'))\n",
    "    if (length /36000) > 1:\n",
    "        hrs_save = hrs_save + 10\n",
    "        length = length - 36000\n",
    "        \n",
    "hrs = time.strftime(\"%H\", time.gmtime(length))\n",
    "mins = time.strftime(\"%M\", time.gmtime(length))\n",
    "secs = time.strftime(\"%S\", time.gmtime(length))\n",
    "hrs = str(int(hrs) + hrs_save)\n",
    "print(\"Total duration :\", hrs,\"hours\",mins, \"mins\", secs, \"secs\")"
   ]
  },
  {
   "cell_type": "markdown",
   "id": "d9b26a1c",
   "metadata": {},
   "source": [
    "### Play a random audio to check the data quality"
   ]
  },
  {
   "cell_type": "code",
   "execution_count": 17,
   "id": "dfef21d5",
   "metadata": {},
   "outputs": [
    {
     "ename": "NameError",
     "evalue": "name 'directory_path' is not defined",
     "output_type": "error",
     "traceback": [
      "\u001b[0;31m---------------------------------------------------------------------------\u001b[0m",
      "\u001b[0;31mNameError\u001b[0m                                 Traceback (most recent call last)",
      "Cell \u001b[0;32mIn[17], line 5\u001b[0m\n\u001b[1;32m      2\u001b[0m \u001b[38;5;28;01mimport\u001b[39;00m \u001b[38;5;21;01mrandom\u001b[39;00m\n\u001b[1;32m      4\u001b[0m file_id \u001b[38;5;241m=\u001b[39m random\u001b[38;5;241m.\u001b[39mrandint(\u001b[38;5;241m0\u001b[39m, \u001b[38;5;241m1000\u001b[39m)\n\u001b[0;32m----> 5\u001b[0m audio_file \u001b[38;5;241m=\u001b[39m os\u001b[38;5;241m.\u001b[39mpath\u001b[38;5;241m.\u001b[39mjoin(\u001b[43mdirectory_path\u001b[49m, \u001b[38;5;124mf\u001b[39m\u001b[38;5;124m'\u001b[39m\u001b[38;5;132;01m{\u001b[39;00mtrain_path[file_id]\u001b[38;5;132;01m}\u001b[39;00m\u001b[38;5;124m.mp3\u001b[39m\u001b[38;5;124m'\u001b[39m)\n\u001b[1;32m      7\u001b[0m audio \u001b[38;5;241m=\u001b[39m Audio(audio_file)\n\u001b[1;32m      8\u001b[0m display(audio)\n",
      "\u001b[0;31mNameError\u001b[0m: name 'directory_path' is not defined"
     ]
    }
   ],
   "source": [
    "from IPython.display import Audio\n",
    "import random\n",
    "\n",
    "file_id = random.randint(0, 1000)\n",
    "audio_file = os.path.join(directory_path, f'{train_path[file_id]}.mp3')\n",
    "\n",
    "audio = Audio(audio_file)\n",
    "display(audio)\n",
    "print(train_text[file_id])"
   ]
  },
  {
   "cell_type": "code",
   "execution_count": null,
   "id": "4719ed91",
   "metadata": {},
   "outputs": [
    {
     "name": "stdout",
     "output_type": "stream",
     "text": [
      "\n",
      "  _   _          _      _\n",
      " | | | |_ __  __| |__ _| |_ ___\n",
      " | |_| | '_ \\/ _` / _` |  _/ -_)\n",
      "  \\___/| .__/\\__,_\\__,_|\\__\\___|\n",
      "       |_|\n",
      "                       \n",
      "Read the migration plan to Notebook 7 to learn about the new features and the actions to take if you are using extensions.\n",
      "\n",
      "https://jupyter-notebook.readthedocs.io/en/latest/migrate_to_notebook7.html\n",
      "\n",
      "Please note that updating to Notebook 7 might break some of your extensions.\n",
      "\n",
      "\u001b[32m[I 11:55:14.188 NotebookApp]\u001b[m Loading IPython parallel extension\n",
      "\u001b[32m[I 11:55:14.189 NotebookApp]\u001b[m [jupyter_nbextensions_configurator] enabled 0.6.3\n",
      "\u001b[33m[W 11:55:14.189 NotebookApp]\u001b[m Error loading server extension jupyterlab\n",
      "    Traceback (most recent call last):\n",
      "      File \"/home/sourove/.local/lib/python3.10/site-packages/notebook/notebookapp.py\", line 2047, in init_server_extensions\n",
      "        mod = importlib.import_module(modulename)\n",
      "      File \"/usr/lib/python3.10/importlib/__init__.py\", line 126, in import_module\n",
      "        return _bootstrap._gcd_import(name[level:], package, level)\n",
      "      File \"<frozen importlib._bootstrap>\", line 1050, in _gcd_import\n",
      "      File \"<frozen importlib._bootstrap>\", line 1027, in _find_and_load\n",
      "      File \"<frozen importlib._bootstrap>\", line 1004, in _find_and_load_unlocked\n",
      "    ModuleNotFoundError: No module named 'jupyterlab'\n",
      "\u001b[32m[I 11:55:14.202 NotebookApp]\u001b[m The port 8888 is already in use, trying another port.\n",
      "\u001b[32m[I 11:55:14.204 NotebookApp]\u001b[m Serving notebooks from local directory: /home/sourove/Code/Python/torch/deepspeech2-Jupyter\n",
      "\u001b[32m[I 11:55:14.204 NotebookApp]\u001b[m Jupyter Notebook 6.5.4 is running at:\n",
      "\u001b[32m[I 11:55:14.204 NotebookApp]\u001b[m http://localhost:8889/?token=32dc439f079e06d1089f508e2f42bb778b6fb497e2ca9927\n",
      "\u001b[32m[I 11:55:14.204 NotebookApp]\u001b[m  or http://127.0.0.1:8889/?token=32dc439f079e06d1089f508e2f42bb778b6fb497e2ca9927\n",
      "\u001b[32m[I 11:55:14.204 NotebookApp]\u001b[m Use Control-C to stop this server and shut down all kernels (twice to skip confirmation).\n",
      "\u001b[35m[C 11:55:14.220 NotebookApp]\u001b[m \n",
      "    \n",
      "    To access the notebook, open this file in a browser:\n",
      "        file:///home/sourove/.local/share/jupyter/runtime/nbserver-64108-open.html\n",
      "    Or copy and paste one of these URLs:\n",
      "        http://localhost:8889/?token=32dc439f079e06d1089f508e2f42bb778b6fb497e2ca9927\n",
      "     or http://127.0.0.1:8889/?token=32dc439f079e06d1089f508e2f42bb778b6fb497e2ca9927\n"
     ]
    }
   ],
   "source": [
    "!jupyter notebook --NotebookApp.iopub_data_rate_limit=1.0e10"
   ]
  },
  {
   "cell_type": "markdown",
   "id": "19e78025",
   "metadata": {},
   "source": [
    "### Makes a csv file for subset of the data\n",
    "Opens the main_csv_file and selects the file_rows which are already present in the trainable_mp3s folder and creates the subset_csv_file and writes the rows there"
   ]
  },
  {
   "cell_type": "code",
   "execution_count": 2,
   "id": "6606b7fa",
   "metadata": {},
   "outputs": [
    {
     "ename": "NameError",
     "evalue": "name 'file_names' is not defined",
     "output_type": "error",
     "traceback": [
      "\u001b[0;31m---------------------------------------------------------------------------\u001b[0m",
      "\u001b[0;31mNameError\u001b[0m                                 Traceback (most recent call last)",
      "Cell \u001b[0;32mIn[2], line 12\u001b[0m\n\u001b[1;32m     10\u001b[0m reader \u001b[38;5;241m=\u001b[39m csv\u001b[38;5;241m.\u001b[39mDictReader(csvfile, delimiter\u001b[38;5;241m=\u001b[39m\u001b[38;5;124m'\u001b[39m\u001b[38;5;124m,\u001b[39m\u001b[38;5;124m'\u001b[39m)\n\u001b[1;32m     11\u001b[0m \u001b[38;5;28;01mfor\u001b[39;00m row \u001b[38;5;129;01min\u001b[39;00m reader:\n\u001b[0;32m---> 12\u001b[0m     thing_index \u001b[38;5;241m=\u001b[39m file_names\u001b[38;5;241m.\u001b[39mindex(row[\u001b[38;5;124m'\u001b[39m\u001b[38;5;124mid\u001b[39m\u001b[38;5;124m'\u001b[39m]) \u001b[38;5;28;01mif\u001b[39;00m row[\u001b[38;5;124m'\u001b[39m\u001b[38;5;124mid\u001b[39m\u001b[38;5;124m'\u001b[39m] \u001b[38;5;129;01min\u001b[39;00m \u001b[43mfile_names\u001b[49m \u001b[38;5;28;01melse\u001b[39;00m \u001b[38;5;241m-\u001b[39m\u001b[38;5;241m1\u001b[39m\n\u001b[1;32m     13\u001b[0m     \u001b[38;5;28;01mif\u001b[39;00m thing_index \u001b[38;5;241m!=\u001b[39m \u001b[38;5;241m-\u001b[39m\u001b[38;5;241m1\u001b[39m:\n\u001b[1;32m     14\u001b[0m         subset_filenames\u001b[38;5;241m.\u001b[39mappend(row)\n",
      "\u001b[0;31mNameError\u001b[0m: name 'file_names' is not defined"
     ]
    }
   ],
   "source": [
    "import csv\n",
    "\n",
    "# Specify the input and output file paths\n",
    "main_csv_file = 'train.csv'\n",
    "subset_csv_file = 'train2.csv'\n",
    "\n",
    "\n",
    "subset_filenames = []\n",
    "with open(main_csv_file) as csvfile:\n",
    "    reader = csv.DictReader(csvfile, delimiter=',')\n",
    "    for row in reader:\n",
    "        thing_index = file_names.index(row['id']) if row['id'] in file_names else -1\n",
    "        if thing_index != -1:\n",
    "            subset_filenames.append(row)\n",
    "            \n",
    "\n",
    "with open(subset_csv_file, mode='w', newline='') as csv_file:\n",
    "    csv_writer = csv.DictWriter(csv_file, fieldnames=subset_filenames[0].keys())\n",
    "    csv_writer.writeheader()\n",
    "    for i in range(len(subset_filenames)):\n",
    "        csv_writer.writerow(subset_filenames[i])"
   ]
  },
  {
   "cell_type": "code",
   "execution_count": 23,
   "id": "a0f1ca2c",
   "metadata": {},
   "outputs": [],
   "source": [
    "# !cat train2.csv | wc -l"
   ]
  },
  {
   "cell_type": "code",
   "execution_count": null,
   "id": "ca119db5",
   "metadata": {},
   "outputs": [],
   "source": []
  },
  {
   "cell_type": "code",
   "execution_count": null,
   "id": "f0dd432f",
   "metadata": {},
   "outputs": [],
   "source": []
  },
  {
   "cell_type": "code",
   "execution_count": 37,
   "id": "67366f30",
   "metadata": {},
   "outputs": [],
   "source": []
  },
  {
   "cell_type": "code",
   "execution_count": 10,
   "id": "2cf5bd39",
   "metadata": {},
   "outputs": [],
   "source": [
    "import os\n",
    "\n",
    "def createIfNotExist(path):\n",
    "    isExist = os.path.exists(path)\n",
    "    if not isExist:\n",
    "        os.makedirs(path)"
   ]
  },
  {
   "cell_type": "markdown",
   "id": "43d3b442",
   "metadata": {},
   "source": [
    "### Converting to wav file and txt file from csv and mp3 file into data directory"
   ]
  },
  {
   "cell_type": "code",
   "execution_count": 12,
   "id": "9bd3251a",
   "metadata": {},
   "outputs": [],
   "source": [
    "import os \n",
    "import csv\n",
    "\n",
    "# from multiprocessing.pool import ThreadPool\n",
    "from sox import Transformer\n",
    "import tqdm\n",
    "\n",
    "\n",
    "# data_dir = os.path.join(\"./\", \"data2\")\n",
    "# train_dir = os.path.join(data_dir, \"train\")\n",
    "# valid_dir = os.path.join(data_dir, \"valid\")\n",
    "# createIfNotExist(subset_data_dir)\n",
    "\n",
    "\n",
    "subset_csv = os.path.join(\"./\", \"train2.csv\")\n",
    "mp3_dir = os.path.join(\"\", \"./trainable_mp3s\")\n",
    "\n",
    "subset_data_dir = os.path.join(\"./\", \"data2\")\n",
    "subset_train_dir = os.path.join(subset_data_dir, \"train\")\n",
    "subset_train_wav_dir = os.path.join(subset_train_dir, \"wav\")\n",
    "subset_train_txt_dir = os.path.join(subset_train_dir, \"txt\")\n",
    "\n",
    "subset_valid_dir = os.path.join(subset_data_dir, \"valid\")\n",
    "subset_valid_wav_dir = os.path.join(subset_valid_dir, \"wav\")\n",
    "subset_valid_txt_dir = os.path.join(subset_valid_dir, \"txt\")\n",
    "\n",
    "createIfNotExist(subset_train_wav_dir)\n",
    "createIfNotExist(subset_train_txt_dir)\n",
    "\n",
    "createIfNotExist(subset_valid_wav_dir)\n",
    "createIfNotExist(subset_valid_txt_dir)"
   ]
  },
  {
   "cell_type": "code",
   "execution_count": 26,
   "id": "b6faec07",
   "metadata": {},
   "outputs": [],
   "source": [
    "from sox import Transformer\n",
    "from tqdm import tqdm\n",
    "\n",
    "\n",
    "def process(x, train_valid_dir):\n",
    "    wav_dir = os.path.join(train_valid_dir, \"wav\")\n",
    "    txt_dir = os.path.join(train_valid_dir, \"txt\")\n",
    "    file_name, text, _ = x\n",
    "#     file_name = os.path.splitext(os.path.basename(file_path))[0]\n",
    "#     print(file_path, file_name)\n",
    "    text = text.strip()\n",
    "    with open(os.path.join(txt_dir, file_name + '.txt'), 'w') as f:\n",
    "        f.write(text)\n",
    "    audio_path = os.path.join(mp3_dir, f'{file_name}.mp3')\n",
    "    output_wav_path = os.path.join(wav_dir, file_name + '.wav')\n",
    "\n",
    "    tfm = Transformer()\n",
    "    tfm.rate(samplerate=16000)\n",
    "    tfm.build(\n",
    "        input_filepath=audio_path,\n",
    "        output_filepath=output_wav_path\n",
    "    )\n",
    "\n",
    "\n",
    "def convertToWavTxt(csv_file, data_dir):\n",
    "    train_dir = os.path.join(data_dir, \"train\")\n",
    "    valid_dir = os.path.join(data_dir, \"valid\")\n",
    "    with open(csv_file) as csvfile:\n",
    "        \n",
    "        reader = csv.DictReader(csvfile, delimiter=',')\n",
    "        data = [(row['id'], row['sentence'], row['split']) for row in reader]\n",
    "        for i in tqdm(range(len(data))):\n",
    "            if data[i][2] == 'train':\n",
    "                process(data[i], train_dir)\n",
    "            else:\n",
    "                process(data[i], valid_dir)"
   ]
  },
  {
   "cell_type": "code",
   "execution_count": 27,
   "id": "f33eed6f",
   "metadata": {},
   "outputs": [
    {
     "ename": "NameError",
     "evalue": "name 'subset_csv' is not defined",
     "output_type": "error",
     "traceback": [
      "\u001b[0;31m---------------------------------------------------------------------------\u001b[0m",
      "\u001b[0;31mNameError\u001b[0m                                 Traceback (most recent call last)",
      "Cell \u001b[0;32mIn[27], line 1\u001b[0m\n\u001b[0;32m----> 1\u001b[0m convertToWavTxt(\u001b[43msubset_csv\u001b[49m, subset_data_dir)\n",
      "\u001b[0;31mNameError\u001b[0m: name 'subset_csv' is not defined"
     ]
    }
   ],
   "source": [
    "convertToWavTxt(subset_csv, subset_data_dir)"
   ]
  },
  {
   "cell_type": "code",
   "execution_count": null,
   "id": "15ebb231",
   "metadata": {},
   "outputs": [],
   "source": []
  },
  {
   "cell_type": "markdown",
   "id": "4efd848c",
   "metadata": {},
   "source": [
    "### Creating manifest.json file"
   ]
  },
  {
   "cell_type": "code",
   "execution_count": 2,
   "id": "27794ae7",
   "metadata": {},
   "outputs": [],
   "source": [
    "# data[:50]"
   ]
  },
  {
   "cell_type": "code",
   "execution_count": 29,
   "id": "7c4c0655",
   "metadata": {},
   "outputs": [],
   "source": [
    "# file_paths = []\n",
    "# with open(csvPath) as csvfile:\n",
    "#     reader = csv.reader(csvfile)\n",
    "#     heading = next(reader)\n",
    "#     for row in reader:\n",
    "#         file_paths.append(row[0])"
   ]
  },
  {
   "cell_type": "markdown",
   "id": "48831639",
   "metadata": {},
   "source": [
    "### Parse if the wav is for train set or valid set"
   ]
  },
  {
   "cell_type": "code",
   "execution_count": 4,
   "id": "661bb994",
   "metadata": {},
   "outputs": [],
   "source": [
    "import csv\n",
    "\n",
    "def parseTrainValid(filepath):\n",
    "    train_path = []\n",
    "    valid_path = []\n",
    "    with open(filepath) as csvfile:\n",
    "        spamreader = csv.DictReader(csvfile, delimiter=',')\n",
    "        for row in spamreader:\n",
    "            if row['split'] == 'train':\n",
    "                train_path.append(row['id'])\n",
    "            else:\n",
    "                valid_path.append(row['id'])\n",
    "                \n",
    "    return (train_path, valid_path)"
   ]
  },
  {
   "cell_type": "code",
   "execution_count": 5,
   "id": "db699b5f",
   "metadata": {},
   "outputs": [],
   "source": [
    "train_path, valid_path = parseTrainValid('train2.csv')"
   ]
  },
  {
   "cell_type": "code",
   "execution_count": 8,
   "id": "7abc2008",
   "metadata": {},
   "outputs": [
    {
     "name": "stdout",
     "output_type": "stream",
     "text": [
      "3\n"
     ]
    }
   ],
   "source": [
    "print(len(valid_path))"
   ]
  },
  {
   "cell_type": "code",
   "execution_count": null,
   "id": "c967aa99",
   "metadata": {},
   "outputs": [],
   "source": []
  },
  {
   "cell_type": "code",
   "execution_count": 13,
   "id": "0baf0c0c",
   "metadata": {},
   "outputs": [],
   "source": [
    "import json\n",
    "from pathlib import Path\n",
    "\n",
    "# data_path = os.path.join(data_dir, \"wav\")\n",
    "subset_abs_train = os.path.abspath(subset_train_dir)\n",
    "subset_abs_valid = os.path.abspath(subset_valid_dir)\n",
    "\n",
    "\n",
    "# valid_path = os.path.abspath(valid_dir)\n",
    "# data_path = os.path.abspath(data_dir)\n",
    "\n",
    "\n",
    "def makeManifest(manifest_path, rootpath:str, files:list):\n",
    "    \n",
    "    output_name =  \"manifest.json\"\n",
    "    output_path = Path(manifest_path) / output_name\n",
    "    manifest = {\n",
    "        'root_path': rootpath,\n",
    "        'samples': []\n",
    "    }\n",
    "\n",
    "    for file_path in tqdm.tqdm(files):\n",
    "        wav_path = os.path.join(f'wav/{file_path}.wav')\n",
    "        transcript_path = os.path.join(f'txt/{file_path}.txt')\n",
    "        manifest['samples'].append({\n",
    "            'wav_path': wav_path,\n",
    "            'transcript_path': transcript_path\n",
    "        })\n",
    "\n",
    "    output_path.write_text(json.dumps(manifest), encoding='utf8')"
   ]
  },
  {
   "cell_type": "code",
   "execution_count": 16,
   "id": "a73f6a05",
   "metadata": {},
   "outputs": [
    {
     "name": "stderr",
     "output_type": "stream",
     "text": [
      "100%|███████████████████████████████████████████████████████████████████████████████| 97/97 [00:00<00:00, 198850.19it/s]\n",
      "100%|██████████████████████████████████████████████████████████████████████████████████| 3/3 [00:00<00:00, 38597.89it/s]\n"
     ]
    }
   ],
   "source": [
    "makeManifest(subset_train_dir, subset_abs_train, train_path)\n",
    "makeManifest(subset_valid_dir, subset_abs_valid, valid_path)"
   ]
  },
  {
   "cell_type": "code",
   "execution_count": 17,
   "id": "20f41763",
   "metadata": {},
   "outputs": [],
   "source": [
    "def _duration_file_path(path):\n",
    "    return path, sox.file_info.duration(path)\n",
    "\n",
    "\n",
    "def order_and_prune_files(\n",
    "        file_paths,\n",
    "        min_duration,\n",
    "        max_duration,\n",
    "        num_workers):\n",
    "    print(\"Gathering durations...\")\n",
    "    with Pool(processes=num_workers) as p:\n",
    "        duration_file_paths = list(tqdm(p.imap(_duration_file_path, file_paths), total=len(file_paths)))\n",
    "    print(\"Sorting manifests...\")\n",
    "    if min_duration and max_duration:\n",
    "        print(\"Pruning manifests between %d and %d seconds\" % (min_duration, max_duration))\n",
    "        duration_file_paths = [(path, duration) for path, duration in duration_file_paths if\n",
    "                               min_duration <= duration <= max_duration]\n",
    "\n",
    "    total_duration = sum([x[1] for x in duration_file_paths])\n",
    "    print(f\"Total duration of split: {total_duration:.4f}s\")\n",
    "    return [x[0] for x in duration_file_paths]  # Remove durations\n",
    "\n",
    "\n"
   ]
  },
  {
   "cell_type": "markdown",
   "id": "b3b1c582",
   "metadata": {},
   "source": [
    "### Select the data from train.csv and write in train2.csv based on trainable_mp3s folder"
   ]
  },
  {
   "cell_type": "code",
   "execution_count": null,
   "id": "946ee6a4",
   "metadata": {},
   "outputs": [],
   "source": []
  },
  {
   "cell_type": "code",
   "execution_count": null,
   "id": "82f92edd",
   "metadata": {},
   "outputs": [],
   "source": []
  },
  {
   "cell_type": "code",
   "execution_count": null,
   "id": "cdcf8c7d",
   "metadata": {},
   "outputs": [],
   "source": [
    "# import\n",
    "from bnunicodenormalizer import Normalizer \n",
    "from pprint import pprint\n",
    "# initialize\n",
    "bnorm=Normalizer()\n",
    "# normalize\n",
    "word = 'াটোবাকো'\n",
    "result=bnorm(word)\n",
    "print(f\"Non-norm:{word}; Norm:{result['normalized']}\")\n",
    "print(\"--------------------------------------------------\")\n",
    "pprint(result)"
   ]
  },
  {
   "cell_type": "code",
   "execution_count": null,
   "id": "656a2dfe",
   "metadata": {},
   "outputs": [],
   "source": [
    "# initialize without english (default)\n",
    "norm=Normalizer()\n",
    "print(\"without english:\",norm(\"ASD123\")[\"normalized\"])\n",
    "# --> returns None\n",
    "norm=Normalizer(allow_english=True)\n",
    "print(\"with english:\",norm(\"ASD123\")[\"normalized\"])"
   ]
  },
  {
   "cell_type": "code",
   "execution_count": null,
   "id": "76785c96",
   "metadata": {},
   "outputs": [],
   "source": [
    "transcript = list(filter(None, [labels_map.get(x) for x in list(result['normalized'])]))"
   ]
  },
  {
   "cell_type": "code",
   "execution_count": null,
   "id": "dc054f98",
   "metadata": {},
   "outputs": [],
   "source": []
  },
  {
   "cell_type": "code",
   "execution_count": null,
   "id": "c5da79c5",
   "metadata": {},
   "outputs": [],
   "source": []
  },
  {
   "cell_type": "code",
   "execution_count": null,
   "id": "6ee3407c",
   "metadata": {},
   "outputs": [],
   "source": []
  },
  {
   "cell_type": "code",
   "execution_count": 8,
   "id": "b46e228f",
   "metadata": {},
   "outputs": [
    {
     "name": "stdout",
     "output_type": "stream",
     "text": [
      "Spliced first 1000 rows from 'train.csv' and wrote to 'train2.csv'.\n"
     ]
    }
   ],
   "source": [
    "import csv\n",
    "\n",
    "# Specify the input and output file paths\n",
    "input_csv_file = 'train.csv'\n",
    "output_csv_file = 'train2.csv'\n",
    "\n",
    "# Open the input CSV file in read mode\n",
    "with open(input_csv_file, mode='r', newline='') as input_file:\n",
    "    # Create a CSV reader\n",
    "    csv_reader = csv.reader(input_file)\n",
    "\n",
    "    # Read the header row\n",
    "    header = next(csv_reader)\n",
    "\n",
    "    # Read and store the first 1000 rows\n",
    "    rows_to_write = []\n",
    "    for i, row in enumerate(csv_reader):\n",
    "#         if i < 1000:\n",
    "        rows_to_write.extend(row[1])\n",
    "#             print(row[1])\n",
    "#         else:\n",
    "#             break\n",
    "\n",
    "# Open the output CSV file in write mode\n",
    "# with open(output_csv_file, mode='w', newline='') as output_file:\n",
    "#     # Create a CSV writer\n",
    "#     csv_writer = csv.writer(output_file)\n",
    "\n",
    "#     # Write the header row\n",
    "#     csv_writer.writerow(header)\n",
    "\n",
    "#     # Write the selected rows\n",
    "#     csv_writer.writerows(rows_to_write)\n",
    "\n",
    "print(f\"Spliced first 1000 rows from '{input_csv_file}' and wrote to '{output_csv_file}'.\")\n"
   ]
  },
  {
   "cell_type": "code",
   "execution_count": 13,
   "id": "941f532a",
   "metadata": {},
   "outputs": [
    {
     "name": "stdout",
     "output_type": "stream",
     "text": [
      "{'ফ', ' ', 'া', 'ৈ', '৷', 'ঋ', \"'\", 'খ', 'ঙ', 'উ', '…', '‚', 'ধ', 'ূ', 'য়', ':', ';', 'ক', '?', '–', 'ঠ', 'ও', 'গ', '“', 'থ', 'শ', 'ঁ', 'ে', '—', '॥', 'ৃ', 'ড', 'ঢ়', 'ভ', 'অ', 'ন', 'ৗ', '!', 'ি', 'ঢ', 'ব', 'চ', '”', 'ঘ', 'ষ', '/', '-', 'ঐ', 'স', 'হ', 'আ', 'ত', 'ছ', 'ট', 'ঊ', 'র', 'প', 'ং', '.', '়', 'ঞ', 'ৰ', 'জ', 'ঈ', 'ঃ', 'ণ', '’', 'ৌ', 'এ', 'ল', '\"', '‘', 'ু', ',', 'ৎ', '্', 'য', 'দ', 'ঝ', '৵', 'ো', 'ই', 'ঔ', 'ড়', '।', 'ম', 'ী'}\n"
     ]
    }
   ],
   "source": [
    "len(rows_to_write)\n",
    "myset = set(rows_to_write)\n",
    "print(myset)"
   ]
  },
  {
   "cell_type": "code",
   "execution_count": 15,
   "id": "de95ed33",
   "metadata": {},
   "outputs": [
    {
     "data": {
      "text/plain": [
       "{' ',\n",
       " '!',\n",
       " '\"',\n",
       " \"'\",\n",
       " ',',\n",
       " '-',\n",
       " '.',\n",
       " '/',\n",
       " ':',\n",
       " ';',\n",
       " '?',\n",
       " '।',\n",
       " '॥',\n",
       " 'ঁ',\n",
       " 'ং',\n",
       " 'ঃ',\n",
       " 'অ',\n",
       " 'আ',\n",
       " 'ই',\n",
       " 'ঈ',\n",
       " 'উ',\n",
       " 'ঊ',\n",
       " 'ঋ',\n",
       " 'এ',\n",
       " 'ঐ',\n",
       " 'ও',\n",
       " 'ঔ',\n",
       " 'ক',\n",
       " 'খ',\n",
       " 'গ',\n",
       " 'ঘ',\n",
       " 'ঙ',\n",
       " 'চ',\n",
       " 'ছ',\n",
       " 'জ',\n",
       " 'ঝ',\n",
       " 'ঞ',\n",
       " 'ট',\n",
       " 'ঠ',\n",
       " 'ড',\n",
       " 'ঢ',\n",
       " 'ণ',\n",
       " 'ত',\n",
       " 'থ',\n",
       " 'দ',\n",
       " 'ধ',\n",
       " 'ন',\n",
       " 'প',\n",
       " 'ফ',\n",
       " 'ব',\n",
       " 'ভ',\n",
       " 'ম',\n",
       " 'য',\n",
       " 'র',\n",
       " 'ল',\n",
       " 'শ',\n",
       " 'ষ',\n",
       " 'স',\n",
       " 'হ',\n",
       " '়',\n",
       " 'া',\n",
       " 'ি',\n",
       " 'ী',\n",
       " 'ু',\n",
       " 'ূ',\n",
       " 'ৃ',\n",
       " 'ে',\n",
       " 'ৈ',\n",
       " 'ো',\n",
       " 'ৌ',\n",
       " '্',\n",
       " 'ৎ',\n",
       " 'ৗ',\n",
       " 'ড়',\n",
       " 'ঢ়',\n",
       " 'য়',\n",
       " 'ৰ',\n",
       " '৵',\n",
       " '৷',\n",
       " '–',\n",
       " '—',\n",
       " '‘',\n",
       " '’',\n",
       " '‚',\n",
       " '“',\n",
       " '”',\n",
       " '…'}"
      ]
     },
     "execution_count": 15,
     "metadata": {},
     "output_type": "execute_result"
    }
   ],
   "source": [
    "myset"
   ]
  },
  {
   "cell_type": "code",
   "execution_count": 18,
   "id": "bccb27c2",
   "metadata": {},
   "outputs": [],
   "source": [
    "labels = [\n",
    " ' ',\n",
    " '!',\n",
    " '\"',\n",
    " \"'\",\n",
    " ',',\n",
    " '-',\n",
    " '.',\n",
    " '/',\n",
    " ':',\n",
    " ';',\n",
    " '?',\n",
    " '।',\n",
    " '॥',\n",
    " 'ঁ',\n",
    " 'ং',\n",
    " 'ঃ',\n",
    " 'অ',\n",
    " 'আ',\n",
    " 'ই',\n",
    " 'ঈ',\n",
    " 'উ',\n",
    " 'ঊ',\n",
    " 'ঋ',\n",
    " 'এ',\n",
    " 'ঐ',\n",
    " 'ও',\n",
    " 'ঔ',\n",
    " 'ক',\n",
    " 'খ',\n",
    " 'গ',\n",
    " 'ঘ',\n",
    " 'ঙ',\n",
    " 'চ',\n",
    " 'ছ',\n",
    " 'জ',\n",
    " 'ঝ',\n",
    " 'ঞ',\n",
    " 'ট',\n",
    " 'ঠ',\n",
    " 'ড',\n",
    " 'ঢ',\n",
    " 'ণ',\n",
    " 'ত',\n",
    " 'থ',\n",
    " 'দ',\n",
    " 'ধ',\n",
    " 'ন',\n",
    " 'প',\n",
    " 'ফ',\n",
    " 'ব',\n",
    " 'ভ',\n",
    " 'ম',\n",
    " 'য',\n",
    " 'র',\n",
    " 'ল',\n",
    " 'শ',\n",
    " 'ষ',\n",
    " 'স',\n",
    " 'হ',\n",
    " '়',\n",
    " 'া',\n",
    " 'ি',\n",
    " 'ী',\n",
    " 'ু',\n",
    " 'ূ',\n",
    " 'ৃ',\n",
    " 'ে',\n",
    " 'ৈ',\n",
    " 'ো',\n",
    " 'ৌ',\n",
    " '্',\n",
    " 'ৎ',\n",
    " 'ৗ',\n",
    " 'ড়',\n",
    " 'ঢ়',\n",
    " 'য়',\n",
    " 'ৰ',\n",
    " '৵',\n",
    " '৷',\n",
    " '–',\n",
    " '—',\n",
    " '‘',\n",
    " '’',\n",
    " '‚',\n",
    " '“',\n",
    " '”',\n",
    " '…'\n",
    "]"
   ]
  },
  {
   "cell_type": "code",
   "execution_count": 26,
   "id": "26dbf76e",
   "metadata": {},
   "outputs": [
    {
     "data": {
      "text/plain": [
       "87"
      ]
     },
     "execution_count": 26,
     "metadata": {},
     "output_type": "execute_result"
    }
   ],
   "source": [
    "len(labels)"
   ]
  },
  {
   "cell_type": "code",
   "execution_count": 23,
   "id": "767f8693",
   "metadata": {},
   "outputs": [],
   "source": [
    "a = '–'\n",
    "b = '—'"
   ]
  },
  {
   "cell_type": "code",
   "execution_count": 25,
   "id": "2f799ef8",
   "metadata": {},
   "outputs": [
    {
     "name": "stdout",
     "output_type": "stream",
     "text": [
      "8211 8212\n"
     ]
    }
   ],
   "source": [
    "print(ord(a), ord(b))"
   ]
  },
  {
   "cell_type": "code",
   "execution_count": null,
   "id": "cd817b49",
   "metadata": {},
   "outputs": [],
   "source": []
  }
 ],
 "metadata": {
  "kernelspec": {
   "display_name": "env",
   "language": "python",
   "name": "env"
  },
  "language_info": {
   "codemirror_mode": {
    "name": "ipython",
    "version": 3
   },
   "file_extension": ".py",
   "mimetype": "text/x-python",
   "name": "python",
   "nbconvert_exporter": "python",
   "pygments_lexer": "ipython3",
   "version": "3.10.12"
  }
 },
 "nbformat": 4,
 "nbformat_minor": 5
}
